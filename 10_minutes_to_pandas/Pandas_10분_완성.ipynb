{
  "nbformat": 4,
  "nbformat_minor": 0,
  "metadata": {
    "colab": {
      "name": "Pandas 10분 완성.ipynb",
      "provenance": [],
      "collapsed_sections": [],
      "authorship_tag": "ABX9TyMuuSK/SRt4qBjv4Xi7/B21",
      "include_colab_link": true
    },
    "kernelspec": {
      "name": "python3",
      "display_name": "Python 3"
    }
  },
  "cells": [
    {
      "cell_type": "markdown",
      "metadata": {
        "id": "view-in-github",
        "colab_type": "text"
      },
      "source": [
        "<a href=\"https://colab.research.google.com/github/ne-choi/textbook/blob/main/10_minutes_to_pandas/Pandas_10%EB%B6%84_%EC%99%84%EC%84%B1.ipynb\" target=\"_parent\"><img src=\"https://colab.research.google.com/assets/colab-badge.svg\" alt=\"Open In Colab\"/></a>"
      ]
    },
    {
      "cell_type": "markdown",
      "metadata": {
        "id": "xSaJdgV141dV"
      },
      "source": [
        "# **Pandas 10분 완성(10 Minutes to Pandas) 필사**\n",
        "**출처: 데잇걸즈2 번역 자료**\n",
        "\n",
        "**목차**\n",
        "1. Object Creation (객체 생성)  \n",
        "2. Viewing Data (데이터 확인하기)  \n",
        "3. Selection (선택)  \n",
        "4. Missing Data (결측치)  \n",
        "5. Operation (연산)  \n",
        "6. Merge (병합)\n",
        "7. Grouping (그룹화)\n",
        "8. Reshaping (변형)\n",
        "9. Time Series (시계열)\n",
        "10. Categoricals (범주화)\n",
        "11. Plotting (그래프)\n",
        "12. Getting Data In / Out (데이터 입 / 출력)\n",
        "13. Gotchas (잡았다!)\n"
      ]
    },
    {
      "cell_type": "code",
      "metadata": {
        "id": "bQKAKtir5U7G"
      },
      "source": [
        "# 패키지 불러오기\n",
        "\n",
        "import pandas as pd\n",
        "import numpy as np\n",
        "import matplotlib.pyplot as plt"
      ],
      "execution_count": 2,
      "outputs": []
    },
    {
      "cell_type": "markdown",
      "metadata": {
        "id": "QJSa7bL35noH"
      },
      "source": [
        "## **1. Object Creation**\n",
        "[- 참고: 데이터 구조 소개 섹션](https://pandas.pydata.org/pandas-docs/stable/user_guide/dsintro.html)\n",
        "\n",
        "Pansdas는 값을 가지고 있는 리스트를 통해 [Series](https://pandas.pydata.org/pandas-docs/stable/reference/api/pandas.Series.html)를 만들고, 정수로 만들어진 인덱스를 기본값으로 불러온다."
      ]
    },
    {
      "cell_type": "code",
      "metadata": {
        "id": "HVPFOjE458jf",
        "outputId": "09e58880-a2e2-445a-ba91-d4395fb7c366",
        "colab": {
          "base_uri": "https://localhost:8080/"
        }
      },
      "source": [
        "s = pd.Series([1, 3, 5, np.nan, 6, 8])\n",
        "s"
      ],
      "execution_count": 3,
      "outputs": [
        {
          "output_type": "execute_result",
          "data": {
            "text/plain": [
              "0    1.0\n",
              "1    3.0\n",
              "2    5.0\n",
              "3    NaN\n",
              "4    6.0\n",
              "5    8.0\n",
              "dtype: float64"
            ]
          },
          "metadata": {
            "tags": []
          },
          "execution_count": 3
        }
      ]
    },
    {
      "cell_type": "markdown",
      "metadata": {
        "id": "5MZay3pM6EQS"
      },
      "source": [
        "datetime 인덱스와 레이블이 있는 열을 가진 numpy 배열을 전달하여 데이터프레임을 만든다."
      ]
    },
    {
      "cell_type": "code",
      "metadata": {
        "id": "YYioilEh6KVX",
        "outputId": "2105397e-72be-41f0-c579-6ac883d71572",
        "colab": {
          "base_uri": "https://localhost:8080/"
        }
      },
      "source": [
        "dates = pd.date_range('20130101', periods = 6)\n",
        "dates"
      ],
      "execution_count": 4,
      "outputs": [
        {
          "output_type": "execute_result",
          "data": {
            "text/plain": [
              "DatetimeIndex(['2013-01-01', '2013-01-02', '2013-01-03', '2013-01-04',\n",
              "               '2013-01-05', '2013-01-06'],\n",
              "              dtype='datetime64[ns]', freq='D')"
            ]
          },
          "metadata": {
            "tags": []
          },
          "execution_count": 4
        }
      ]
    },
    {
      "cell_type": "code",
      "metadata": {
        "id": "6x4Q4TmB6c8I",
        "outputId": "aa866fdd-5a73-4644-ad72-738d10a74b4f",
        "colab": {
          "base_uri": "https://localhost:8080/",
          "height": 233
        }
      },
      "source": [
        "df = pd.DataFrame(np.random.randn(6, 4), index = dates, columns = list('ABCD'))\n",
        "df"
      ],
      "execution_count": 5,
      "outputs": [
        {
          "output_type": "execute_result",
          "data": {
            "text/html": [
              "<div>\n",
              "<style scoped>\n",
              "    .dataframe tbody tr th:only-of-type {\n",
              "        vertical-align: middle;\n",
              "    }\n",
              "\n",
              "    .dataframe tbody tr th {\n",
              "        vertical-align: top;\n",
              "    }\n",
              "\n",
              "    .dataframe thead th {\n",
              "        text-align: right;\n",
              "    }\n",
              "</style>\n",
              "<table border=\"1\" class=\"dataframe\">\n",
              "  <thead>\n",
              "    <tr style=\"text-align: right;\">\n",
              "      <th></th>\n",
              "      <th>A</th>\n",
              "      <th>B</th>\n",
              "      <th>C</th>\n",
              "      <th>D</th>\n",
              "    </tr>\n",
              "  </thead>\n",
              "  <tbody>\n",
              "    <tr>\n",
              "      <th>2013-01-01</th>\n",
              "      <td>0.602200</td>\n",
              "      <td>1.371136</td>\n",
              "      <td>-0.871471</td>\n",
              "      <td>-1.369219</td>\n",
              "    </tr>\n",
              "    <tr>\n",
              "      <th>2013-01-02</th>\n",
              "      <td>0.479680</td>\n",
              "      <td>-0.060165</td>\n",
              "      <td>0.482536</td>\n",
              "      <td>0.358786</td>\n",
              "    </tr>\n",
              "    <tr>\n",
              "      <th>2013-01-03</th>\n",
              "      <td>-0.439281</td>\n",
              "      <td>-0.939198</td>\n",
              "      <td>1.366428</td>\n",
              "      <td>-1.845967</td>\n",
              "    </tr>\n",
              "    <tr>\n",
              "      <th>2013-01-04</th>\n",
              "      <td>0.335354</td>\n",
              "      <td>-0.226875</td>\n",
              "      <td>-0.052475</td>\n",
              "      <td>1.137469</td>\n",
              "    </tr>\n",
              "    <tr>\n",
              "      <th>2013-01-05</th>\n",
              "      <td>1.743132</td>\n",
              "      <td>-0.457479</td>\n",
              "      <td>0.044569</td>\n",
              "      <td>-0.500767</td>\n",
              "    </tr>\n",
              "    <tr>\n",
              "      <th>2013-01-06</th>\n",
              "      <td>-0.048809</td>\n",
              "      <td>-2.437072</td>\n",
              "      <td>-0.376757</td>\n",
              "      <td>2.254009</td>\n",
              "    </tr>\n",
              "  </tbody>\n",
              "</table>\n",
              "</div>"
            ],
            "text/plain": [
              "                   A         B         C         D\n",
              "2013-01-01  0.602200  1.371136 -0.871471 -1.369219\n",
              "2013-01-02  0.479680 -0.060165  0.482536  0.358786\n",
              "2013-01-03 -0.439281 -0.939198  1.366428 -1.845967\n",
              "2013-01-04  0.335354 -0.226875 -0.052475  1.137469\n",
              "2013-01-05  1.743132 -0.457479  0.044569 -0.500767\n",
              "2013-01-06 -0.048809 -2.437072 -0.376757  2.254009"
            ]
          },
          "metadata": {
            "tags": []
          },
          "execution_count": 5
        }
      ]
    },
    {
      "cell_type": "markdown",
      "metadata": {
        "id": "Z2Pvjp-36d1z"
      },
      "source": [
        "Series와 같은 것으로 변환될 수 있는 객체들의 dict로 구성된 데이터프레임을 만든다."
      ]
    },
    {
      "cell_type": "code",
      "metadata": {
        "id": "HrdpgYyP6ibg",
        "outputId": "b756d5ab-d91d-4130-8aa0-422da4502520",
        "colab": {
          "base_uri": "https://localhost:8080/",
          "height": 171
        }
      },
      "source": [
        "df2 = pd.DataFrame({'A': 1.,\n",
        "                    'B': pd.Timestamp('20130102'),\n",
        "                    'C': pd.Series(1, index = list(range(4)), dtype = 'float32'),\n",
        "                    'D': np.array([3] * 4, dtype = 'int32'),\n",
        "                    'E': pd.Categorical([\"test\", \"train\", \"test\", \"train\"]),\n",
        "                    'F': 'foo'})\n",
        "df2"
      ],
      "execution_count": 6,
      "outputs": [
        {
          "output_type": "execute_result",
          "data": {
            "text/html": [
              "<div>\n",
              "<style scoped>\n",
              "    .dataframe tbody tr th:only-of-type {\n",
              "        vertical-align: middle;\n",
              "    }\n",
              "\n",
              "    .dataframe tbody tr th {\n",
              "        vertical-align: top;\n",
              "    }\n",
              "\n",
              "    .dataframe thead th {\n",
              "        text-align: right;\n",
              "    }\n",
              "</style>\n",
              "<table border=\"1\" class=\"dataframe\">\n",
              "  <thead>\n",
              "    <tr style=\"text-align: right;\">\n",
              "      <th></th>\n",
              "      <th>A</th>\n",
              "      <th>B</th>\n",
              "      <th>C</th>\n",
              "      <th>D</th>\n",
              "      <th>E</th>\n",
              "      <th>F</th>\n",
              "    </tr>\n",
              "  </thead>\n",
              "  <tbody>\n",
              "    <tr>\n",
              "      <th>0</th>\n",
              "      <td>1.0</td>\n",
              "      <td>2013-01-02</td>\n",
              "      <td>1.0</td>\n",
              "      <td>3</td>\n",
              "      <td>test</td>\n",
              "      <td>foo</td>\n",
              "    </tr>\n",
              "    <tr>\n",
              "      <th>1</th>\n",
              "      <td>1.0</td>\n",
              "      <td>2013-01-02</td>\n",
              "      <td>1.0</td>\n",
              "      <td>3</td>\n",
              "      <td>train</td>\n",
              "      <td>foo</td>\n",
              "    </tr>\n",
              "    <tr>\n",
              "      <th>2</th>\n",
              "      <td>1.0</td>\n",
              "      <td>2013-01-02</td>\n",
              "      <td>1.0</td>\n",
              "      <td>3</td>\n",
              "      <td>test</td>\n",
              "      <td>foo</td>\n",
              "    </tr>\n",
              "    <tr>\n",
              "      <th>3</th>\n",
              "      <td>1.0</td>\n",
              "      <td>2013-01-02</td>\n",
              "      <td>1.0</td>\n",
              "      <td>3</td>\n",
              "      <td>train</td>\n",
              "      <td>foo</td>\n",
              "    </tr>\n",
              "  </tbody>\n",
              "</table>\n",
              "</div>"
            ],
            "text/plain": [
              "     A          B    C  D      E    F\n",
              "0  1.0 2013-01-02  1.0  3   test  foo\n",
              "1  1.0 2013-01-02  1.0  3  train  foo\n",
              "2  1.0 2013-01-02  1.0  3   test  foo\n",
              "3  1.0 2013-01-02  1.0  3  train  foo"
            ]
          },
          "metadata": {
            "tags": []
          },
          "execution_count": 6
        }
      ]
    },
    {
      "cell_type": "code",
      "metadata": {
        "id": "avrhZSha75yU",
        "outputId": "fe7d2389-7a73-43da-cf92-01055fe90b63",
        "colab": {
          "base_uri": "https://localhost:8080/"
        }
      },
      "source": [
        "df2.dtypes"
      ],
      "execution_count": 7,
      "outputs": [
        {
          "output_type": "execute_result",
          "data": {
            "text/plain": [
              "A           float64\n",
              "B    datetime64[ns]\n",
              "C           float32\n",
              "D             int32\n",
              "E          category\n",
              "F            object\n",
              "dtype: object"
            ]
          },
          "metadata": {
            "tags": []
          },
          "execution_count": 7
        }
      ]
    },
    {
      "cell_type": "markdown",
      "metadata": {
        "id": "PbyMCk--7686"
      },
      "source": [
        "## **2. Viewing Data**\n",
        "[- 참고: Basic Section](https://pandas.pydata.org/pandas-docs/stable/user_guide/basics.html)  \n",
        "\n",
        "데이터프레임의 가장 윗줄과 마지막 줄을 확인하고 싶을 때 사용하는 방법 알아보기."
      ]
    },
    {
      "cell_type": "code",
      "metadata": {
        "id": "JdX7WpmA8VeJ",
        "outputId": "e8de506f-c54e-40fe-c417-98656c62b126",
        "colab": {
          "base_uri": "https://localhost:8080/",
          "height": 141
        }
      },
      "source": [
        "# 괄호() 안에 숫자를 넣으면 (숫자)줄을 불러오고 넣지 않으면 기본값인 5개를 불러옴\n",
        "\n",
        "df.tail(3)"
      ],
      "execution_count": 8,
      "outputs": [
        {
          "output_type": "execute_result",
          "data": {
            "text/html": [
              "<div>\n",
              "<style scoped>\n",
              "    .dataframe tbody tr th:only-of-type {\n",
              "        vertical-align: middle;\n",
              "    }\n",
              "\n",
              "    .dataframe tbody tr th {\n",
              "        vertical-align: top;\n",
              "    }\n",
              "\n",
              "    .dataframe thead th {\n",
              "        text-align: right;\n",
              "    }\n",
              "</style>\n",
              "<table border=\"1\" class=\"dataframe\">\n",
              "  <thead>\n",
              "    <tr style=\"text-align: right;\">\n",
              "      <th></th>\n",
              "      <th>A</th>\n",
              "      <th>B</th>\n",
              "      <th>C</th>\n",
              "      <th>D</th>\n",
              "    </tr>\n",
              "  </thead>\n",
              "  <tbody>\n",
              "    <tr>\n",
              "      <th>2013-01-04</th>\n",
              "      <td>0.335354</td>\n",
              "      <td>-0.226875</td>\n",
              "      <td>-0.052475</td>\n",
              "      <td>1.137469</td>\n",
              "    </tr>\n",
              "    <tr>\n",
              "      <th>2013-01-05</th>\n",
              "      <td>1.743132</td>\n",
              "      <td>-0.457479</td>\n",
              "      <td>0.044569</td>\n",
              "      <td>-0.500767</td>\n",
              "    </tr>\n",
              "    <tr>\n",
              "      <th>2013-01-06</th>\n",
              "      <td>-0.048809</td>\n",
              "      <td>-2.437072</td>\n",
              "      <td>-0.376757</td>\n",
              "      <td>2.254009</td>\n",
              "    </tr>\n",
              "  </tbody>\n",
              "</table>\n",
              "</div>"
            ],
            "text/plain": [
              "                   A         B         C         D\n",
              "2013-01-04  0.335354 -0.226875 -0.052475  1.137469\n",
              "2013-01-05  1.743132 -0.457479  0.044569 -0.500767\n",
              "2013-01-06 -0.048809 -2.437072 -0.376757  2.254009"
            ]
          },
          "metadata": {
            "tags": []
          },
          "execution_count": 8
        }
      ]
    },
    {
      "cell_type": "code",
      "metadata": {
        "id": "nAzYPXXp8ipF",
        "outputId": "ae9d9031-11d1-41a0-82e8-1ac9c832d001",
        "colab": {
          "base_uri": "https://localhost:8080/",
          "height": 202
        }
      },
      "source": [
        "df.head()"
      ],
      "execution_count": 9,
      "outputs": [
        {
          "output_type": "execute_result",
          "data": {
            "text/html": [
              "<div>\n",
              "<style scoped>\n",
              "    .dataframe tbody tr th:only-of-type {\n",
              "        vertical-align: middle;\n",
              "    }\n",
              "\n",
              "    .dataframe tbody tr th {\n",
              "        vertical-align: top;\n",
              "    }\n",
              "\n",
              "    .dataframe thead th {\n",
              "        text-align: right;\n",
              "    }\n",
              "</style>\n",
              "<table border=\"1\" class=\"dataframe\">\n",
              "  <thead>\n",
              "    <tr style=\"text-align: right;\">\n",
              "      <th></th>\n",
              "      <th>A</th>\n",
              "      <th>B</th>\n",
              "      <th>C</th>\n",
              "      <th>D</th>\n",
              "    </tr>\n",
              "  </thead>\n",
              "  <tbody>\n",
              "    <tr>\n",
              "      <th>2013-01-01</th>\n",
              "      <td>0.602200</td>\n",
              "      <td>1.371136</td>\n",
              "      <td>-0.871471</td>\n",
              "      <td>-1.369219</td>\n",
              "    </tr>\n",
              "    <tr>\n",
              "      <th>2013-01-02</th>\n",
              "      <td>0.479680</td>\n",
              "      <td>-0.060165</td>\n",
              "      <td>0.482536</td>\n",
              "      <td>0.358786</td>\n",
              "    </tr>\n",
              "    <tr>\n",
              "      <th>2013-01-03</th>\n",
              "      <td>-0.439281</td>\n",
              "      <td>-0.939198</td>\n",
              "      <td>1.366428</td>\n",
              "      <td>-1.845967</td>\n",
              "    </tr>\n",
              "    <tr>\n",
              "      <th>2013-01-04</th>\n",
              "      <td>0.335354</td>\n",
              "      <td>-0.226875</td>\n",
              "      <td>-0.052475</td>\n",
              "      <td>1.137469</td>\n",
              "    </tr>\n",
              "    <tr>\n",
              "      <th>2013-01-05</th>\n",
              "      <td>1.743132</td>\n",
              "      <td>-0.457479</td>\n",
              "      <td>0.044569</td>\n",
              "      <td>-0.500767</td>\n",
              "    </tr>\n",
              "  </tbody>\n",
              "</table>\n",
              "</div>"
            ],
            "text/plain": [
              "                   A         B         C         D\n",
              "2013-01-01  0.602200  1.371136 -0.871471 -1.369219\n",
              "2013-01-02  0.479680 -0.060165  0.482536  0.358786\n",
              "2013-01-03 -0.439281 -0.939198  1.366428 -1.845967\n",
              "2013-01-04  0.335354 -0.226875 -0.052475  1.137469\n",
              "2013-01-05  1.743132 -0.457479  0.044569 -0.500767"
            ]
          },
          "metadata": {
            "tags": []
          },
          "execution_count": 9
        }
      ]
    },
    {
      "cell_type": "markdown",
      "metadata": {
        "id": "a6uEU1dP8lZ9"
      },
      "source": [
        "index, column, numpy 데이터 세부 정보를 알아보자."
      ]
    },
    {
      "cell_type": "code",
      "metadata": {
        "id": "a9_61NCz8sch",
        "outputId": "92e87c54-2283-48ca-fd5d-b2ecc75d66b6",
        "colab": {
          "base_uri": "https://localhost:8080/"
        }
      },
      "source": [
        "df.index"
      ],
      "execution_count": 10,
      "outputs": [
        {
          "output_type": "execute_result",
          "data": {
            "text/plain": [
              "DatetimeIndex(['2013-01-01', '2013-01-02', '2013-01-03', '2013-01-04',\n",
              "               '2013-01-05', '2013-01-06'],\n",
              "              dtype='datetime64[ns]', freq='D')"
            ]
          },
          "metadata": {
            "tags": []
          },
          "execution_count": 10
        }
      ]
    },
    {
      "cell_type": "code",
      "metadata": {
        "id": "0A2Goupc8tzF",
        "outputId": "1bde565d-c728-4f26-b8b4-ac427f8ddae8",
        "colab": {
          "base_uri": "https://localhost:8080/"
        }
      },
      "source": [
        "df.columns"
      ],
      "execution_count": 11,
      "outputs": [
        {
          "output_type": "execute_result",
          "data": {
            "text/plain": [
              "Index(['A', 'B', 'C', 'D'], dtype='object')"
            ]
          },
          "metadata": {
            "tags": []
          },
          "execution_count": 11
        }
      ]
    },
    {
      "cell_type": "code",
      "metadata": {
        "id": "DZ5JSr7c8urA",
        "outputId": "8fdebcfd-47ba-4b07-c091-37cf4dbaa95a",
        "colab": {
          "base_uri": "https://localhost:8080/"
        }
      },
      "source": [
        "df.values"
      ],
      "execution_count": 12,
      "outputs": [
        {
          "output_type": "execute_result",
          "data": {
            "text/plain": [
              "array([[ 0.60219964,  1.37113554, -0.8714707 , -1.36921855],\n",
              "       [ 0.4796801 , -0.06016503,  0.48253603,  0.35878569],\n",
              "       [-0.4392807 , -0.9391977 ,  1.36642825, -1.84596652],\n",
              "       [ 0.33535393, -0.22687458, -0.0524749 ,  1.13746926],\n",
              "       [ 1.74313218, -0.45747899,  0.04456915, -0.50076714],\n",
              "       [-0.04880899, -2.43707208, -0.37675697,  2.25400944]])"
            ]
          },
          "metadata": {
            "tags": []
          },
          "execution_count": 12
        }
      ]
    },
    {
      "cell_type": "code",
      "metadata": {
        "id": "3KXgT79N8x3A",
        "outputId": "e1692134-5f2f-4b46-c560-151cd70c2a0f",
        "colab": {
          "base_uri": "https://localhost:8080/",
          "height": 294
        }
      },
      "source": [
        "df.describe() # 데이터의 대략적인 통계적 정보 요약을 보여줌"
      ],
      "execution_count": 13,
      "outputs": [
        {
          "output_type": "execute_result",
          "data": {
            "text/html": [
              "<div>\n",
              "<style scoped>\n",
              "    .dataframe tbody tr th:only-of-type {\n",
              "        vertical-align: middle;\n",
              "    }\n",
              "\n",
              "    .dataframe tbody tr th {\n",
              "        vertical-align: top;\n",
              "    }\n",
              "\n",
              "    .dataframe thead th {\n",
              "        text-align: right;\n",
              "    }\n",
              "</style>\n",
              "<table border=\"1\" class=\"dataframe\">\n",
              "  <thead>\n",
              "    <tr style=\"text-align: right;\">\n",
              "      <th></th>\n",
              "      <th>A</th>\n",
              "      <th>B</th>\n",
              "      <th>C</th>\n",
              "      <th>D</th>\n",
              "    </tr>\n",
              "  </thead>\n",
              "  <tbody>\n",
              "    <tr>\n",
              "      <th>count</th>\n",
              "      <td>6.000000</td>\n",
              "      <td>6.000000</td>\n",
              "      <td>6.000000</td>\n",
              "      <td>6.000000</td>\n",
              "    </tr>\n",
              "    <tr>\n",
              "      <th>mean</th>\n",
              "      <td>0.445379</td>\n",
              "      <td>-0.458275</td>\n",
              "      <td>0.098805</td>\n",
              "      <td>0.005719</td>\n",
              "    </tr>\n",
              "    <tr>\n",
              "      <th>std</th>\n",
              "      <td>0.741469</td>\n",
              "      <td>1.241427</td>\n",
              "      <td>0.767794</td>\n",
              "      <td>1.551518</td>\n",
              "    </tr>\n",
              "    <tr>\n",
              "      <th>min</th>\n",
              "      <td>-0.439281</td>\n",
              "      <td>-2.437072</td>\n",
              "      <td>-0.871471</td>\n",
              "      <td>-1.845967</td>\n",
              "    </tr>\n",
              "    <tr>\n",
              "      <th>25%</th>\n",
              "      <td>0.047232</td>\n",
              "      <td>-0.818768</td>\n",
              "      <td>-0.295686</td>\n",
              "      <td>-1.152106</td>\n",
              "    </tr>\n",
              "    <tr>\n",
              "      <th>50%</th>\n",
              "      <td>0.407517</td>\n",
              "      <td>-0.342177</td>\n",
              "      <td>-0.003953</td>\n",
              "      <td>-0.070991</td>\n",
              "    </tr>\n",
              "    <tr>\n",
              "      <th>75%</th>\n",
              "      <td>0.571570</td>\n",
              "      <td>-0.101842</td>\n",
              "      <td>0.373044</td>\n",
              "      <td>0.942798</td>\n",
              "    </tr>\n",
              "    <tr>\n",
              "      <th>max</th>\n",
              "      <td>1.743132</td>\n",
              "      <td>1.371136</td>\n",
              "      <td>1.366428</td>\n",
              "      <td>2.254009</td>\n",
              "    </tr>\n",
              "  </tbody>\n",
              "</table>\n",
              "</div>"
            ],
            "text/plain": [
              "              A         B         C         D\n",
              "count  6.000000  6.000000  6.000000  6.000000\n",
              "mean   0.445379 -0.458275  0.098805  0.005719\n",
              "std    0.741469  1.241427  0.767794  1.551518\n",
              "min   -0.439281 -2.437072 -0.871471 -1.845967\n",
              "25%    0.047232 -0.818768 -0.295686 -1.152106\n",
              "50%    0.407517 -0.342177 -0.003953 -0.070991\n",
              "75%    0.571570 -0.101842  0.373044  0.942798\n",
              "max    1.743132  1.371136  1.366428  2.254009"
            ]
          },
          "metadata": {
            "tags": []
          },
          "execution_count": 13
        }
      ]
    },
    {
      "cell_type": "code",
      "metadata": {
        "id": "MJTKlY2A82ct",
        "outputId": "f8ffbd8f-b996-4afc-fac8-5a23ed5e0f95",
        "colab": {
          "base_uri": "https://localhost:8080/",
          "height": 171
        }
      },
      "source": [
        "df.T # 데이터 전치"
      ],
      "execution_count": 14,
      "outputs": [
        {
          "output_type": "execute_result",
          "data": {
            "text/html": [
              "<div>\n",
              "<style scoped>\n",
              "    .dataframe tbody tr th:only-of-type {\n",
              "        vertical-align: middle;\n",
              "    }\n",
              "\n",
              "    .dataframe tbody tr th {\n",
              "        vertical-align: top;\n",
              "    }\n",
              "\n",
              "    .dataframe thead th {\n",
              "        text-align: right;\n",
              "    }\n",
              "</style>\n",
              "<table border=\"1\" class=\"dataframe\">\n",
              "  <thead>\n",
              "    <tr style=\"text-align: right;\">\n",
              "      <th></th>\n",
              "      <th>2013-01-01</th>\n",
              "      <th>2013-01-02</th>\n",
              "      <th>2013-01-03</th>\n",
              "      <th>2013-01-04</th>\n",
              "      <th>2013-01-05</th>\n",
              "      <th>2013-01-06</th>\n",
              "    </tr>\n",
              "  </thead>\n",
              "  <tbody>\n",
              "    <tr>\n",
              "      <th>A</th>\n",
              "      <td>0.602200</td>\n",
              "      <td>0.479680</td>\n",
              "      <td>-0.439281</td>\n",
              "      <td>0.335354</td>\n",
              "      <td>1.743132</td>\n",
              "      <td>-0.048809</td>\n",
              "    </tr>\n",
              "    <tr>\n",
              "      <th>B</th>\n",
              "      <td>1.371136</td>\n",
              "      <td>-0.060165</td>\n",
              "      <td>-0.939198</td>\n",
              "      <td>-0.226875</td>\n",
              "      <td>-0.457479</td>\n",
              "      <td>-2.437072</td>\n",
              "    </tr>\n",
              "    <tr>\n",
              "      <th>C</th>\n",
              "      <td>-0.871471</td>\n",
              "      <td>0.482536</td>\n",
              "      <td>1.366428</td>\n",
              "      <td>-0.052475</td>\n",
              "      <td>0.044569</td>\n",
              "      <td>-0.376757</td>\n",
              "    </tr>\n",
              "    <tr>\n",
              "      <th>D</th>\n",
              "      <td>-1.369219</td>\n",
              "      <td>0.358786</td>\n",
              "      <td>-1.845967</td>\n",
              "      <td>1.137469</td>\n",
              "      <td>-0.500767</td>\n",
              "      <td>2.254009</td>\n",
              "    </tr>\n",
              "  </tbody>\n",
              "</table>\n",
              "</div>"
            ],
            "text/plain": [
              "   2013-01-01  2013-01-02  2013-01-03  2013-01-04  2013-01-05  2013-01-06\n",
              "A    0.602200    0.479680   -0.439281    0.335354    1.743132   -0.048809\n",
              "B    1.371136   -0.060165   -0.939198   -0.226875   -0.457479   -2.437072\n",
              "C   -0.871471    0.482536    1.366428   -0.052475    0.044569   -0.376757\n",
              "D   -1.369219    0.358786   -1.845967    1.137469   -0.500767    2.254009"
            ]
          },
          "metadata": {
            "tags": []
          },
          "execution_count": 14
        }
      ]
    },
    {
      "cell_type": "code",
      "metadata": {
        "id": "Tzaypf2n84MH",
        "outputId": "bbf08786-6f08-4285-bbeb-9e54ee08462c",
        "colab": {
          "base_uri": "https://localhost:8080/",
          "height": 233
        }
      },
      "source": [
        "df.sort_index(axis = 1, ascending = False) # 축별로 정리"
      ],
      "execution_count": 15,
      "outputs": [
        {
          "output_type": "execute_result",
          "data": {
            "text/html": [
              "<div>\n",
              "<style scoped>\n",
              "    .dataframe tbody tr th:only-of-type {\n",
              "        vertical-align: middle;\n",
              "    }\n",
              "\n",
              "    .dataframe tbody tr th {\n",
              "        vertical-align: top;\n",
              "    }\n",
              "\n",
              "    .dataframe thead th {\n",
              "        text-align: right;\n",
              "    }\n",
              "</style>\n",
              "<table border=\"1\" class=\"dataframe\">\n",
              "  <thead>\n",
              "    <tr style=\"text-align: right;\">\n",
              "      <th></th>\n",
              "      <th>D</th>\n",
              "      <th>C</th>\n",
              "      <th>B</th>\n",
              "      <th>A</th>\n",
              "    </tr>\n",
              "  </thead>\n",
              "  <tbody>\n",
              "    <tr>\n",
              "      <th>2013-01-01</th>\n",
              "      <td>-1.369219</td>\n",
              "      <td>-0.871471</td>\n",
              "      <td>1.371136</td>\n",
              "      <td>0.602200</td>\n",
              "    </tr>\n",
              "    <tr>\n",
              "      <th>2013-01-02</th>\n",
              "      <td>0.358786</td>\n",
              "      <td>0.482536</td>\n",
              "      <td>-0.060165</td>\n",
              "      <td>0.479680</td>\n",
              "    </tr>\n",
              "    <tr>\n",
              "      <th>2013-01-03</th>\n",
              "      <td>-1.845967</td>\n",
              "      <td>1.366428</td>\n",
              "      <td>-0.939198</td>\n",
              "      <td>-0.439281</td>\n",
              "    </tr>\n",
              "    <tr>\n",
              "      <th>2013-01-04</th>\n",
              "      <td>1.137469</td>\n",
              "      <td>-0.052475</td>\n",
              "      <td>-0.226875</td>\n",
              "      <td>0.335354</td>\n",
              "    </tr>\n",
              "    <tr>\n",
              "      <th>2013-01-05</th>\n",
              "      <td>-0.500767</td>\n",
              "      <td>0.044569</td>\n",
              "      <td>-0.457479</td>\n",
              "      <td>1.743132</td>\n",
              "    </tr>\n",
              "    <tr>\n",
              "      <th>2013-01-06</th>\n",
              "      <td>2.254009</td>\n",
              "      <td>-0.376757</td>\n",
              "      <td>-2.437072</td>\n",
              "      <td>-0.048809</td>\n",
              "    </tr>\n",
              "  </tbody>\n",
              "</table>\n",
              "</div>"
            ],
            "text/plain": [
              "                   D         C         B         A\n",
              "2013-01-01 -1.369219 -0.871471  1.371136  0.602200\n",
              "2013-01-02  0.358786  0.482536 -0.060165  0.479680\n",
              "2013-01-03 -1.845967  1.366428 -0.939198 -0.439281\n",
              "2013-01-04  1.137469 -0.052475 -0.226875  0.335354\n",
              "2013-01-05 -0.500767  0.044569 -0.457479  1.743132\n",
              "2013-01-06  2.254009 -0.376757 -2.437072 -0.048809"
            ]
          },
          "metadata": {
            "tags": []
          },
          "execution_count": 15
        }
      ]
    },
    {
      "cell_type": "code",
      "metadata": {
        "id": "77waGo079ACj",
        "outputId": "ae92a795-d332-426e-8f50-3f41758bd229",
        "colab": {
          "base_uri": "https://localhost:8080/",
          "height": 233
        }
      },
      "source": [
        "df.sort_values(by = 'B') # 값별로 정렬"
      ],
      "execution_count": 16,
      "outputs": [
        {
          "output_type": "execute_result",
          "data": {
            "text/html": [
              "<div>\n",
              "<style scoped>\n",
              "    .dataframe tbody tr th:only-of-type {\n",
              "        vertical-align: middle;\n",
              "    }\n",
              "\n",
              "    .dataframe tbody tr th {\n",
              "        vertical-align: top;\n",
              "    }\n",
              "\n",
              "    .dataframe thead th {\n",
              "        text-align: right;\n",
              "    }\n",
              "</style>\n",
              "<table border=\"1\" class=\"dataframe\">\n",
              "  <thead>\n",
              "    <tr style=\"text-align: right;\">\n",
              "      <th></th>\n",
              "      <th>A</th>\n",
              "      <th>B</th>\n",
              "      <th>C</th>\n",
              "      <th>D</th>\n",
              "    </tr>\n",
              "  </thead>\n",
              "  <tbody>\n",
              "    <tr>\n",
              "      <th>2013-01-06</th>\n",
              "      <td>-0.048809</td>\n",
              "      <td>-2.437072</td>\n",
              "      <td>-0.376757</td>\n",
              "      <td>2.254009</td>\n",
              "    </tr>\n",
              "    <tr>\n",
              "      <th>2013-01-03</th>\n",
              "      <td>-0.439281</td>\n",
              "      <td>-0.939198</td>\n",
              "      <td>1.366428</td>\n",
              "      <td>-1.845967</td>\n",
              "    </tr>\n",
              "    <tr>\n",
              "      <th>2013-01-05</th>\n",
              "      <td>1.743132</td>\n",
              "      <td>-0.457479</td>\n",
              "      <td>0.044569</td>\n",
              "      <td>-0.500767</td>\n",
              "    </tr>\n",
              "    <tr>\n",
              "      <th>2013-01-04</th>\n",
              "      <td>0.335354</td>\n",
              "      <td>-0.226875</td>\n",
              "      <td>-0.052475</td>\n",
              "      <td>1.137469</td>\n",
              "    </tr>\n",
              "    <tr>\n",
              "      <th>2013-01-02</th>\n",
              "      <td>0.479680</td>\n",
              "      <td>-0.060165</td>\n",
              "      <td>0.482536</td>\n",
              "      <td>0.358786</td>\n",
              "    </tr>\n",
              "    <tr>\n",
              "      <th>2013-01-01</th>\n",
              "      <td>0.602200</td>\n",
              "      <td>1.371136</td>\n",
              "      <td>-0.871471</td>\n",
              "      <td>-1.369219</td>\n",
              "    </tr>\n",
              "  </tbody>\n",
              "</table>\n",
              "</div>"
            ],
            "text/plain": [
              "                   A         B         C         D\n",
              "2013-01-06 -0.048809 -2.437072 -0.376757  2.254009\n",
              "2013-01-03 -0.439281 -0.939198  1.366428 -1.845967\n",
              "2013-01-05  1.743132 -0.457479  0.044569 -0.500767\n",
              "2013-01-04  0.335354 -0.226875 -0.052475  1.137469\n",
              "2013-01-02  0.479680 -0.060165  0.482536  0.358786\n",
              "2013-01-01  0.602200  1.371136 -0.871471 -1.369219"
            ]
          },
          "metadata": {
            "tags": []
          },
          "execution_count": 16
        }
      ]
    },
    {
      "cell_type": "markdown",
      "metadata": {
        "id": "ya7o63fX9Eh_"
      },
      "source": [
        "## **3. Selection**  \n",
        "* 주석: Pandas에 최적화된 데이터 접근 방법인 .at, .iat, .loc, .iloc 사용  \n",
        "\n",
        "[- 참고: 데이터 인덱싱 및 선택](https://pandas.pydata.org/pandas-docs/stable/user_guide/indexing.html), [다중 인덱싱/심화 인덱싱](https://pandas.pydata.org/pandas-docs/stable/user_guide/advanced.html)"
      ]
    },
    {
      "cell_type": "markdown",
      "metadata": {
        "id": "OlUtfCYW9hUP"
      },
      "source": [
        "### *** Getting(데이터 얻기)**  \n",
        "df.A와 동일한 Series를 생성하는 단일 열을 선택한다."
      ]
    },
    {
      "cell_type": "code",
      "metadata": {
        "id": "zrP17CWh9tPV",
        "outputId": "4ff1f0f6-99f3-4f26-a9e6-153c1dc57189",
        "colab": {
          "base_uri": "https://localhost:8080/"
        }
      },
      "source": [
        "df['A']"
      ],
      "execution_count": 17,
      "outputs": [
        {
          "output_type": "execute_result",
          "data": {
            "text/plain": [
              "2013-01-01    0.602200\n",
              "2013-01-02    0.479680\n",
              "2013-01-03   -0.439281\n",
              "2013-01-04    0.335354\n",
              "2013-01-05    1.743132\n",
              "2013-01-06   -0.048809\n",
              "Freq: D, Name: A, dtype: float64"
            ]
          },
          "metadata": {
            "tags": []
          },
          "execution_count": 17
        }
      ]
    },
    {
      "cell_type": "code",
      "metadata": {
        "id": "zmhkrleH9vyH",
        "outputId": "402bde8f-4f14-49cb-88f7-2e7e22c3c58d",
        "colab": {
          "base_uri": "https://localhost:8080/",
          "height": 141
        }
      },
      "source": [
        "df[0:3]"
      ],
      "execution_count": 18,
      "outputs": [
        {
          "output_type": "execute_result",
          "data": {
            "text/html": [
              "<div>\n",
              "<style scoped>\n",
              "    .dataframe tbody tr th:only-of-type {\n",
              "        vertical-align: middle;\n",
              "    }\n",
              "\n",
              "    .dataframe tbody tr th {\n",
              "        vertical-align: top;\n",
              "    }\n",
              "\n",
              "    .dataframe thead th {\n",
              "        text-align: right;\n",
              "    }\n",
              "</style>\n",
              "<table border=\"1\" class=\"dataframe\">\n",
              "  <thead>\n",
              "    <tr style=\"text-align: right;\">\n",
              "      <th></th>\n",
              "      <th>A</th>\n",
              "      <th>B</th>\n",
              "      <th>C</th>\n",
              "      <th>D</th>\n",
              "    </tr>\n",
              "  </thead>\n",
              "  <tbody>\n",
              "    <tr>\n",
              "      <th>2013-01-01</th>\n",
              "      <td>0.602200</td>\n",
              "      <td>1.371136</td>\n",
              "      <td>-0.871471</td>\n",
              "      <td>-1.369219</td>\n",
              "    </tr>\n",
              "    <tr>\n",
              "      <th>2013-01-02</th>\n",
              "      <td>0.479680</td>\n",
              "      <td>-0.060165</td>\n",
              "      <td>0.482536</td>\n",
              "      <td>0.358786</td>\n",
              "    </tr>\n",
              "    <tr>\n",
              "      <th>2013-01-03</th>\n",
              "      <td>-0.439281</td>\n",
              "      <td>-0.939198</td>\n",
              "      <td>1.366428</td>\n",
              "      <td>-1.845967</td>\n",
              "    </tr>\n",
              "  </tbody>\n",
              "</table>\n",
              "</div>"
            ],
            "text/plain": [
              "                   A         B         C         D\n",
              "2013-01-01  0.602200  1.371136 -0.871471 -1.369219\n",
              "2013-01-02  0.479680 -0.060165  0.482536  0.358786\n",
              "2013-01-03 -0.439281 -0.939198  1.366428 -1.845967"
            ]
          },
          "metadata": {
            "tags": []
          },
          "execution_count": 18
        }
      ]
    },
    {
      "cell_type": "code",
      "metadata": {
        "id": "Vo98mhup9x99",
        "outputId": "44abed3d-72b5-40d6-d213-90a391e59feb",
        "colab": {
          "base_uri": "https://localhost:8080/",
          "height": 141
        }
      },
      "source": [
        "df['20130102':'20130104']"
      ],
      "execution_count": 19,
      "outputs": [
        {
          "output_type": "execute_result",
          "data": {
            "text/html": [
              "<div>\n",
              "<style scoped>\n",
              "    .dataframe tbody tr th:only-of-type {\n",
              "        vertical-align: middle;\n",
              "    }\n",
              "\n",
              "    .dataframe tbody tr th {\n",
              "        vertical-align: top;\n",
              "    }\n",
              "\n",
              "    .dataframe thead th {\n",
              "        text-align: right;\n",
              "    }\n",
              "</style>\n",
              "<table border=\"1\" class=\"dataframe\">\n",
              "  <thead>\n",
              "    <tr style=\"text-align: right;\">\n",
              "      <th></th>\n",
              "      <th>A</th>\n",
              "      <th>B</th>\n",
              "      <th>C</th>\n",
              "      <th>D</th>\n",
              "    </tr>\n",
              "  </thead>\n",
              "  <tbody>\n",
              "    <tr>\n",
              "      <th>2013-01-02</th>\n",
              "      <td>0.479680</td>\n",
              "      <td>-0.060165</td>\n",
              "      <td>0.482536</td>\n",
              "      <td>0.358786</td>\n",
              "    </tr>\n",
              "    <tr>\n",
              "      <th>2013-01-03</th>\n",
              "      <td>-0.439281</td>\n",
              "      <td>-0.939198</td>\n",
              "      <td>1.366428</td>\n",
              "      <td>-1.845967</td>\n",
              "    </tr>\n",
              "    <tr>\n",
              "      <th>2013-01-04</th>\n",
              "      <td>0.335354</td>\n",
              "      <td>-0.226875</td>\n",
              "      <td>-0.052475</td>\n",
              "      <td>1.137469</td>\n",
              "    </tr>\n",
              "  </tbody>\n",
              "</table>\n",
              "</div>"
            ],
            "text/plain": [
              "                   A         B         C         D\n",
              "2013-01-02  0.479680 -0.060165  0.482536  0.358786\n",
              "2013-01-03 -0.439281 -0.939198  1.366428 -1.845967\n",
              "2013-01-04  0.335354 -0.226875 -0.052475  1.137469"
            ]
          },
          "metadata": {
            "tags": []
          },
          "execution_count": 19
        }
      ]
    },
    {
      "cell_type": "markdown",
      "metadata": {
        "id": "gL-MwzmE933D"
      },
      "source": [
        "### *** Selection by Label**  \n",
        "[- 참고: Label을 통한 선택](https://pandas.pydata.org/pandas-docs/stable/user_guide/indexing.html)"
      ]
    },
    {
      "cell_type": "code",
      "metadata": {
        "id": "V2lZZDDc-DJJ",
        "outputId": "1bb9304f-37b7-4f1e-a4ef-378f2a418e02",
        "colab": {
          "base_uri": "https://localhost:8080/"
        }
      },
      "source": [
        "# 라벨을 사용하여 횡단면 얻기\n",
        "df.loc[dates[0]]"
      ],
      "execution_count": 20,
      "outputs": [
        {
          "output_type": "execute_result",
          "data": {
            "text/plain": [
              "A    0.602200\n",
              "B    1.371136\n",
              "C   -0.871471\n",
              "D   -1.369219\n",
              "Name: 2013-01-01 00:00:00, dtype: float64"
            ]
          },
          "metadata": {
            "tags": []
          },
          "execution_count": 20
        }
      ]
    },
    {
      "cell_type": "code",
      "metadata": {
        "id": "QWsAz6u--N6-",
        "outputId": "d16c5878-3aab-42d9-8723-54c87bbcd2c3",
        "colab": {
          "base_uri": "https://localhost:8080/",
          "height": 233
        }
      },
      "source": [
        "# 라벨을 사용하여 여러 축(의 데이터) 얻기\n",
        "df.loc[:, ['A', 'B']]"
      ],
      "execution_count": 21,
      "outputs": [
        {
          "output_type": "execute_result",
          "data": {
            "text/html": [
              "<div>\n",
              "<style scoped>\n",
              "    .dataframe tbody tr th:only-of-type {\n",
              "        vertical-align: middle;\n",
              "    }\n",
              "\n",
              "    .dataframe tbody tr th {\n",
              "        vertical-align: top;\n",
              "    }\n",
              "\n",
              "    .dataframe thead th {\n",
              "        text-align: right;\n",
              "    }\n",
              "</style>\n",
              "<table border=\"1\" class=\"dataframe\">\n",
              "  <thead>\n",
              "    <tr style=\"text-align: right;\">\n",
              "      <th></th>\n",
              "      <th>A</th>\n",
              "      <th>B</th>\n",
              "    </tr>\n",
              "  </thead>\n",
              "  <tbody>\n",
              "    <tr>\n",
              "      <th>2013-01-01</th>\n",
              "      <td>0.602200</td>\n",
              "      <td>1.371136</td>\n",
              "    </tr>\n",
              "    <tr>\n",
              "      <th>2013-01-02</th>\n",
              "      <td>0.479680</td>\n",
              "      <td>-0.060165</td>\n",
              "    </tr>\n",
              "    <tr>\n",
              "      <th>2013-01-03</th>\n",
              "      <td>-0.439281</td>\n",
              "      <td>-0.939198</td>\n",
              "    </tr>\n",
              "    <tr>\n",
              "      <th>2013-01-04</th>\n",
              "      <td>0.335354</td>\n",
              "      <td>-0.226875</td>\n",
              "    </tr>\n",
              "    <tr>\n",
              "      <th>2013-01-05</th>\n",
              "      <td>1.743132</td>\n",
              "      <td>-0.457479</td>\n",
              "    </tr>\n",
              "    <tr>\n",
              "      <th>2013-01-06</th>\n",
              "      <td>-0.048809</td>\n",
              "      <td>-2.437072</td>\n",
              "    </tr>\n",
              "  </tbody>\n",
              "</table>\n",
              "</div>"
            ],
            "text/plain": [
              "                   A         B\n",
              "2013-01-01  0.602200  1.371136\n",
              "2013-01-02  0.479680 -0.060165\n",
              "2013-01-03 -0.439281 -0.939198\n",
              "2013-01-04  0.335354 -0.226875\n",
              "2013-01-05  1.743132 -0.457479\n",
              "2013-01-06 -0.048809 -2.437072"
            ]
          },
          "metadata": {
            "tags": []
          },
          "execution_count": 21
        }
      ]
    },
    {
      "cell_type": "code",
      "metadata": {
        "id": "a9TUoZtK-W7N",
        "outputId": "42acd72e-c595-4979-a030-bddc6586648c",
        "colab": {
          "base_uri": "https://localhost:8080/",
          "height": 141
        }
      },
      "source": [
        "# 양쪽 종단점을 포함한 라벨 슬라이싱 보기\n",
        "df.loc['20130102':'20130104', ['A', 'B']]"
      ],
      "execution_count": 22,
      "outputs": [
        {
          "output_type": "execute_result",
          "data": {
            "text/html": [
              "<div>\n",
              "<style scoped>\n",
              "    .dataframe tbody tr th:only-of-type {\n",
              "        vertical-align: middle;\n",
              "    }\n",
              "\n",
              "    .dataframe tbody tr th {\n",
              "        vertical-align: top;\n",
              "    }\n",
              "\n",
              "    .dataframe thead th {\n",
              "        text-align: right;\n",
              "    }\n",
              "</style>\n",
              "<table border=\"1\" class=\"dataframe\">\n",
              "  <thead>\n",
              "    <tr style=\"text-align: right;\">\n",
              "      <th></th>\n",
              "      <th>A</th>\n",
              "      <th>B</th>\n",
              "    </tr>\n",
              "  </thead>\n",
              "  <tbody>\n",
              "    <tr>\n",
              "      <th>2013-01-02</th>\n",
              "      <td>0.479680</td>\n",
              "      <td>-0.060165</td>\n",
              "    </tr>\n",
              "    <tr>\n",
              "      <th>2013-01-03</th>\n",
              "      <td>-0.439281</td>\n",
              "      <td>-0.939198</td>\n",
              "    </tr>\n",
              "    <tr>\n",
              "      <th>2013-01-04</th>\n",
              "      <td>0.335354</td>\n",
              "      <td>-0.226875</td>\n",
              "    </tr>\n",
              "  </tbody>\n",
              "</table>\n",
              "</div>"
            ],
            "text/plain": [
              "                   A         B\n",
              "2013-01-02  0.479680 -0.060165\n",
              "2013-01-03 -0.439281 -0.939198\n",
              "2013-01-04  0.335354 -0.226875"
            ]
          },
          "metadata": {
            "tags": []
          },
          "execution_count": 22
        }
      ]
    },
    {
      "cell_type": "code",
      "metadata": {
        "id": "z0sKMNSY-hJx",
        "outputId": "cc5b2b39-7acd-4661-9b76-1b11656893da",
        "colab": {
          "base_uri": "https://localhost:8080/"
        }
      },
      "source": [
        "# 반환되는 객체의 차원 줄이기\n",
        "df.loc['20130102', ['A', 'B']]"
      ],
      "execution_count": 23,
      "outputs": [
        {
          "output_type": "execute_result",
          "data": {
            "text/plain": [
              "A    0.479680\n",
              "B   -0.060165\n",
              "Name: 2013-01-02 00:00:00, dtype: float64"
            ]
          },
          "metadata": {
            "tags": []
          },
          "execution_count": 23
        }
      ]
    },
    {
      "cell_type": "code",
      "metadata": {
        "id": "EgP3R1zp-l4D",
        "outputId": "2d8077f3-fa6d-4377-c771-4e45032d9b8e",
        "colab": {
          "base_uri": "https://localhost:8080/"
        }
      },
      "source": [
        "# 스킬라 값 얻기\n",
        "df.loc[dates[0], 'A']"
      ],
      "execution_count": 35,
      "outputs": [
        {
          "output_type": "execute_result",
          "data": {
            "text/plain": [
              "0.6021996423517318"
            ]
          },
          "metadata": {
            "tags": []
          },
          "execution_count": 35
        }
      ]
    },
    {
      "cell_type": "code",
      "metadata": {
        "id": "krORqPkY-p8B",
        "outputId": "eaa32b3b-43be-4351-fa7f-7a7150dedfa1",
        "colab": {
          "base_uri": "https://localhost:8080/"
        }
      },
      "source": [
        "# cf. 스킬라 값 더 빠르게 구하는 법\n",
        "df.at[dates[0], 'A']"
      ],
      "execution_count": 25,
      "outputs": [
        {
          "output_type": "execute_result",
          "data": {
            "text/plain": [
              "0.6021996423517318"
            ]
          },
          "metadata": {
            "tags": []
          },
          "execution_count": 25
        }
      ]
    },
    {
      "cell_type": "markdown",
      "metadata": {
        "id": "OpnCbJdl-vn4"
      },
      "source": [
        "### *** Selection by Position**  \n",
        "[- 참고: 위치로 선택하기](https://pandas.pydata.org/pandas-docs/stable/user_guide/indexing.html)"
      ]
    },
    {
      "cell_type": "code",
      "metadata": {
        "id": "xiZeAwfPAA6n",
        "outputId": "a76515bd-9ffb-4a7c-f35f-f523c1df7b11",
        "colab": {
          "base_uri": "https://localhost:8080/"
        }
      },
      "source": [
        "# 넘겨 받은 정수 위치를 기준으로 선택\n",
        "df.iloc[3]"
      ],
      "execution_count": 26,
      "outputs": [
        {
          "output_type": "execute_result",
          "data": {
            "text/plain": [
              "A    0.335354\n",
              "B   -0.226875\n",
              "C   -0.052475\n",
              "D    1.137469\n",
              "Name: 2013-01-04 00:00:00, dtype: float64"
            ]
          },
          "metadata": {
            "tags": []
          },
          "execution_count": 26
        }
      ]
    },
    {
      "cell_type": "code",
      "metadata": {
        "id": "dCvmcf93E0rt",
        "outputId": "3768f52f-b995-4b86-f212-9a7eddde99db",
        "colab": {
          "base_uri": "https://localhost:8080/",
          "height": 110
        }
      },
      "source": [
        "# 정수로 표기된 슬라이스를 통해, numpy / python과 유사하게 작동\n",
        "df.iloc[3:5, 0:2]"
      ],
      "execution_count": 27,
      "outputs": [
        {
          "output_type": "execute_result",
          "data": {
            "text/html": [
              "<div>\n",
              "<style scoped>\n",
              "    .dataframe tbody tr th:only-of-type {\n",
              "        vertical-align: middle;\n",
              "    }\n",
              "\n",
              "    .dataframe tbody tr th {\n",
              "        vertical-align: top;\n",
              "    }\n",
              "\n",
              "    .dataframe thead th {\n",
              "        text-align: right;\n",
              "    }\n",
              "</style>\n",
              "<table border=\"1\" class=\"dataframe\">\n",
              "  <thead>\n",
              "    <tr style=\"text-align: right;\">\n",
              "      <th></th>\n",
              "      <th>A</th>\n",
              "      <th>B</th>\n",
              "    </tr>\n",
              "  </thead>\n",
              "  <tbody>\n",
              "    <tr>\n",
              "      <th>2013-01-04</th>\n",
              "      <td>0.335354</td>\n",
              "      <td>-0.226875</td>\n",
              "    </tr>\n",
              "    <tr>\n",
              "      <th>2013-01-05</th>\n",
              "      <td>1.743132</td>\n",
              "      <td>-0.457479</td>\n",
              "    </tr>\n",
              "  </tbody>\n",
              "</table>\n",
              "</div>"
            ],
            "text/plain": [
              "                   A         B\n",
              "2013-01-04  0.335354 -0.226875\n",
              "2013-01-05  1.743132 -0.457479"
            ]
          },
          "metadata": {
            "tags": []
          },
          "execution_count": 27
        }
      ]
    },
    {
      "cell_type": "code",
      "metadata": {
        "id": "g2CyqC3UE7jn",
        "outputId": "61c97856-3d6f-4a59-9233-85e935994b6d",
        "colab": {
          "base_uri": "https://localhost:8080/",
          "height": 141
        }
      },
      "source": [
        "# 정수로 표기된 위치값 리스트를 통해, numpy / python 스타일과 유사해짐\n",
        "df.iloc[[1, 2, 4], [0, 2]]"
      ],
      "execution_count": 28,
      "outputs": [
        {
          "output_type": "execute_result",
          "data": {
            "text/html": [
              "<div>\n",
              "<style scoped>\n",
              "    .dataframe tbody tr th:only-of-type {\n",
              "        vertical-align: middle;\n",
              "    }\n",
              "\n",
              "    .dataframe tbody tr th {\n",
              "        vertical-align: top;\n",
              "    }\n",
              "\n",
              "    .dataframe thead th {\n",
              "        text-align: right;\n",
              "    }\n",
              "</style>\n",
              "<table border=\"1\" class=\"dataframe\">\n",
              "  <thead>\n",
              "    <tr style=\"text-align: right;\">\n",
              "      <th></th>\n",
              "      <th>A</th>\n",
              "      <th>C</th>\n",
              "    </tr>\n",
              "  </thead>\n",
              "  <tbody>\n",
              "    <tr>\n",
              "      <th>2013-01-02</th>\n",
              "      <td>0.479680</td>\n",
              "      <td>0.482536</td>\n",
              "    </tr>\n",
              "    <tr>\n",
              "      <th>2013-01-03</th>\n",
              "      <td>-0.439281</td>\n",
              "      <td>1.366428</td>\n",
              "    </tr>\n",
              "    <tr>\n",
              "      <th>2013-01-05</th>\n",
              "      <td>1.743132</td>\n",
              "      <td>0.044569</td>\n",
              "    </tr>\n",
              "  </tbody>\n",
              "</table>\n",
              "</div>"
            ],
            "text/plain": [
              "                   A         C\n",
              "2013-01-02  0.479680  0.482536\n",
              "2013-01-03 -0.439281  1.366428\n",
              "2013-01-05  1.743132  0.044569"
            ]
          },
          "metadata": {
            "tags": []
          },
          "execution_count": 28
        }
      ]
    },
    {
      "cell_type": "code",
      "metadata": {
        "id": "LJEIn2jGFJbl",
        "outputId": "753e295e-03f9-406f-ae58-d12a512da431",
        "colab": {
          "base_uri": "https://localhost:8080/",
          "height": 110
        }
      },
      "source": [
        "# 명시적으로 행을 나누고자 하는 경우\n",
        "df.iloc[1:3, :]"
      ],
      "execution_count": 29,
      "outputs": [
        {
          "output_type": "execute_result",
          "data": {
            "text/html": [
              "<div>\n",
              "<style scoped>\n",
              "    .dataframe tbody tr th:only-of-type {\n",
              "        vertical-align: middle;\n",
              "    }\n",
              "\n",
              "    .dataframe tbody tr th {\n",
              "        vertical-align: top;\n",
              "    }\n",
              "\n",
              "    .dataframe thead th {\n",
              "        text-align: right;\n",
              "    }\n",
              "</style>\n",
              "<table border=\"1\" class=\"dataframe\">\n",
              "  <thead>\n",
              "    <tr style=\"text-align: right;\">\n",
              "      <th></th>\n",
              "      <th>A</th>\n",
              "      <th>B</th>\n",
              "      <th>C</th>\n",
              "      <th>D</th>\n",
              "    </tr>\n",
              "  </thead>\n",
              "  <tbody>\n",
              "    <tr>\n",
              "      <th>2013-01-02</th>\n",
              "      <td>0.479680</td>\n",
              "      <td>-0.060165</td>\n",
              "      <td>0.482536</td>\n",
              "      <td>0.358786</td>\n",
              "    </tr>\n",
              "    <tr>\n",
              "      <th>2013-01-03</th>\n",
              "      <td>-0.439281</td>\n",
              "      <td>-0.939198</td>\n",
              "      <td>1.366428</td>\n",
              "      <td>-1.845967</td>\n",
              "    </tr>\n",
              "  </tbody>\n",
              "</table>\n",
              "</div>"
            ],
            "text/plain": [
              "                   A         B         C         D\n",
              "2013-01-02  0.479680 -0.060165  0.482536  0.358786\n",
              "2013-01-03 -0.439281 -0.939198  1.366428 -1.845967"
            ]
          },
          "metadata": {
            "tags": []
          },
          "execution_count": 29
        }
      ]
    },
    {
      "cell_type": "code",
      "metadata": {
        "id": "3puLloVjJCxB",
        "outputId": "dcc17654-0bc4-415c-c13e-e338cb122362",
        "colab": {
          "base_uri": "https://localhost:8080/",
          "height": 233
        }
      },
      "source": [
        "# 명시적으로 열을 나누고자 하는 경우\n",
        "df.iloc[:, 1:3]"
      ],
      "execution_count": 30,
      "outputs": [
        {
          "output_type": "execute_result",
          "data": {
            "text/html": [
              "<div>\n",
              "<style scoped>\n",
              "    .dataframe tbody tr th:only-of-type {\n",
              "        vertical-align: middle;\n",
              "    }\n",
              "\n",
              "    .dataframe tbody tr th {\n",
              "        vertical-align: top;\n",
              "    }\n",
              "\n",
              "    .dataframe thead th {\n",
              "        text-align: right;\n",
              "    }\n",
              "</style>\n",
              "<table border=\"1\" class=\"dataframe\">\n",
              "  <thead>\n",
              "    <tr style=\"text-align: right;\">\n",
              "      <th></th>\n",
              "      <th>B</th>\n",
              "      <th>C</th>\n",
              "    </tr>\n",
              "  </thead>\n",
              "  <tbody>\n",
              "    <tr>\n",
              "      <th>2013-01-01</th>\n",
              "      <td>1.371136</td>\n",
              "      <td>-0.871471</td>\n",
              "    </tr>\n",
              "    <tr>\n",
              "      <th>2013-01-02</th>\n",
              "      <td>-0.060165</td>\n",
              "      <td>0.482536</td>\n",
              "    </tr>\n",
              "    <tr>\n",
              "      <th>2013-01-03</th>\n",
              "      <td>-0.939198</td>\n",
              "      <td>1.366428</td>\n",
              "    </tr>\n",
              "    <tr>\n",
              "      <th>2013-01-04</th>\n",
              "      <td>-0.226875</td>\n",
              "      <td>-0.052475</td>\n",
              "    </tr>\n",
              "    <tr>\n",
              "      <th>2013-01-05</th>\n",
              "      <td>-0.457479</td>\n",
              "      <td>0.044569</td>\n",
              "    </tr>\n",
              "    <tr>\n",
              "      <th>2013-01-06</th>\n",
              "      <td>-2.437072</td>\n",
              "      <td>-0.376757</td>\n",
              "    </tr>\n",
              "  </tbody>\n",
              "</table>\n",
              "</div>"
            ],
            "text/plain": [
              "                   B         C\n",
              "2013-01-01  1.371136 -0.871471\n",
              "2013-01-02 -0.060165  0.482536\n",
              "2013-01-03 -0.939198  1.366428\n",
              "2013-01-04 -0.226875 -0.052475\n",
              "2013-01-05 -0.457479  0.044569\n",
              "2013-01-06 -2.437072 -0.376757"
            ]
          },
          "metadata": {
            "tags": []
          },
          "execution_count": 30
        }
      ]
    },
    {
      "cell_type": "code",
      "metadata": {
        "id": "6C8VWQRKJH7P",
        "outputId": "ef3e16e0-54cd-4b8b-b1c2-4f2e245ff8d8",
        "colab": {
          "base_uri": "https://localhost:8080/"
        }
      },
      "source": [
        "# 명시적으로 (특정한) 값을 얻고자 하는 경우\n",
        "df.iloc[1, 1]"
      ],
      "execution_count": 33,
      "outputs": [
        {
          "output_type": "execute_result",
          "data": {
            "text/plain": [
              "-0.060165025555384645"
            ]
          },
          "metadata": {
            "tags": []
          },
          "execution_count": 33
        }
      ]
    },
    {
      "cell_type": "code",
      "metadata": {
        "id": "zPgC89m_Joxi",
        "outputId": "ce494283-54d4-4362-80ec-6f6970d5d243",
        "colab": {
          "base_uri": "https://localhost:8080/"
        }
      },
      "source": [
        "# 스칼라 값을 빠르게 얻는 방법\n",
        "df.iat[1, 1]"
      ],
      "execution_count": 37,
      "outputs": [
        {
          "output_type": "execute_result",
          "data": {
            "text/plain": [
              "-0.060165025555384645"
            ]
          },
          "metadata": {
            "tags": []
          },
          "execution_count": 37
        }
      ]
    },
    {
      "cell_type": "markdown",
      "metadata": {
        "id": "DIHDLuXvJ-A8"
      },
      "source": [
        "### *** Boolean Indexing**\n",
        "데이터를 선택하기 위해 단일 열 값을 사용한다.  "
      ]
    },
    {
      "cell_type": "code",
      "metadata": {
        "id": "fp45t5ZSKHAO",
        "outputId": "3150e870-a65e-4727-ce8e-97668748647e",
        "colab": {
          "base_uri": "https://localhost:8080/",
          "height": 171
        }
      },
      "source": [
        "df[df.A > 0]"
      ],
      "execution_count": 38,
      "outputs": [
        {
          "output_type": "execute_result",
          "data": {
            "text/html": [
              "<div>\n",
              "<style scoped>\n",
              "    .dataframe tbody tr th:only-of-type {\n",
              "        vertical-align: middle;\n",
              "    }\n",
              "\n",
              "    .dataframe tbody tr th {\n",
              "        vertical-align: top;\n",
              "    }\n",
              "\n",
              "    .dataframe thead th {\n",
              "        text-align: right;\n",
              "    }\n",
              "</style>\n",
              "<table border=\"1\" class=\"dataframe\">\n",
              "  <thead>\n",
              "    <tr style=\"text-align: right;\">\n",
              "      <th></th>\n",
              "      <th>A</th>\n",
              "      <th>B</th>\n",
              "      <th>C</th>\n",
              "      <th>D</th>\n",
              "    </tr>\n",
              "  </thead>\n",
              "  <tbody>\n",
              "    <tr>\n",
              "      <th>2013-01-01</th>\n",
              "      <td>0.602200</td>\n",
              "      <td>1.371136</td>\n",
              "      <td>-0.871471</td>\n",
              "      <td>-1.369219</td>\n",
              "    </tr>\n",
              "    <tr>\n",
              "      <th>2013-01-02</th>\n",
              "      <td>0.479680</td>\n",
              "      <td>-0.060165</td>\n",
              "      <td>0.482536</td>\n",
              "      <td>0.358786</td>\n",
              "    </tr>\n",
              "    <tr>\n",
              "      <th>2013-01-04</th>\n",
              "      <td>0.335354</td>\n",
              "      <td>-0.226875</td>\n",
              "      <td>-0.052475</td>\n",
              "      <td>1.137469</td>\n",
              "    </tr>\n",
              "    <tr>\n",
              "      <th>2013-01-05</th>\n",
              "      <td>1.743132</td>\n",
              "      <td>-0.457479</td>\n",
              "      <td>0.044569</td>\n",
              "      <td>-0.500767</td>\n",
              "    </tr>\n",
              "  </tbody>\n",
              "</table>\n",
              "</div>"
            ],
            "text/plain": [
              "                   A         B         C         D\n",
              "2013-01-01  0.602200  1.371136 -0.871471 -1.369219\n",
              "2013-01-02  0.479680 -0.060165  0.482536  0.358786\n",
              "2013-01-04  0.335354 -0.226875 -0.052475  1.137469\n",
              "2013-01-05  1.743132 -0.457479  0.044569 -0.500767"
            ]
          },
          "metadata": {
            "tags": []
          },
          "execution_count": 38
        }
      ]
    },
    {
      "cell_type": "code",
      "metadata": {
        "id": "yURfYJTbKLTQ",
        "outputId": "56331626-54c0-4373-d378-a8d39100030d",
        "colab": {
          "base_uri": "https://localhost:8080/",
          "height": 233
        }
      },
      "source": [
        "# Boolean 조건을 충족하는 데이터프레임에서 값 선택\n",
        "df[df > 0]"
      ],
      "execution_count": 40,
      "outputs": [
        {
          "output_type": "execute_result",
          "data": {
            "text/html": [
              "<div>\n",
              "<style scoped>\n",
              "    .dataframe tbody tr th:only-of-type {\n",
              "        vertical-align: middle;\n",
              "    }\n",
              "\n",
              "    .dataframe tbody tr th {\n",
              "        vertical-align: top;\n",
              "    }\n",
              "\n",
              "    .dataframe thead th {\n",
              "        text-align: right;\n",
              "    }\n",
              "</style>\n",
              "<table border=\"1\" class=\"dataframe\">\n",
              "  <thead>\n",
              "    <tr style=\"text-align: right;\">\n",
              "      <th></th>\n",
              "      <th>A</th>\n",
              "      <th>B</th>\n",
              "      <th>C</th>\n",
              "      <th>D</th>\n",
              "    </tr>\n",
              "  </thead>\n",
              "  <tbody>\n",
              "    <tr>\n",
              "      <th>2013-01-01</th>\n",
              "      <td>0.602200</td>\n",
              "      <td>1.371136</td>\n",
              "      <td>NaN</td>\n",
              "      <td>NaN</td>\n",
              "    </tr>\n",
              "    <tr>\n",
              "      <th>2013-01-02</th>\n",
              "      <td>0.479680</td>\n",
              "      <td>NaN</td>\n",
              "      <td>0.482536</td>\n",
              "      <td>0.358786</td>\n",
              "    </tr>\n",
              "    <tr>\n",
              "      <th>2013-01-03</th>\n",
              "      <td>NaN</td>\n",
              "      <td>NaN</td>\n",
              "      <td>1.366428</td>\n",
              "      <td>NaN</td>\n",
              "    </tr>\n",
              "    <tr>\n",
              "      <th>2013-01-04</th>\n",
              "      <td>0.335354</td>\n",
              "      <td>NaN</td>\n",
              "      <td>NaN</td>\n",
              "      <td>1.137469</td>\n",
              "    </tr>\n",
              "    <tr>\n",
              "      <th>2013-01-05</th>\n",
              "      <td>1.743132</td>\n",
              "      <td>NaN</td>\n",
              "      <td>0.044569</td>\n",
              "      <td>NaN</td>\n",
              "    </tr>\n",
              "    <tr>\n",
              "      <th>2013-01-06</th>\n",
              "      <td>NaN</td>\n",
              "      <td>NaN</td>\n",
              "      <td>NaN</td>\n",
              "      <td>2.254009</td>\n",
              "    </tr>\n",
              "  </tbody>\n",
              "</table>\n",
              "</div>"
            ],
            "text/plain": [
              "                   A         B         C         D\n",
              "2013-01-01  0.602200  1.371136       NaN       NaN\n",
              "2013-01-02  0.479680       NaN  0.482536  0.358786\n",
              "2013-01-03       NaN       NaN  1.366428       NaN\n",
              "2013-01-04  0.335354       NaN       NaN  1.137469\n",
              "2013-01-05  1.743132       NaN  0.044569       NaN\n",
              "2013-01-06       NaN       NaN       NaN  2.254009"
            ]
          },
          "metadata": {
            "tags": []
          },
          "execution_count": 40
        }
      ]
    },
    {
      "cell_type": "code",
      "metadata": {
        "id": "YWHqyt2SKQbE",
        "outputId": "82b16ace-e6d3-4d4d-a01a-d689248d6046",
        "colab": {
          "base_uri": "https://localhost:8080/",
          "height": 233
        }
      },
      "source": [
        "# 필터링을 위한 메소드 isin()을 사용\n",
        "df2 = df.copy()\n",
        "df2['E'] = ['one', 'one', 'two', 'three', 'four', 'three']\n",
        "df2"
      ],
      "execution_count": 42,
      "outputs": [
        {
          "output_type": "execute_result",
          "data": {
            "text/html": [
              "<div>\n",
              "<style scoped>\n",
              "    .dataframe tbody tr th:only-of-type {\n",
              "        vertical-align: middle;\n",
              "    }\n",
              "\n",
              "    .dataframe tbody tr th {\n",
              "        vertical-align: top;\n",
              "    }\n",
              "\n",
              "    .dataframe thead th {\n",
              "        text-align: right;\n",
              "    }\n",
              "</style>\n",
              "<table border=\"1\" class=\"dataframe\">\n",
              "  <thead>\n",
              "    <tr style=\"text-align: right;\">\n",
              "      <th></th>\n",
              "      <th>A</th>\n",
              "      <th>B</th>\n",
              "      <th>C</th>\n",
              "      <th>D</th>\n",
              "      <th>E</th>\n",
              "    </tr>\n",
              "  </thead>\n",
              "  <tbody>\n",
              "    <tr>\n",
              "      <th>2013-01-01</th>\n",
              "      <td>0.602200</td>\n",
              "      <td>1.371136</td>\n",
              "      <td>-0.871471</td>\n",
              "      <td>-1.369219</td>\n",
              "      <td>one</td>\n",
              "    </tr>\n",
              "    <tr>\n",
              "      <th>2013-01-02</th>\n",
              "      <td>0.479680</td>\n",
              "      <td>-0.060165</td>\n",
              "      <td>0.482536</td>\n",
              "      <td>0.358786</td>\n",
              "      <td>one</td>\n",
              "    </tr>\n",
              "    <tr>\n",
              "      <th>2013-01-03</th>\n",
              "      <td>-0.439281</td>\n",
              "      <td>-0.939198</td>\n",
              "      <td>1.366428</td>\n",
              "      <td>-1.845967</td>\n",
              "      <td>two</td>\n",
              "    </tr>\n",
              "    <tr>\n",
              "      <th>2013-01-04</th>\n",
              "      <td>0.335354</td>\n",
              "      <td>-0.226875</td>\n",
              "      <td>-0.052475</td>\n",
              "      <td>1.137469</td>\n",
              "      <td>three</td>\n",
              "    </tr>\n",
              "    <tr>\n",
              "      <th>2013-01-05</th>\n",
              "      <td>1.743132</td>\n",
              "      <td>-0.457479</td>\n",
              "      <td>0.044569</td>\n",
              "      <td>-0.500767</td>\n",
              "      <td>four</td>\n",
              "    </tr>\n",
              "    <tr>\n",
              "      <th>2013-01-06</th>\n",
              "      <td>-0.048809</td>\n",
              "      <td>-2.437072</td>\n",
              "      <td>-0.376757</td>\n",
              "      <td>2.254009</td>\n",
              "      <td>three</td>\n",
              "    </tr>\n",
              "  </tbody>\n",
              "</table>\n",
              "</div>"
            ],
            "text/plain": [
              "                   A         B         C         D      E\n",
              "2013-01-01  0.602200  1.371136 -0.871471 -1.369219    one\n",
              "2013-01-02  0.479680 -0.060165  0.482536  0.358786    one\n",
              "2013-01-03 -0.439281 -0.939198  1.366428 -1.845967    two\n",
              "2013-01-04  0.335354 -0.226875 -0.052475  1.137469  three\n",
              "2013-01-05  1.743132 -0.457479  0.044569 -0.500767   four\n",
              "2013-01-06 -0.048809 -2.437072 -0.376757  2.254009  three"
            ]
          },
          "metadata": {
            "tags": []
          },
          "execution_count": 42
        }
      ]
    },
    {
      "cell_type": "code",
      "metadata": {
        "id": "UNkCnE7GKen1",
        "outputId": "e6082892-326a-417a-b66d-8042d7a7bb2d",
        "colab": {
          "base_uri": "https://localhost:8080/",
          "height": 110
        }
      },
      "source": [
        "df2[df2['E'].isin(['two', 'four'])]"
      ],
      "execution_count": 43,
      "outputs": [
        {
          "output_type": "execute_result",
          "data": {
            "text/html": [
              "<div>\n",
              "<style scoped>\n",
              "    .dataframe tbody tr th:only-of-type {\n",
              "        vertical-align: middle;\n",
              "    }\n",
              "\n",
              "    .dataframe tbody tr th {\n",
              "        vertical-align: top;\n",
              "    }\n",
              "\n",
              "    .dataframe thead th {\n",
              "        text-align: right;\n",
              "    }\n",
              "</style>\n",
              "<table border=\"1\" class=\"dataframe\">\n",
              "  <thead>\n",
              "    <tr style=\"text-align: right;\">\n",
              "      <th></th>\n",
              "      <th>A</th>\n",
              "      <th>B</th>\n",
              "      <th>C</th>\n",
              "      <th>D</th>\n",
              "      <th>E</th>\n",
              "    </tr>\n",
              "  </thead>\n",
              "  <tbody>\n",
              "    <tr>\n",
              "      <th>2013-01-03</th>\n",
              "      <td>-0.439281</td>\n",
              "      <td>-0.939198</td>\n",
              "      <td>1.366428</td>\n",
              "      <td>-1.845967</td>\n",
              "      <td>two</td>\n",
              "    </tr>\n",
              "    <tr>\n",
              "      <th>2013-01-05</th>\n",
              "      <td>1.743132</td>\n",
              "      <td>-0.457479</td>\n",
              "      <td>0.044569</td>\n",
              "      <td>-0.500767</td>\n",
              "      <td>four</td>\n",
              "    </tr>\n",
              "  </tbody>\n",
              "</table>\n",
              "</div>"
            ],
            "text/plain": [
              "                   A         B         C         D     E\n",
              "2013-01-03 -0.439281 -0.939198  1.366428 -1.845967   two\n",
              "2013-01-05  1.743132 -0.457479  0.044569 -0.500767  four"
            ]
          },
          "metadata": {
            "tags": []
          },
          "execution_count": 43
        }
      ]
    },
    {
      "cell_type": "markdown",
      "metadata": {
        "id": "jGK538wGKkwb"
      },
      "source": [
        "### *** Setting**\n",
        "새 열을 설정하면 데이터가 인덱스별로 자동정렬 된다."
      ]
    },
    {
      "cell_type": "code",
      "metadata": {
        "id": "zrC3kWtUK1L7",
        "outputId": "f444bd10-cc92-4a52-eead-1a7685d34490",
        "colab": {
          "base_uri": "https://localhost:8080/"
        }
      },
      "source": [
        "s1 = pd.Series([1, 2, 3, 4, 5, 6], index = pd.date_range('20130102', periods=6))\n",
        "s1"
      ],
      "execution_count": 45,
      "outputs": [
        {
          "output_type": "execute_result",
          "data": {
            "text/plain": [
              "2013-01-02    1\n",
              "2013-01-03    2\n",
              "2013-01-04    3\n",
              "2013-01-05    4\n",
              "2013-01-06    5\n",
              "2013-01-07    6\n",
              "Freq: D, dtype: int64"
            ]
          },
          "metadata": {
            "tags": []
          },
          "execution_count": 45
        }
      ]
    },
    {
      "cell_type": "code",
      "metadata": {
        "id": "sDKGsL9hK9ze"
      },
      "source": [
        "df['F'] = s1"
      ],
      "execution_count": 47,
      "outputs": []
    },
    {
      "cell_type": "code",
      "metadata": {
        "id": "pcL_aOB5LARY"
      },
      "source": [
        "# 라벨에 의해 값 설정\n",
        "df.at[dates[0], 'A'] = 0"
      ],
      "execution_count": 49,
      "outputs": []
    },
    {
      "cell_type": "code",
      "metadata": {
        "id": "RZ-lm70JLGVB"
      },
      "source": [
        "# 위치에 의해 값 설정\n",
        "df.iat[0, 1] = 0"
      ],
      "execution_count": 50,
      "outputs": []
    },
    {
      "cell_type": "code",
      "metadata": {
        "id": "SNXg2cqpLL1Y"
      },
      "source": [
        "# Numpy 배열을 사용한 할당에 의해 값 설정\n",
        "df.loc[:, 'D'] = np.array([5] * len(df))"
      ],
      "execution_count": 52,
      "outputs": []
    },
    {
      "cell_type": "code",
      "metadata": {
        "id": "jtI_KI_dLS9G",
        "outputId": "6fed029b-fa71-4b95-9217-90ffcac6e502",
        "colab": {
          "base_uri": "https://localhost:8080/",
          "height": 233
        }
      },
      "source": [
        "# 위 설정대로 작동한 결과\n",
        "df"
      ],
      "execution_count": 54,
      "outputs": [
        {
          "output_type": "execute_result",
          "data": {
            "text/html": [
              "<div>\n",
              "<style scoped>\n",
              "    .dataframe tbody tr th:only-of-type {\n",
              "        vertical-align: middle;\n",
              "    }\n",
              "\n",
              "    .dataframe tbody tr th {\n",
              "        vertical-align: top;\n",
              "    }\n",
              "\n",
              "    .dataframe thead th {\n",
              "        text-align: right;\n",
              "    }\n",
              "</style>\n",
              "<table border=\"1\" class=\"dataframe\">\n",
              "  <thead>\n",
              "    <tr style=\"text-align: right;\">\n",
              "      <th></th>\n",
              "      <th>A</th>\n",
              "      <th>B</th>\n",
              "      <th>C</th>\n",
              "      <th>D</th>\n",
              "      <th>F</th>\n",
              "    </tr>\n",
              "  </thead>\n",
              "  <tbody>\n",
              "    <tr>\n",
              "      <th>2013-01-01</th>\n",
              "      <td>0.000000</td>\n",
              "      <td>0.000000</td>\n",
              "      <td>-0.871471</td>\n",
              "      <td>5</td>\n",
              "      <td>NaN</td>\n",
              "    </tr>\n",
              "    <tr>\n",
              "      <th>2013-01-02</th>\n",
              "      <td>0.479680</td>\n",
              "      <td>-0.060165</td>\n",
              "      <td>0.482536</td>\n",
              "      <td>5</td>\n",
              "      <td>1.0</td>\n",
              "    </tr>\n",
              "    <tr>\n",
              "      <th>2013-01-03</th>\n",
              "      <td>-0.439281</td>\n",
              "      <td>-0.939198</td>\n",
              "      <td>1.366428</td>\n",
              "      <td>5</td>\n",
              "      <td>2.0</td>\n",
              "    </tr>\n",
              "    <tr>\n",
              "      <th>2013-01-04</th>\n",
              "      <td>0.335354</td>\n",
              "      <td>-0.226875</td>\n",
              "      <td>-0.052475</td>\n",
              "      <td>5</td>\n",
              "      <td>3.0</td>\n",
              "    </tr>\n",
              "    <tr>\n",
              "      <th>2013-01-05</th>\n",
              "      <td>1.743132</td>\n",
              "      <td>-0.457479</td>\n",
              "      <td>0.044569</td>\n",
              "      <td>5</td>\n",
              "      <td>4.0</td>\n",
              "    </tr>\n",
              "    <tr>\n",
              "      <th>2013-01-06</th>\n",
              "      <td>-0.048809</td>\n",
              "      <td>-2.437072</td>\n",
              "      <td>-0.376757</td>\n",
              "      <td>5</td>\n",
              "      <td>5.0</td>\n",
              "    </tr>\n",
              "  </tbody>\n",
              "</table>\n",
              "</div>"
            ],
            "text/plain": [
              "                   A         B         C  D    F\n",
              "2013-01-01  0.000000  0.000000 -0.871471  5  NaN\n",
              "2013-01-02  0.479680 -0.060165  0.482536  5  1.0\n",
              "2013-01-03 -0.439281 -0.939198  1.366428  5  2.0\n",
              "2013-01-04  0.335354 -0.226875 -0.052475  5  3.0\n",
              "2013-01-05  1.743132 -0.457479  0.044569  5  4.0\n",
              "2013-01-06 -0.048809 -2.437072 -0.376757  5  5.0"
            ]
          },
          "metadata": {
            "tags": []
          },
          "execution_count": 54
        }
      ]
    },
    {
      "cell_type": "code",
      "metadata": {
        "id": "R40GR1BQLYSr",
        "outputId": "0e7300df-4927-4d58-ac2b-078a530f3197",
        "colab": {
          "base_uri": "https://localhost:8080/",
          "height": 233
        }
      },
      "source": [
        "# where 연산 설정\n",
        "df2 = df.copy()\n",
        "df2[df2 > 0] = -df2\n",
        "df2"
      ],
      "execution_count": 55,
      "outputs": [
        {
          "output_type": "execute_result",
          "data": {
            "text/html": [
              "<div>\n",
              "<style scoped>\n",
              "    .dataframe tbody tr th:only-of-type {\n",
              "        vertical-align: middle;\n",
              "    }\n",
              "\n",
              "    .dataframe tbody tr th {\n",
              "        vertical-align: top;\n",
              "    }\n",
              "\n",
              "    .dataframe thead th {\n",
              "        text-align: right;\n",
              "    }\n",
              "</style>\n",
              "<table border=\"1\" class=\"dataframe\">\n",
              "  <thead>\n",
              "    <tr style=\"text-align: right;\">\n",
              "      <th></th>\n",
              "      <th>A</th>\n",
              "      <th>B</th>\n",
              "      <th>C</th>\n",
              "      <th>D</th>\n",
              "      <th>F</th>\n",
              "    </tr>\n",
              "  </thead>\n",
              "  <tbody>\n",
              "    <tr>\n",
              "      <th>2013-01-01</th>\n",
              "      <td>0.000000</td>\n",
              "      <td>0.000000</td>\n",
              "      <td>-0.871471</td>\n",
              "      <td>-5</td>\n",
              "      <td>NaN</td>\n",
              "    </tr>\n",
              "    <tr>\n",
              "      <th>2013-01-02</th>\n",
              "      <td>-0.479680</td>\n",
              "      <td>-0.060165</td>\n",
              "      <td>-0.482536</td>\n",
              "      <td>-5</td>\n",
              "      <td>-1.0</td>\n",
              "    </tr>\n",
              "    <tr>\n",
              "      <th>2013-01-03</th>\n",
              "      <td>-0.439281</td>\n",
              "      <td>-0.939198</td>\n",
              "      <td>-1.366428</td>\n",
              "      <td>-5</td>\n",
              "      <td>-2.0</td>\n",
              "    </tr>\n",
              "    <tr>\n",
              "      <th>2013-01-04</th>\n",
              "      <td>-0.335354</td>\n",
              "      <td>-0.226875</td>\n",
              "      <td>-0.052475</td>\n",
              "      <td>-5</td>\n",
              "      <td>-3.0</td>\n",
              "    </tr>\n",
              "    <tr>\n",
              "      <th>2013-01-05</th>\n",
              "      <td>-1.743132</td>\n",
              "      <td>-0.457479</td>\n",
              "      <td>-0.044569</td>\n",
              "      <td>-5</td>\n",
              "      <td>-4.0</td>\n",
              "    </tr>\n",
              "    <tr>\n",
              "      <th>2013-01-06</th>\n",
              "      <td>-0.048809</td>\n",
              "      <td>-2.437072</td>\n",
              "      <td>-0.376757</td>\n",
              "      <td>-5</td>\n",
              "      <td>-5.0</td>\n",
              "    </tr>\n",
              "  </tbody>\n",
              "</table>\n",
              "</div>"
            ],
            "text/plain": [
              "                   A         B         C  D    F\n",
              "2013-01-01  0.000000  0.000000 -0.871471 -5  NaN\n",
              "2013-01-02 -0.479680 -0.060165 -0.482536 -5 -1.0\n",
              "2013-01-03 -0.439281 -0.939198 -1.366428 -5 -2.0\n",
              "2013-01-04 -0.335354 -0.226875 -0.052475 -5 -3.0\n",
              "2013-01-05 -1.743132 -0.457479 -0.044569 -5 -4.0\n",
              "2013-01-06 -0.048809 -2.437072 -0.376757 -5 -5.0"
            ]
          },
          "metadata": {
            "tags": []
          },
          "execution_count": 55
        }
      ]
    },
    {
      "cell_type": "markdown",
      "metadata": {
        "id": "Xo2CTZGWLeiD"
      },
      "source": [
        "## **4. Missing Data**\n",
        "Pandas는 결측치를 표현하기 위해, 주로 np.nan 값을 사용한다. (기본 설정값이나 계산에는 포함되지 않음)  \n",
        "[- 참고: Missing data section](https://pandas.pydata.org/pandas-docs/stable/user_guide/missing_data.html)  \n",
        "\n",
        "Reindexing으로 지정된 축 상의 인덱스를 변경/추가/삭제할 수 있다. Reindexing은 데이터의 복사본을 반환한다."
      ]
    },
    {
      "cell_type": "code",
      "metadata": {
        "id": "WygyjRVKMKJ7",
        "outputId": "5436da01-6b62-4180-e00d-115c2732e989",
        "colab": {
          "base_uri": "https://localhost:8080/",
          "height": 171
        }
      },
      "source": [
        "df1 = df.reindex(index = dates[0:4], columns = list(df.columns) + ['E'])\n",
        "df1.loc[dates[0]:dates[1], 'E'] = 1\n",
        "df1"
      ],
      "execution_count": 58,
      "outputs": [
        {
          "output_type": "execute_result",
          "data": {
            "text/html": [
              "<div>\n",
              "<style scoped>\n",
              "    .dataframe tbody tr th:only-of-type {\n",
              "        vertical-align: middle;\n",
              "    }\n",
              "\n",
              "    .dataframe tbody tr th {\n",
              "        vertical-align: top;\n",
              "    }\n",
              "\n",
              "    .dataframe thead th {\n",
              "        text-align: right;\n",
              "    }\n",
              "</style>\n",
              "<table border=\"1\" class=\"dataframe\">\n",
              "  <thead>\n",
              "    <tr style=\"text-align: right;\">\n",
              "      <th></th>\n",
              "      <th>A</th>\n",
              "      <th>B</th>\n",
              "      <th>C</th>\n",
              "      <th>D</th>\n",
              "      <th>F</th>\n",
              "      <th>E</th>\n",
              "    </tr>\n",
              "  </thead>\n",
              "  <tbody>\n",
              "    <tr>\n",
              "      <th>2013-01-01</th>\n",
              "      <td>0.000000</td>\n",
              "      <td>0.000000</td>\n",
              "      <td>-0.871471</td>\n",
              "      <td>5</td>\n",
              "      <td>NaN</td>\n",
              "      <td>1.0</td>\n",
              "    </tr>\n",
              "    <tr>\n",
              "      <th>2013-01-02</th>\n",
              "      <td>0.479680</td>\n",
              "      <td>-0.060165</td>\n",
              "      <td>0.482536</td>\n",
              "      <td>5</td>\n",
              "      <td>1.0</td>\n",
              "      <td>1.0</td>\n",
              "    </tr>\n",
              "    <tr>\n",
              "      <th>2013-01-03</th>\n",
              "      <td>-0.439281</td>\n",
              "      <td>-0.939198</td>\n",
              "      <td>1.366428</td>\n",
              "      <td>5</td>\n",
              "      <td>2.0</td>\n",
              "      <td>NaN</td>\n",
              "    </tr>\n",
              "    <tr>\n",
              "      <th>2013-01-04</th>\n",
              "      <td>0.335354</td>\n",
              "      <td>-0.226875</td>\n",
              "      <td>-0.052475</td>\n",
              "      <td>5</td>\n",
              "      <td>3.0</td>\n",
              "      <td>NaN</td>\n",
              "    </tr>\n",
              "  </tbody>\n",
              "</table>\n",
              "</div>"
            ],
            "text/plain": [
              "                   A         B         C  D    F    E\n",
              "2013-01-01  0.000000  0.000000 -0.871471  5  NaN  1.0\n",
              "2013-01-02  0.479680 -0.060165  0.482536  5  1.0  1.0\n",
              "2013-01-03 -0.439281 -0.939198  1.366428  5  2.0  NaN\n",
              "2013-01-04  0.335354 -0.226875 -0.052475  5  3.0  NaN"
            ]
          },
          "metadata": {
            "tags": []
          },
          "execution_count": 58
        }
      ]
    },
    {
      "cell_type": "code",
      "metadata": {
        "id": "YNhLNILbMadU",
        "outputId": "81d8fcdb-8f9b-45d5-f814-d0bfe41c743b",
        "colab": {
          "base_uri": "https://localhost:8080/",
          "height": 79
        }
      },
      "source": [
        "# 결측치를 가지고 있는 행 지우기\n",
        "df1.dropna(how = 'any')"
      ],
      "execution_count": 57,
      "outputs": [
        {
          "output_type": "execute_result",
          "data": {
            "text/html": [
              "<div>\n",
              "<style scoped>\n",
              "    .dataframe tbody tr th:only-of-type {\n",
              "        vertical-align: middle;\n",
              "    }\n",
              "\n",
              "    .dataframe tbody tr th {\n",
              "        vertical-align: top;\n",
              "    }\n",
              "\n",
              "    .dataframe thead th {\n",
              "        text-align: right;\n",
              "    }\n",
              "</style>\n",
              "<table border=\"1\" class=\"dataframe\">\n",
              "  <thead>\n",
              "    <tr style=\"text-align: right;\">\n",
              "      <th></th>\n",
              "      <th>A</th>\n",
              "      <th>B</th>\n",
              "      <th>C</th>\n",
              "      <th>D</th>\n",
              "      <th>F</th>\n",
              "      <th>E</th>\n",
              "    </tr>\n",
              "  </thead>\n",
              "  <tbody>\n",
              "    <tr>\n",
              "      <th>2013-01-02</th>\n",
              "      <td>0.47968</td>\n",
              "      <td>-0.060165</td>\n",
              "      <td>0.482536</td>\n",
              "      <td>5</td>\n",
              "      <td>1.0</td>\n",
              "      <td>1.0</td>\n",
              "    </tr>\n",
              "  </tbody>\n",
              "</table>\n",
              "</div>"
            ],
            "text/plain": [
              "                  A         B         C  D    F    E\n",
              "2013-01-02  0.47968 -0.060165  0.482536  5  1.0  1.0"
            ]
          },
          "metadata": {
            "tags": []
          },
          "execution_count": 57
        }
      ]
    },
    {
      "cell_type": "code",
      "metadata": {
        "id": "NiusFIfkMtvD",
        "outputId": "05a20248-2d4e-4347-9412-48ad9128b681",
        "colab": {
          "base_uri": "https://localhost:8080/",
          "height": 171
        }
      },
      "source": [
        "# 결측치 채워 넣기\n",
        "df1.fillna(value = 5)"
      ],
      "execution_count": 59,
      "outputs": [
        {
          "output_type": "execute_result",
          "data": {
            "text/html": [
              "<div>\n",
              "<style scoped>\n",
              "    .dataframe tbody tr th:only-of-type {\n",
              "        vertical-align: middle;\n",
              "    }\n",
              "\n",
              "    .dataframe tbody tr th {\n",
              "        vertical-align: top;\n",
              "    }\n",
              "\n",
              "    .dataframe thead th {\n",
              "        text-align: right;\n",
              "    }\n",
              "</style>\n",
              "<table border=\"1\" class=\"dataframe\">\n",
              "  <thead>\n",
              "    <tr style=\"text-align: right;\">\n",
              "      <th></th>\n",
              "      <th>A</th>\n",
              "      <th>B</th>\n",
              "      <th>C</th>\n",
              "      <th>D</th>\n",
              "      <th>F</th>\n",
              "      <th>E</th>\n",
              "    </tr>\n",
              "  </thead>\n",
              "  <tbody>\n",
              "    <tr>\n",
              "      <th>2013-01-01</th>\n",
              "      <td>0.000000</td>\n",
              "      <td>0.000000</td>\n",
              "      <td>-0.871471</td>\n",
              "      <td>5</td>\n",
              "      <td>5.0</td>\n",
              "      <td>1.0</td>\n",
              "    </tr>\n",
              "    <tr>\n",
              "      <th>2013-01-02</th>\n",
              "      <td>0.479680</td>\n",
              "      <td>-0.060165</td>\n",
              "      <td>0.482536</td>\n",
              "      <td>5</td>\n",
              "      <td>1.0</td>\n",
              "      <td>1.0</td>\n",
              "    </tr>\n",
              "    <tr>\n",
              "      <th>2013-01-03</th>\n",
              "      <td>-0.439281</td>\n",
              "      <td>-0.939198</td>\n",
              "      <td>1.366428</td>\n",
              "      <td>5</td>\n",
              "      <td>2.0</td>\n",
              "      <td>5.0</td>\n",
              "    </tr>\n",
              "    <tr>\n",
              "      <th>2013-01-04</th>\n",
              "      <td>0.335354</td>\n",
              "      <td>-0.226875</td>\n",
              "      <td>-0.052475</td>\n",
              "      <td>5</td>\n",
              "      <td>3.0</td>\n",
              "      <td>5.0</td>\n",
              "    </tr>\n",
              "  </tbody>\n",
              "</table>\n",
              "</div>"
            ],
            "text/plain": [
              "                   A         B         C  D    F    E\n",
              "2013-01-01  0.000000  0.000000 -0.871471  5  5.0  1.0\n",
              "2013-01-02  0.479680 -0.060165  0.482536  5  1.0  1.0\n",
              "2013-01-03 -0.439281 -0.939198  1.366428  5  2.0  5.0\n",
              "2013-01-04  0.335354 -0.226875 -0.052475  5  3.0  5.0"
            ]
          },
          "metadata": {
            "tags": []
          },
          "execution_count": 59
        }
      ]
    },
    {
      "cell_type": "code",
      "metadata": {
        "id": "ldRf5E9zMy7L"
      },
      "source": [
        "# NAN 값에 boolean을 통한 표식\n",
        "pd.isna(df1) # 데이터프레임의 모든 값이 boolean 형태로 표시되게 하며, nan인 값만 True가 표시되게 하는 함수"
      ],
      "execution_count": null,
      "outputs": []
    },
    {
      "cell_type": "markdown",
      "metadata": {
        "id": "lCC2VXpLNAqm"
      },
      "source": [
        "## **5. Operation (연산)**\n",
        "[- 참고: 이진(Binary) 연산의 기본 섹션](https://pandas.pydata.org/pandas-docs/stable/user_guide/basics.html)  \n",
        "\n",
        "### *** Stats**\n",
        "통계: 일반적으로 결측치를 제외한 후 연산된다."
      ]
    },
    {
      "cell_type": "code",
      "metadata": {
        "id": "qLW06Vy3NYvx",
        "outputId": "58a0ff03-d425-42df-c02c-c2e3d90d3614",
        "colab": {
          "base_uri": "https://localhost:8080/"
        }
      },
      "source": [
        "# 기술통계 수행\n",
        "df.mean()"
      ],
      "execution_count": 61,
      "outputs": [
        {
          "output_type": "execute_result",
          "data": {
            "text/plain": [
              "A    0.345013\n",
              "B   -0.686798\n",
              "C    0.098805\n",
              "D    5.000000\n",
              "F    3.000000\n",
              "dtype: float64"
            ]
          },
          "metadata": {
            "tags": []
          },
          "execution_count": 61
        }
      ]
    },
    {
      "cell_type": "code",
      "metadata": {
        "id": "qHL7M8mgNh4J",
        "outputId": "9c6e1f09-b8b5-46b8-a1e7-c4f88cde5459",
        "colab": {
          "base_uri": "https://localhost:8080/"
        }
      },
      "source": [
        "# 다른 축에서 동일한 연산 수행\n",
        "df.mean(1)"
      ],
      "execution_count": 63,
      "outputs": [
        {
          "output_type": "execute_result",
          "data": {
            "text/plain": [
              "2013-01-01    1.032132\n",
              "2013-01-02    1.380410\n",
              "2013-01-03    1.397590\n",
              "2013-01-04    1.611201\n",
              "2013-01-05    2.066044\n",
              "2013-01-06    1.427472\n",
              "Freq: D, dtype: float64"
            ]
          },
          "metadata": {
            "tags": []
          },
          "execution_count": 63
        }
      ]
    },
    {
      "cell_type": "code",
      "metadata": {
        "id": "DcGzbpD2NmPj",
        "outputId": "214d4739-50e7-48f9-f811-ddb5b15bab5d",
        "colab": {
          "base_uri": "https://localhost:8080/"
        }
      },
      "source": [
        "# 정렬이 필요하며, 차원이 다른 객체로 연산 (pandas는 지정된 차원을 따라 자동으로 브로드캐스팅됨)\n",
        "# broadcast: nympy에서 유래, n차원이나 스칼라 값으로 연산 수행 시 도출되는 결과의 규칙을 설명하는 것  \n",
        "s = pd.Series([1, 3, 5, np.nan, 6, 8], index = dates).shift(2)\n",
        "s"
      ],
      "execution_count": 65,
      "outputs": [
        {
          "output_type": "execute_result",
          "data": {
            "text/plain": [
              "2013-01-01    NaN\n",
              "2013-01-02    NaN\n",
              "2013-01-03    1.0\n",
              "2013-01-04    3.0\n",
              "2013-01-05    5.0\n",
              "2013-01-06    NaN\n",
              "Freq: D, dtype: float64"
            ]
          },
          "metadata": {
            "tags": []
          },
          "execution_count": 65
        }
      ]
    },
    {
      "cell_type": "code",
      "metadata": {
        "id": "4qsZDZIrN8C7",
        "outputId": "7bc2b917-90a2-4f8c-ba48-0cdee867a2ac",
        "colab": {
          "base_uri": "https://localhost:8080/",
          "height": 233
        }
      },
      "source": [
        "df.sub(s, axis = 'index')"
      ],
      "execution_count": 67,
      "outputs": [
        {
          "output_type": "execute_result",
          "data": {
            "text/html": [
              "<div>\n",
              "<style scoped>\n",
              "    .dataframe tbody tr th:only-of-type {\n",
              "        vertical-align: middle;\n",
              "    }\n",
              "\n",
              "    .dataframe tbody tr th {\n",
              "        vertical-align: top;\n",
              "    }\n",
              "\n",
              "    .dataframe thead th {\n",
              "        text-align: right;\n",
              "    }\n",
              "</style>\n",
              "<table border=\"1\" class=\"dataframe\">\n",
              "  <thead>\n",
              "    <tr style=\"text-align: right;\">\n",
              "      <th></th>\n",
              "      <th>A</th>\n",
              "      <th>B</th>\n",
              "      <th>C</th>\n",
              "      <th>D</th>\n",
              "      <th>F</th>\n",
              "    </tr>\n",
              "  </thead>\n",
              "  <tbody>\n",
              "    <tr>\n",
              "      <th>2013-01-01</th>\n",
              "      <td>NaN</td>\n",
              "      <td>NaN</td>\n",
              "      <td>NaN</td>\n",
              "      <td>NaN</td>\n",
              "      <td>NaN</td>\n",
              "    </tr>\n",
              "    <tr>\n",
              "      <th>2013-01-02</th>\n",
              "      <td>NaN</td>\n",
              "      <td>NaN</td>\n",
              "      <td>NaN</td>\n",
              "      <td>NaN</td>\n",
              "      <td>NaN</td>\n",
              "    </tr>\n",
              "    <tr>\n",
              "      <th>2013-01-03</th>\n",
              "      <td>-1.439281</td>\n",
              "      <td>-1.939198</td>\n",
              "      <td>0.366428</td>\n",
              "      <td>4.0</td>\n",
              "      <td>1.0</td>\n",
              "    </tr>\n",
              "    <tr>\n",
              "      <th>2013-01-04</th>\n",
              "      <td>-2.664646</td>\n",
              "      <td>-3.226875</td>\n",
              "      <td>-3.052475</td>\n",
              "      <td>2.0</td>\n",
              "      <td>0.0</td>\n",
              "    </tr>\n",
              "    <tr>\n",
              "      <th>2013-01-05</th>\n",
              "      <td>-3.256868</td>\n",
              "      <td>-5.457479</td>\n",
              "      <td>-4.955431</td>\n",
              "      <td>0.0</td>\n",
              "      <td>-1.0</td>\n",
              "    </tr>\n",
              "    <tr>\n",
              "      <th>2013-01-06</th>\n",
              "      <td>NaN</td>\n",
              "      <td>NaN</td>\n",
              "      <td>NaN</td>\n",
              "      <td>NaN</td>\n",
              "      <td>NaN</td>\n",
              "    </tr>\n",
              "  </tbody>\n",
              "</table>\n",
              "</div>"
            ],
            "text/plain": [
              "                   A         B         C    D    F\n",
              "2013-01-01       NaN       NaN       NaN  NaN  NaN\n",
              "2013-01-02       NaN       NaN       NaN  NaN  NaN\n",
              "2013-01-03 -1.439281 -1.939198  0.366428  4.0  1.0\n",
              "2013-01-04 -2.664646 -3.226875 -3.052475  2.0  0.0\n",
              "2013-01-05 -3.256868 -5.457479 -4.955431  0.0 -1.0\n",
              "2013-01-06       NaN       NaN       NaN  NaN  NaN"
            ]
          },
          "metadata": {
            "tags": []
          },
          "execution_count": 67
        }
      ]
    },
    {
      "cell_type": "markdown",
      "metadata": {
        "id": "am44-pxrN_kz"
      },
      "source": [
        "### *** Apply**"
      ]
    },
    {
      "cell_type": "code",
      "metadata": {
        "id": "uHs-vRp1OM3j",
        "outputId": "42592af5-a119-4e62-eea2-ee689f2cfb54",
        "colab": {
          "base_uri": "https://localhost:8080/",
          "height": 233
        }
      },
      "source": [
        "# 데이터에 함수 적용\n",
        "df.apply(np.cumsum)"
      ],
      "execution_count": 69,
      "outputs": [
        {
          "output_type": "execute_result",
          "data": {
            "text/html": [
              "<div>\n",
              "<style scoped>\n",
              "    .dataframe tbody tr th:only-of-type {\n",
              "        vertical-align: middle;\n",
              "    }\n",
              "\n",
              "    .dataframe tbody tr th {\n",
              "        vertical-align: top;\n",
              "    }\n",
              "\n",
              "    .dataframe thead th {\n",
              "        text-align: right;\n",
              "    }\n",
              "</style>\n",
              "<table border=\"1\" class=\"dataframe\">\n",
              "  <thead>\n",
              "    <tr style=\"text-align: right;\">\n",
              "      <th></th>\n",
              "      <th>A</th>\n",
              "      <th>B</th>\n",
              "      <th>C</th>\n",
              "      <th>D</th>\n",
              "      <th>F</th>\n",
              "    </tr>\n",
              "  </thead>\n",
              "  <tbody>\n",
              "    <tr>\n",
              "      <th>2013-01-01</th>\n",
              "      <td>0.000000</td>\n",
              "      <td>0.000000</td>\n",
              "      <td>-0.871471</td>\n",
              "      <td>5</td>\n",
              "      <td>NaN</td>\n",
              "    </tr>\n",
              "    <tr>\n",
              "      <th>2013-01-02</th>\n",
              "      <td>0.479680</td>\n",
              "      <td>-0.060165</td>\n",
              "      <td>-0.388935</td>\n",
              "      <td>10</td>\n",
              "      <td>1.0</td>\n",
              "    </tr>\n",
              "    <tr>\n",
              "      <th>2013-01-03</th>\n",
              "      <td>0.040399</td>\n",
              "      <td>-0.999363</td>\n",
              "      <td>0.977494</td>\n",
              "      <td>15</td>\n",
              "      <td>3.0</td>\n",
              "    </tr>\n",
              "    <tr>\n",
              "      <th>2013-01-04</th>\n",
              "      <td>0.375753</td>\n",
              "      <td>-1.226237</td>\n",
              "      <td>0.925019</td>\n",
              "      <td>20</td>\n",
              "      <td>6.0</td>\n",
              "    </tr>\n",
              "    <tr>\n",
              "      <th>2013-01-05</th>\n",
              "      <td>2.118886</td>\n",
              "      <td>-1.683716</td>\n",
              "      <td>0.969588</td>\n",
              "      <td>25</td>\n",
              "      <td>10.0</td>\n",
              "    </tr>\n",
              "    <tr>\n",
              "      <th>2013-01-06</th>\n",
              "      <td>2.070077</td>\n",
              "      <td>-4.120788</td>\n",
              "      <td>0.592831</td>\n",
              "      <td>30</td>\n",
              "      <td>15.0</td>\n",
              "    </tr>\n",
              "  </tbody>\n",
              "</table>\n",
              "</div>"
            ],
            "text/plain": [
              "                   A         B         C   D     F\n",
              "2013-01-01  0.000000  0.000000 -0.871471   5   NaN\n",
              "2013-01-02  0.479680 -0.060165 -0.388935  10   1.0\n",
              "2013-01-03  0.040399 -0.999363  0.977494  15   3.0\n",
              "2013-01-04  0.375753 -1.226237  0.925019  20   6.0\n",
              "2013-01-05  2.118886 -1.683716  0.969588  25  10.0\n",
              "2013-01-06  2.070077 -4.120788  0.592831  30  15.0"
            ]
          },
          "metadata": {
            "tags": []
          },
          "execution_count": 69
        }
      ]
    },
    {
      "cell_type": "code",
      "metadata": {
        "id": "FoL_xvhdOQf4",
        "outputId": "cc7eaf5d-899a-4406-d853-7158c464e01d",
        "colab": {
          "base_uri": "https://localhost:8080/"
        }
      },
      "source": [
        "df.apply(lambda x: x.max() - x.min())"
      ],
      "execution_count": 70,
      "outputs": [
        {
          "output_type": "execute_result",
          "data": {
            "text/plain": [
              "A    2.182413\n",
              "B    2.437072\n",
              "C    2.237899\n",
              "D    0.000000\n",
              "F    4.000000\n",
              "dtype: float64"
            ]
          },
          "metadata": {
            "tags": []
          },
          "execution_count": 70
        }
      ]
    },
    {
      "cell_type": "markdown",
      "metadata": {
        "id": "akt_tA3kOjs3"
      },
      "source": [
        "### *** Histogramming**\n",
        "[- 참고: Histogramming and Discretization(히스토그래밍과 이산화)](https://pandas.pydata.org/pandas-docs/stable/user_guide/basics.html)"
      ]
    },
    {
      "cell_type": "code",
      "metadata": {
        "id": "iuQZkpuHOvYD",
        "outputId": "9e93d637-f8c0-4f70-b615-22295f06c158",
        "colab": {
          "base_uri": "https://localhost:8080/"
        }
      },
      "source": [
        "s = pd.Series(np.random.randint(0, 7, size = 10))\n",
        "s"
      ],
      "execution_count": 72,
      "outputs": [
        {
          "output_type": "execute_result",
          "data": {
            "text/plain": [
              "0    2\n",
              "1    3\n",
              "2    3\n",
              "3    0\n",
              "4    4\n",
              "5    4\n",
              "6    6\n",
              "7    5\n",
              "8    0\n",
              "9    1\n",
              "dtype: int64"
            ]
          },
          "metadata": {
            "tags": []
          },
          "execution_count": 72
        }
      ]
    },
    {
      "cell_type": "code",
      "metadata": {
        "id": "Jb2TegwmO0Ya",
        "outputId": "7e529919-377b-4a41-d4fd-6cea7d751b54",
        "colab": {
          "base_uri": "https://localhost:8080/"
        }
      },
      "source": [
        "s.value_counts"
      ],
      "execution_count": 73,
      "outputs": [
        {
          "output_type": "execute_result",
          "data": {
            "text/plain": [
              "<bound method IndexOpsMixin.value_counts of 0    2\n",
              "1    3\n",
              "2    3\n",
              "3    0\n",
              "4    4\n",
              "5    4\n",
              "6    6\n",
              "7    5\n",
              "8    0\n",
              "9    1\n",
              "dtype: int64>"
            ]
          },
          "metadata": {
            "tags": []
          },
          "execution_count": 73
        }
      ]
    },
    {
      "cell_type": "markdown",
      "metadata": {
        "id": "R19wY2f8O9PR"
      },
      "source": [
        "### *** String Methods**\n",
        "Series는 문자열 처리 메소드 모음(set)을 가지고 있다.  \n",
        "이 모음은 배열의 각 요소를 쉽게 조작하도록 만드는 문자열의 속성에 포함되어 있다.  \n",
        "문자열의 패턴 일치 확인은 기본적으로 정규 표현식을 사용하며, 몇몇 경우에는 항상 정규 표현식을 사용한다.  \n",
        "\n",
        "[- 참고: 벡터화된 문자열 메소드](https://pandas.pydata.org/pandas-docs/stable/user_guide/text.html)"
      ]
    },
    {
      "cell_type": "code",
      "metadata": {
        "id": "SOKxpfF-PQs8",
        "outputId": "e9d5fd71-4268-482e-c6d9-c2e79fa0ba32",
        "colab": {
          "base_uri": "https://localhost:8080/"
        }
      },
      "source": [
        "s = pd.Series(['A', 'B', 'C', 'Aaba', 'Baca', np.nan, 'CABA', 'dog', 'cat'])\n",
        "s.str.lower()"
      ],
      "execution_count": 74,
      "outputs": [
        {
          "output_type": "execute_result",
          "data": {
            "text/plain": [
              "0       a\n",
              "1       b\n",
              "2       c\n",
              "3    aaba\n",
              "4    baca\n",
              "5     NaN\n",
              "6    caba\n",
              "7     dog\n",
              "8     cat\n",
              "dtype: object"
            ]
          },
          "metadata": {
            "tags": []
          },
          "execution_count": 74
        }
      ]
    },
    {
      "cell_type": "markdown",
      "metadata": {
        "id": "38EfcJTVPe4M"
      },
      "source": [
        "## **6. Merge**  \n",
        "\n",
        "### *** Concat (연결)**\n",
        "결합(join)/병합(merge) 형태의 연산에 관한 인덱스, 관계 대수 기능을 위한 다양한 형태의 논리를 포함한 Series, 데이터프레임, Panel 객체를 손쉽게 결합하는 기능이 있다.  \n",
        "\n",
        "[- 참고: Merging](https://pandas.pydata.org/pandas-docs/stable/user_guide/merging.html)"
      ]
    },
    {
      "cell_type": "code",
      "metadata": {
        "id": "YGe4h4BJP29V",
        "outputId": "3c1aa933-1ebd-4a66-8cf7-f156516629ca",
        "colab": {
          "base_uri": "https://localhost:8080/",
          "height": 355
        }
      },
      "source": [
        "# concat()으로 pandas 객체 연결\n",
        "df = pd.DataFrame(np.random.randn(10, 4))\n",
        "df"
      ],
      "execution_count": 76,
      "outputs": [
        {
          "output_type": "execute_result",
          "data": {
            "text/html": [
              "<div>\n",
              "<style scoped>\n",
              "    .dataframe tbody tr th:only-of-type {\n",
              "        vertical-align: middle;\n",
              "    }\n",
              "\n",
              "    .dataframe tbody tr th {\n",
              "        vertical-align: top;\n",
              "    }\n",
              "\n",
              "    .dataframe thead th {\n",
              "        text-align: right;\n",
              "    }\n",
              "</style>\n",
              "<table border=\"1\" class=\"dataframe\">\n",
              "  <thead>\n",
              "    <tr style=\"text-align: right;\">\n",
              "      <th></th>\n",
              "      <th>0</th>\n",
              "      <th>1</th>\n",
              "      <th>2</th>\n",
              "      <th>3</th>\n",
              "    </tr>\n",
              "  </thead>\n",
              "  <tbody>\n",
              "    <tr>\n",
              "      <th>0</th>\n",
              "      <td>0.954296</td>\n",
              "      <td>-0.781050</td>\n",
              "      <td>-1.819922</td>\n",
              "      <td>-0.523274</td>\n",
              "    </tr>\n",
              "    <tr>\n",
              "      <th>1</th>\n",
              "      <td>3.050933</td>\n",
              "      <td>0.503699</td>\n",
              "      <td>-0.394346</td>\n",
              "      <td>0.061156</td>\n",
              "    </tr>\n",
              "    <tr>\n",
              "      <th>2</th>\n",
              "      <td>-0.740626</td>\n",
              "      <td>1.227093</td>\n",
              "      <td>-0.941005</td>\n",
              "      <td>-0.159871</td>\n",
              "    </tr>\n",
              "    <tr>\n",
              "      <th>3</th>\n",
              "      <td>0.465618</td>\n",
              "      <td>1.112706</td>\n",
              "      <td>-0.434825</td>\n",
              "      <td>0.683227</td>\n",
              "    </tr>\n",
              "    <tr>\n",
              "      <th>4</th>\n",
              "      <td>-0.955076</td>\n",
              "      <td>0.734717</td>\n",
              "      <td>0.478459</td>\n",
              "      <td>-0.121397</td>\n",
              "    </tr>\n",
              "    <tr>\n",
              "      <th>5</th>\n",
              "      <td>-0.456095</td>\n",
              "      <td>-1.027444</td>\n",
              "      <td>1.347533</td>\n",
              "      <td>-0.119972</td>\n",
              "    </tr>\n",
              "    <tr>\n",
              "      <th>6</th>\n",
              "      <td>2.091093</td>\n",
              "      <td>-0.850402</td>\n",
              "      <td>0.856106</td>\n",
              "      <td>-0.017487</td>\n",
              "    </tr>\n",
              "    <tr>\n",
              "      <th>7</th>\n",
              "      <td>-0.771944</td>\n",
              "      <td>-1.924458</td>\n",
              "      <td>-2.225448</td>\n",
              "      <td>0.063593</td>\n",
              "    </tr>\n",
              "    <tr>\n",
              "      <th>8</th>\n",
              "      <td>0.638077</td>\n",
              "      <td>-1.526856</td>\n",
              "      <td>0.046085</td>\n",
              "      <td>0.967843</td>\n",
              "    </tr>\n",
              "    <tr>\n",
              "      <th>9</th>\n",
              "      <td>-1.242453</td>\n",
              "      <td>0.136737</td>\n",
              "      <td>0.394506</td>\n",
              "      <td>1.319932</td>\n",
              "    </tr>\n",
              "  </tbody>\n",
              "</table>\n",
              "</div>"
            ],
            "text/plain": [
              "          0         1         2         3\n",
              "0  0.954296 -0.781050 -1.819922 -0.523274\n",
              "1  3.050933  0.503699 -0.394346  0.061156\n",
              "2 -0.740626  1.227093 -0.941005 -0.159871\n",
              "3  0.465618  1.112706 -0.434825  0.683227\n",
              "4 -0.955076  0.734717  0.478459 -0.121397\n",
              "5 -0.456095 -1.027444  1.347533 -0.119972\n",
              "6  2.091093 -0.850402  0.856106 -0.017487\n",
              "7 -0.771944 -1.924458 -2.225448  0.063593\n",
              "8  0.638077 -1.526856  0.046085  0.967843\n",
              "9 -1.242453  0.136737  0.394506  1.319932"
            ]
          },
          "metadata": {
            "tags": []
          },
          "execution_count": 76
        }
      ]
    },
    {
      "cell_type": "code",
      "metadata": {
        "id": "zh_PiZOnP-OQ",
        "outputId": "f17741c8-90f8-43e9-b92f-66ae8f8ad3fe",
        "colab": {
          "base_uri": "https://localhost:8080/",
          "height": 355
        }
      },
      "source": [
        "# break it into pieces\n",
        "pieces = [df[:3], df[3:7], df[7:]]\n",
        "pd.concat(pieces)"
      ],
      "execution_count": 77,
      "outputs": [
        {
          "output_type": "execute_result",
          "data": {
            "text/html": [
              "<div>\n",
              "<style scoped>\n",
              "    .dataframe tbody tr th:only-of-type {\n",
              "        vertical-align: middle;\n",
              "    }\n",
              "\n",
              "    .dataframe tbody tr th {\n",
              "        vertical-align: top;\n",
              "    }\n",
              "\n",
              "    .dataframe thead th {\n",
              "        text-align: right;\n",
              "    }\n",
              "</style>\n",
              "<table border=\"1\" class=\"dataframe\">\n",
              "  <thead>\n",
              "    <tr style=\"text-align: right;\">\n",
              "      <th></th>\n",
              "      <th>0</th>\n",
              "      <th>1</th>\n",
              "      <th>2</th>\n",
              "      <th>3</th>\n",
              "    </tr>\n",
              "  </thead>\n",
              "  <tbody>\n",
              "    <tr>\n",
              "      <th>0</th>\n",
              "      <td>0.954296</td>\n",
              "      <td>-0.781050</td>\n",
              "      <td>-1.819922</td>\n",
              "      <td>-0.523274</td>\n",
              "    </tr>\n",
              "    <tr>\n",
              "      <th>1</th>\n",
              "      <td>3.050933</td>\n",
              "      <td>0.503699</td>\n",
              "      <td>-0.394346</td>\n",
              "      <td>0.061156</td>\n",
              "    </tr>\n",
              "    <tr>\n",
              "      <th>2</th>\n",
              "      <td>-0.740626</td>\n",
              "      <td>1.227093</td>\n",
              "      <td>-0.941005</td>\n",
              "      <td>-0.159871</td>\n",
              "    </tr>\n",
              "    <tr>\n",
              "      <th>3</th>\n",
              "      <td>0.465618</td>\n",
              "      <td>1.112706</td>\n",
              "      <td>-0.434825</td>\n",
              "      <td>0.683227</td>\n",
              "    </tr>\n",
              "    <tr>\n",
              "      <th>4</th>\n",
              "      <td>-0.955076</td>\n",
              "      <td>0.734717</td>\n",
              "      <td>0.478459</td>\n",
              "      <td>-0.121397</td>\n",
              "    </tr>\n",
              "    <tr>\n",
              "      <th>5</th>\n",
              "      <td>-0.456095</td>\n",
              "      <td>-1.027444</td>\n",
              "      <td>1.347533</td>\n",
              "      <td>-0.119972</td>\n",
              "    </tr>\n",
              "    <tr>\n",
              "      <th>6</th>\n",
              "      <td>2.091093</td>\n",
              "      <td>-0.850402</td>\n",
              "      <td>0.856106</td>\n",
              "      <td>-0.017487</td>\n",
              "    </tr>\n",
              "    <tr>\n",
              "      <th>7</th>\n",
              "      <td>-0.771944</td>\n",
              "      <td>-1.924458</td>\n",
              "      <td>-2.225448</td>\n",
              "      <td>0.063593</td>\n",
              "    </tr>\n",
              "    <tr>\n",
              "      <th>8</th>\n",
              "      <td>0.638077</td>\n",
              "      <td>-1.526856</td>\n",
              "      <td>0.046085</td>\n",
              "      <td>0.967843</td>\n",
              "    </tr>\n",
              "    <tr>\n",
              "      <th>9</th>\n",
              "      <td>-1.242453</td>\n",
              "      <td>0.136737</td>\n",
              "      <td>0.394506</td>\n",
              "      <td>1.319932</td>\n",
              "    </tr>\n",
              "  </tbody>\n",
              "</table>\n",
              "</div>"
            ],
            "text/plain": [
              "          0         1         2         3\n",
              "0  0.954296 -0.781050 -1.819922 -0.523274\n",
              "1  3.050933  0.503699 -0.394346  0.061156\n",
              "2 -0.740626  1.227093 -0.941005 -0.159871\n",
              "3  0.465618  1.112706 -0.434825  0.683227\n",
              "4 -0.955076  0.734717  0.478459 -0.121397\n",
              "5 -0.456095 -1.027444  1.347533 -0.119972\n",
              "6  2.091093 -0.850402  0.856106 -0.017487\n",
              "7 -0.771944 -1.924458 -2.225448  0.063593\n",
              "8  0.638077 -1.526856  0.046085  0.967843\n",
              "9 -1.242453  0.136737  0.394506  1.319932"
            ]
          },
          "metadata": {
            "tags": []
          },
          "execution_count": 77
        }
      ]
    },
    {
      "cell_type": "markdown",
      "metadata": {
        "id": "gKuNAV8qQJG8"
      },
      "source": [
        "### *** Join**\n",
        "SQL 방식으로 병합한다.  \n",
        "[- 참고: 데이터베이스 스타일 결합](https://pandas.pydata.org/pandas-docs/stable/user_guide/merging.html)"
      ]
    },
    {
      "cell_type": "code",
      "metadata": {
        "id": "gcH61KBgQS_K",
        "outputId": "cf4c8f81-8af7-42b2-fcfb-e3156361a140",
        "colab": {
          "base_uri": "https://localhost:8080/",
          "height": 110
        }
      },
      "source": [
        "left = pd.DataFrame({'key': ['foo', 'foo'], 'lval': [1, 2]})\n",
        "right = pd.DataFrame({'key': ['foo', 'foo'], 'rval': [4, 5]})"
      ],
      "execution_count": 79,
      "outputs": [
        {
          "output_type": "execute_result",
          "data": {
            "text/html": [
              "<div>\n",
              "<style scoped>\n",
              "    .dataframe tbody tr th:only-of-type {\n",
              "        vertical-align: middle;\n",
              "    }\n",
              "\n",
              "    .dataframe tbody tr th {\n",
              "        vertical-align: top;\n",
              "    }\n",
              "\n",
              "    .dataframe thead th {\n",
              "        text-align: right;\n",
              "    }\n",
              "</style>\n",
              "<table border=\"1\" class=\"dataframe\">\n",
              "  <thead>\n",
              "    <tr style=\"text-align: right;\">\n",
              "      <th></th>\n",
              "      <th>key</th>\n",
              "      <th>lval</th>\n",
              "    </tr>\n",
              "  </thead>\n",
              "  <tbody>\n",
              "    <tr>\n",
              "      <th>0</th>\n",
              "      <td>foo</td>\n",
              "      <td>1</td>\n",
              "    </tr>\n",
              "    <tr>\n",
              "      <th>1</th>\n",
              "      <td>foo</td>\n",
              "      <td>2</td>\n",
              "    </tr>\n",
              "  </tbody>\n",
              "</table>\n",
              "</div>"
            ],
            "text/plain": [
              "   key  lval\n",
              "0  foo     1\n",
              "1  foo     2"
            ]
          },
          "metadata": {
            "tags": []
          },
          "execution_count": 79
        }
      ]
    },
    {
      "cell_type": "code",
      "metadata": {
        "id": "CXsWDXGpQu2I",
        "outputId": "afe8403c-19d1-4a52-9c49-6802f43d5bc9",
        "colab": {
          "base_uri": "https://localhost:8080/",
          "height": 110
        }
      },
      "source": [
        "left"
      ],
      "execution_count": 82,
      "outputs": [
        {
          "output_type": "execute_result",
          "data": {
            "text/html": [
              "<div>\n",
              "<style scoped>\n",
              "    .dataframe tbody tr th:only-of-type {\n",
              "        vertical-align: middle;\n",
              "    }\n",
              "\n",
              "    .dataframe tbody tr th {\n",
              "        vertical-align: top;\n",
              "    }\n",
              "\n",
              "    .dataframe thead th {\n",
              "        text-align: right;\n",
              "    }\n",
              "</style>\n",
              "<table border=\"1\" class=\"dataframe\">\n",
              "  <thead>\n",
              "    <tr style=\"text-align: right;\">\n",
              "      <th></th>\n",
              "      <th>key</th>\n",
              "      <th>lval</th>\n",
              "    </tr>\n",
              "  </thead>\n",
              "  <tbody>\n",
              "    <tr>\n",
              "      <th>0</th>\n",
              "      <td>foo</td>\n",
              "      <td>1</td>\n",
              "    </tr>\n",
              "    <tr>\n",
              "      <th>1</th>\n",
              "      <td>foo</td>\n",
              "      <td>2</td>\n",
              "    </tr>\n",
              "  </tbody>\n",
              "</table>\n",
              "</div>"
            ],
            "text/plain": [
              "   key  lval\n",
              "0  foo     1\n",
              "1  foo     2"
            ]
          },
          "metadata": {
            "tags": []
          },
          "execution_count": 82
        }
      ]
    },
    {
      "cell_type": "code",
      "metadata": {
        "id": "5PfcimZaQqV9",
        "outputId": "6432e86b-d815-4f08-e4fc-64fcf25a374d",
        "colab": {
          "base_uri": "https://localhost:8080/",
          "height": 110
        }
      },
      "source": [
        "right"
      ],
      "execution_count": 83,
      "outputs": [
        {
          "output_type": "execute_result",
          "data": {
            "text/html": [
              "<div>\n",
              "<style scoped>\n",
              "    .dataframe tbody tr th:only-of-type {\n",
              "        vertical-align: middle;\n",
              "    }\n",
              "\n",
              "    .dataframe tbody tr th {\n",
              "        vertical-align: top;\n",
              "    }\n",
              "\n",
              "    .dataframe thead th {\n",
              "        text-align: right;\n",
              "    }\n",
              "</style>\n",
              "<table border=\"1\" class=\"dataframe\">\n",
              "  <thead>\n",
              "    <tr style=\"text-align: right;\">\n",
              "      <th></th>\n",
              "      <th>key</th>\n",
              "      <th>rval</th>\n",
              "    </tr>\n",
              "  </thead>\n",
              "  <tbody>\n",
              "    <tr>\n",
              "      <th>0</th>\n",
              "      <td>foo</td>\n",
              "      <td>4</td>\n",
              "    </tr>\n",
              "    <tr>\n",
              "      <th>1</th>\n",
              "      <td>foo</td>\n",
              "      <td>5</td>\n",
              "    </tr>\n",
              "  </tbody>\n",
              "</table>\n",
              "</div>"
            ],
            "text/plain": [
              "   key  rval\n",
              "0  foo     4\n",
              "1  foo     5"
            ]
          },
          "metadata": {
            "tags": []
          },
          "execution_count": 83
        }
      ]
    },
    {
      "cell_type": "code",
      "metadata": {
        "id": "PnZp_q0eQqhM",
        "outputId": "007faab2-9696-489b-a1c5-73c7b80c97a4",
        "colab": {
          "base_uri": "https://localhost:8080/",
          "height": 171
        }
      },
      "source": [
        "pd.merge(left, right, on = 'key')"
      ],
      "execution_count": 84,
      "outputs": [
        {
          "output_type": "execute_result",
          "data": {
            "text/html": [
              "<div>\n",
              "<style scoped>\n",
              "    .dataframe tbody tr th:only-of-type {\n",
              "        vertical-align: middle;\n",
              "    }\n",
              "\n",
              "    .dataframe tbody tr th {\n",
              "        vertical-align: top;\n",
              "    }\n",
              "\n",
              "    .dataframe thead th {\n",
              "        text-align: right;\n",
              "    }\n",
              "</style>\n",
              "<table border=\"1\" class=\"dataframe\">\n",
              "  <thead>\n",
              "    <tr style=\"text-align: right;\">\n",
              "      <th></th>\n",
              "      <th>key</th>\n",
              "      <th>lval</th>\n",
              "      <th>rval</th>\n",
              "    </tr>\n",
              "  </thead>\n",
              "  <tbody>\n",
              "    <tr>\n",
              "      <th>0</th>\n",
              "      <td>foo</td>\n",
              "      <td>1</td>\n",
              "      <td>4</td>\n",
              "    </tr>\n",
              "    <tr>\n",
              "      <th>1</th>\n",
              "      <td>foo</td>\n",
              "      <td>1</td>\n",
              "      <td>5</td>\n",
              "    </tr>\n",
              "    <tr>\n",
              "      <th>2</th>\n",
              "      <td>foo</td>\n",
              "      <td>2</td>\n",
              "      <td>4</td>\n",
              "    </tr>\n",
              "    <tr>\n",
              "      <th>3</th>\n",
              "      <td>foo</td>\n",
              "      <td>2</td>\n",
              "      <td>5</td>\n",
              "    </tr>\n",
              "  </tbody>\n",
              "</table>\n",
              "</div>"
            ],
            "text/plain": [
              "   key  lval  rval\n",
              "0  foo     1     4\n",
              "1  foo     1     5\n",
              "2  foo     2     4\n",
              "3  foo     2     5"
            ]
          },
          "metadata": {
            "tags": []
          },
          "execution_count": 84
        }
      ]
    },
    {
      "cell_type": "code",
      "metadata": {
        "id": "_fHEP5lSQ4SN"
      },
      "source": [
        "# 다른 예시\n",
        "left = pd.DataFrame({'key': ['foo', 'bar'], 'lval': [1, 2]})\n",
        "right = pd.DataFrame({'key': ['foo', 'bar'], 'rval': [4, 5]})"
      ],
      "execution_count": 87,
      "outputs": []
    },
    {
      "cell_type": "code",
      "metadata": {
        "id": "8DSVr11eRKX2",
        "outputId": "14a137c6-2202-493c-a39d-de2580b6c174",
        "colab": {
          "base_uri": "https://localhost:8080/",
          "height": 110
        }
      },
      "source": [
        "left"
      ],
      "execution_count": 89,
      "outputs": [
        {
          "output_type": "execute_result",
          "data": {
            "text/html": [
              "<div>\n",
              "<style scoped>\n",
              "    .dataframe tbody tr th:only-of-type {\n",
              "        vertical-align: middle;\n",
              "    }\n",
              "\n",
              "    .dataframe tbody tr th {\n",
              "        vertical-align: top;\n",
              "    }\n",
              "\n",
              "    .dataframe thead th {\n",
              "        text-align: right;\n",
              "    }\n",
              "</style>\n",
              "<table border=\"1\" class=\"dataframe\">\n",
              "  <thead>\n",
              "    <tr style=\"text-align: right;\">\n",
              "      <th></th>\n",
              "      <th>key</th>\n",
              "      <th>lval</th>\n",
              "    </tr>\n",
              "  </thead>\n",
              "  <tbody>\n",
              "    <tr>\n",
              "      <th>0</th>\n",
              "      <td>foo</td>\n",
              "      <td>1</td>\n",
              "    </tr>\n",
              "    <tr>\n",
              "      <th>1</th>\n",
              "      <td>bar</td>\n",
              "      <td>2</td>\n",
              "    </tr>\n",
              "  </tbody>\n",
              "</table>\n",
              "</div>"
            ],
            "text/plain": [
              "   key  lval\n",
              "0  foo     1\n",
              "1  bar     2"
            ]
          },
          "metadata": {
            "tags": []
          },
          "execution_count": 89
        }
      ]
    },
    {
      "cell_type": "code",
      "metadata": {
        "id": "SbsqBjk4RMp8",
        "outputId": "cfe3aeae-d939-4e0b-85b2-bc642f1abbf5",
        "colab": {
          "base_uri": "https://localhost:8080/",
          "height": 110
        }
      },
      "source": [
        "right"
      ],
      "execution_count": 91,
      "outputs": [
        {
          "output_type": "execute_result",
          "data": {
            "text/html": [
              "<div>\n",
              "<style scoped>\n",
              "    .dataframe tbody tr th:only-of-type {\n",
              "        vertical-align: middle;\n",
              "    }\n",
              "\n",
              "    .dataframe tbody tr th {\n",
              "        vertical-align: top;\n",
              "    }\n",
              "\n",
              "    .dataframe thead th {\n",
              "        text-align: right;\n",
              "    }\n",
              "</style>\n",
              "<table border=\"1\" class=\"dataframe\">\n",
              "  <thead>\n",
              "    <tr style=\"text-align: right;\">\n",
              "      <th></th>\n",
              "      <th>key</th>\n",
              "      <th>rval</th>\n",
              "    </tr>\n",
              "  </thead>\n",
              "  <tbody>\n",
              "    <tr>\n",
              "      <th>0</th>\n",
              "      <td>foo</td>\n",
              "      <td>4</td>\n",
              "    </tr>\n",
              "    <tr>\n",
              "      <th>1</th>\n",
              "      <td>bar</td>\n",
              "      <td>5</td>\n",
              "    </tr>\n",
              "  </tbody>\n",
              "</table>\n",
              "</div>"
            ],
            "text/plain": [
              "   key  rval\n",
              "0  foo     4\n",
              "1  bar     5"
            ]
          },
          "metadata": {
            "tags": []
          },
          "execution_count": 91
        }
      ]
    },
    {
      "cell_type": "code",
      "metadata": {
        "id": "Z-4Vs166ROVh",
        "outputId": "624427fc-5c3c-4959-b1d1-c4792759155f",
        "colab": {
          "base_uri": "https://localhost:8080/",
          "height": 110
        }
      },
      "source": [
        "pd.merge(left, right, on = 'key')"
      ],
      "execution_count": 92,
      "outputs": [
        {
          "output_type": "execute_result",
          "data": {
            "text/html": [
              "<div>\n",
              "<style scoped>\n",
              "    .dataframe tbody tr th:only-of-type {\n",
              "        vertical-align: middle;\n",
              "    }\n",
              "\n",
              "    .dataframe tbody tr th {\n",
              "        vertical-align: top;\n",
              "    }\n",
              "\n",
              "    .dataframe thead th {\n",
              "        text-align: right;\n",
              "    }\n",
              "</style>\n",
              "<table border=\"1\" class=\"dataframe\">\n",
              "  <thead>\n",
              "    <tr style=\"text-align: right;\">\n",
              "      <th></th>\n",
              "      <th>key</th>\n",
              "      <th>lval</th>\n",
              "      <th>rval</th>\n",
              "    </tr>\n",
              "  </thead>\n",
              "  <tbody>\n",
              "    <tr>\n",
              "      <th>0</th>\n",
              "      <td>foo</td>\n",
              "      <td>1</td>\n",
              "      <td>4</td>\n",
              "    </tr>\n",
              "    <tr>\n",
              "      <th>1</th>\n",
              "      <td>bar</td>\n",
              "      <td>2</td>\n",
              "      <td>5</td>\n",
              "    </tr>\n",
              "  </tbody>\n",
              "</table>\n",
              "</div>"
            ],
            "text/plain": [
              "   key  lval  rval\n",
              "0  foo     1     4\n",
              "1  bar     2     5"
            ]
          },
          "metadata": {
            "tags": []
          },
          "execution_count": 92
        }
      ]
    },
    {
      "cell_type": "markdown",
      "metadata": {
        "id": "Qa4wVI7oRo9k"
      },
      "source": [
        "### *** Append (추가)**\n",
        "데이터프레임에 행을 추가한다.  \n",
        "[- 참고: Appending](https://pandas.pydata.org/pandas-docs/stable/user_guide/merging.html)"
      ]
    },
    {
      "cell_type": "code",
      "metadata": {
        "id": "NK954e9CRxwr",
        "outputId": "8d773c9d-7a05-43a8-a528-8060cef74cba",
        "colab": {
          "base_uri": "https://localhost:8080/",
          "height": 294
        }
      },
      "source": [
        "df = pd.DataFrame(np.random.randn(8, 4), columns = ['A', 'B', 'C', 'D'])\n",
        "df"
      ],
      "execution_count": 94,
      "outputs": [
        {
          "output_type": "execute_result",
          "data": {
            "text/html": [
              "<div>\n",
              "<style scoped>\n",
              "    .dataframe tbody tr th:only-of-type {\n",
              "        vertical-align: middle;\n",
              "    }\n",
              "\n",
              "    .dataframe tbody tr th {\n",
              "        vertical-align: top;\n",
              "    }\n",
              "\n",
              "    .dataframe thead th {\n",
              "        text-align: right;\n",
              "    }\n",
              "</style>\n",
              "<table border=\"1\" class=\"dataframe\">\n",
              "  <thead>\n",
              "    <tr style=\"text-align: right;\">\n",
              "      <th></th>\n",
              "      <th>A</th>\n",
              "      <th>B</th>\n",
              "      <th>C</th>\n",
              "      <th>D</th>\n",
              "    </tr>\n",
              "  </thead>\n",
              "  <tbody>\n",
              "    <tr>\n",
              "      <th>0</th>\n",
              "      <td>1.084682</td>\n",
              "      <td>-0.070600</td>\n",
              "      <td>-0.253510</td>\n",
              "      <td>-0.543952</td>\n",
              "    </tr>\n",
              "    <tr>\n",
              "      <th>1</th>\n",
              "      <td>-0.508307</td>\n",
              "      <td>0.488164</td>\n",
              "      <td>-0.383926</td>\n",
              "      <td>0.319728</td>\n",
              "    </tr>\n",
              "    <tr>\n",
              "      <th>2</th>\n",
              "      <td>-0.643389</td>\n",
              "      <td>0.574200</td>\n",
              "      <td>-2.010267</td>\n",
              "      <td>-0.228498</td>\n",
              "    </tr>\n",
              "    <tr>\n",
              "      <th>3</th>\n",
              "      <td>-0.425625</td>\n",
              "      <td>-1.047864</td>\n",
              "      <td>-0.384171</td>\n",
              "      <td>1.248674</td>\n",
              "    </tr>\n",
              "    <tr>\n",
              "      <th>4</th>\n",
              "      <td>1.714311</td>\n",
              "      <td>0.948370</td>\n",
              "      <td>-1.328857</td>\n",
              "      <td>0.527210</td>\n",
              "    </tr>\n",
              "    <tr>\n",
              "      <th>5</th>\n",
              "      <td>-0.062034</td>\n",
              "      <td>0.907521</td>\n",
              "      <td>0.264906</td>\n",
              "      <td>1.020753</td>\n",
              "    </tr>\n",
              "    <tr>\n",
              "      <th>6</th>\n",
              "      <td>0.900050</td>\n",
              "      <td>-1.708019</td>\n",
              "      <td>1.219485</td>\n",
              "      <td>0.087306</td>\n",
              "    </tr>\n",
              "    <tr>\n",
              "      <th>7</th>\n",
              "      <td>-1.602747</td>\n",
              "      <td>-0.095129</td>\n",
              "      <td>0.279006</td>\n",
              "      <td>-0.274761</td>\n",
              "    </tr>\n",
              "  </tbody>\n",
              "</table>\n",
              "</div>"
            ],
            "text/plain": [
              "          A         B         C         D\n",
              "0  1.084682 -0.070600 -0.253510 -0.543952\n",
              "1 -0.508307  0.488164 -0.383926  0.319728\n",
              "2 -0.643389  0.574200 -2.010267 -0.228498\n",
              "3 -0.425625 -1.047864 -0.384171  1.248674\n",
              "4  1.714311  0.948370 -1.328857  0.527210\n",
              "5 -0.062034  0.907521  0.264906  1.020753\n",
              "6  0.900050 -1.708019  1.219485  0.087306\n",
              "7 -1.602747 -0.095129  0.279006 -0.274761"
            ]
          },
          "metadata": {
            "tags": []
          },
          "execution_count": 94
        }
      ]
    },
    {
      "cell_type": "code",
      "metadata": {
        "id": "QlXKGdExR67A",
        "outputId": "a28e1e86-911b-4c02-86f6-d9a1a95d9506",
        "colab": {
          "base_uri": "https://localhost:8080/",
          "height": 325
        }
      },
      "source": [
        "s = df.iloc[3]\n",
        "df.append(s, ignore_index=True)"
      ],
      "execution_count": 95,
      "outputs": [
        {
          "output_type": "execute_result",
          "data": {
            "text/html": [
              "<div>\n",
              "<style scoped>\n",
              "    .dataframe tbody tr th:only-of-type {\n",
              "        vertical-align: middle;\n",
              "    }\n",
              "\n",
              "    .dataframe tbody tr th {\n",
              "        vertical-align: top;\n",
              "    }\n",
              "\n",
              "    .dataframe thead th {\n",
              "        text-align: right;\n",
              "    }\n",
              "</style>\n",
              "<table border=\"1\" class=\"dataframe\">\n",
              "  <thead>\n",
              "    <tr style=\"text-align: right;\">\n",
              "      <th></th>\n",
              "      <th>A</th>\n",
              "      <th>B</th>\n",
              "      <th>C</th>\n",
              "      <th>D</th>\n",
              "    </tr>\n",
              "  </thead>\n",
              "  <tbody>\n",
              "    <tr>\n",
              "      <th>0</th>\n",
              "      <td>1.084682</td>\n",
              "      <td>-0.070600</td>\n",
              "      <td>-0.253510</td>\n",
              "      <td>-0.543952</td>\n",
              "    </tr>\n",
              "    <tr>\n",
              "      <th>1</th>\n",
              "      <td>-0.508307</td>\n",
              "      <td>0.488164</td>\n",
              "      <td>-0.383926</td>\n",
              "      <td>0.319728</td>\n",
              "    </tr>\n",
              "    <tr>\n",
              "      <th>2</th>\n",
              "      <td>-0.643389</td>\n",
              "      <td>0.574200</td>\n",
              "      <td>-2.010267</td>\n",
              "      <td>-0.228498</td>\n",
              "    </tr>\n",
              "    <tr>\n",
              "      <th>3</th>\n",
              "      <td>-0.425625</td>\n",
              "      <td>-1.047864</td>\n",
              "      <td>-0.384171</td>\n",
              "      <td>1.248674</td>\n",
              "    </tr>\n",
              "    <tr>\n",
              "      <th>4</th>\n",
              "      <td>1.714311</td>\n",
              "      <td>0.948370</td>\n",
              "      <td>-1.328857</td>\n",
              "      <td>0.527210</td>\n",
              "    </tr>\n",
              "    <tr>\n",
              "      <th>5</th>\n",
              "      <td>-0.062034</td>\n",
              "      <td>0.907521</td>\n",
              "      <td>0.264906</td>\n",
              "      <td>1.020753</td>\n",
              "    </tr>\n",
              "    <tr>\n",
              "      <th>6</th>\n",
              "      <td>0.900050</td>\n",
              "      <td>-1.708019</td>\n",
              "      <td>1.219485</td>\n",
              "      <td>0.087306</td>\n",
              "    </tr>\n",
              "    <tr>\n",
              "      <th>7</th>\n",
              "      <td>-1.602747</td>\n",
              "      <td>-0.095129</td>\n",
              "      <td>0.279006</td>\n",
              "      <td>-0.274761</td>\n",
              "    </tr>\n",
              "    <tr>\n",
              "      <th>8</th>\n",
              "      <td>-0.425625</td>\n",
              "      <td>-1.047864</td>\n",
              "      <td>-0.384171</td>\n",
              "      <td>1.248674</td>\n",
              "    </tr>\n",
              "  </tbody>\n",
              "</table>\n",
              "</div>"
            ],
            "text/plain": [
              "          A         B         C         D\n",
              "0  1.084682 -0.070600 -0.253510 -0.543952\n",
              "1 -0.508307  0.488164 -0.383926  0.319728\n",
              "2 -0.643389  0.574200 -2.010267 -0.228498\n",
              "3 -0.425625 -1.047864 -0.384171  1.248674\n",
              "4  1.714311  0.948370 -1.328857  0.527210\n",
              "5 -0.062034  0.907521  0.264906  1.020753\n",
              "6  0.900050 -1.708019  1.219485  0.087306\n",
              "7 -1.602747 -0.095129  0.279006 -0.274761\n",
              "8 -0.425625 -1.047864 -0.384171  1.248674"
            ]
          },
          "metadata": {
            "tags": []
          },
          "execution_count": 95
        }
      ]
    },
    {
      "cell_type": "markdown",
      "metadata": {
        "id": "GxhzqBGcSHyF"
      },
      "source": [
        "## **7. Grouping**\n",
        "그룹화는 다음 단계 중 하나 이상을 포함하는 과정을 말한다.  \n",
        "- 몇몇 기준에 따라 여러 그룹으로 데이터를 분할(splitting)  \n",
        "- 각 그룹에 독립적으로 함수를 적용(applying)  \n",
        "- 결과물을 하나의 데이터 구조로 결합(combining)  \n",
        "\n",
        "[- 참고: 그룹화](https://pandas.pydata.org/pandas-docs/stable/user_guide/groupby.html)"
      ]
    },
    {
      "cell_type": "code",
      "metadata": {
        "id": "93A1AVKNSZ3f",
        "outputId": "23d64b7d-1461-4c37-d37c-94549cc469ae",
        "colab": {
          "base_uri": "https://localhost:8080/",
          "height": 294
        }
      },
      "source": [
        "df = pd.DataFrame(\n",
        "    {\n",
        "        'A': ['foo', 'bar', 'foo', 'bar', 'foo', 'bar', 'foo', 'foo'],\n",
        "        'B': ['one', 'one', 'two', 'three', 'two', 'two', 'one', 'three'],\n",
        "        'C': np.random.randn(8),\n",
        "        'D': np.random.randn(8)\n",
        "    })\n",
        "\n",
        "df"
      ],
      "execution_count": 97,
      "outputs": [
        {
          "output_type": "execute_result",
          "data": {
            "text/html": [
              "<div>\n",
              "<style scoped>\n",
              "    .dataframe tbody tr th:only-of-type {\n",
              "        vertical-align: middle;\n",
              "    }\n",
              "\n",
              "    .dataframe tbody tr th {\n",
              "        vertical-align: top;\n",
              "    }\n",
              "\n",
              "    .dataframe thead th {\n",
              "        text-align: right;\n",
              "    }\n",
              "</style>\n",
              "<table border=\"1\" class=\"dataframe\">\n",
              "  <thead>\n",
              "    <tr style=\"text-align: right;\">\n",
              "      <th></th>\n",
              "      <th>A</th>\n",
              "      <th>B</th>\n",
              "      <th>C</th>\n",
              "      <th>D</th>\n",
              "    </tr>\n",
              "  </thead>\n",
              "  <tbody>\n",
              "    <tr>\n",
              "      <th>0</th>\n",
              "      <td>foo</td>\n",
              "      <td>one</td>\n",
              "      <td>0.127550</td>\n",
              "      <td>0.426812</td>\n",
              "    </tr>\n",
              "    <tr>\n",
              "      <th>1</th>\n",
              "      <td>bar</td>\n",
              "      <td>one</td>\n",
              "      <td>1.463203</td>\n",
              "      <td>-0.112034</td>\n",
              "    </tr>\n",
              "    <tr>\n",
              "      <th>2</th>\n",
              "      <td>foo</td>\n",
              "      <td>two</td>\n",
              "      <td>-1.096286</td>\n",
              "      <td>-2.066998</td>\n",
              "    </tr>\n",
              "    <tr>\n",
              "      <th>3</th>\n",
              "      <td>bar</td>\n",
              "      <td>three</td>\n",
              "      <td>0.717795</td>\n",
              "      <td>0.022521</td>\n",
              "    </tr>\n",
              "    <tr>\n",
              "      <th>4</th>\n",
              "      <td>foo</td>\n",
              "      <td>two</td>\n",
              "      <td>0.577328</td>\n",
              "      <td>-0.458582</td>\n",
              "    </tr>\n",
              "    <tr>\n",
              "      <th>5</th>\n",
              "      <td>bar</td>\n",
              "      <td>two</td>\n",
              "      <td>-0.666696</td>\n",
              "      <td>0.875146</td>\n",
              "    </tr>\n",
              "    <tr>\n",
              "      <th>6</th>\n",
              "      <td>foo</td>\n",
              "      <td>one</td>\n",
              "      <td>0.784724</td>\n",
              "      <td>0.727839</td>\n",
              "    </tr>\n",
              "    <tr>\n",
              "      <th>7</th>\n",
              "      <td>foo</td>\n",
              "      <td>three</td>\n",
              "      <td>-1.315582</td>\n",
              "      <td>0.033259</td>\n",
              "    </tr>\n",
              "  </tbody>\n",
              "</table>\n",
              "</div>"
            ],
            "text/plain": [
              "     A      B         C         D\n",
              "0  foo    one  0.127550  0.426812\n",
              "1  bar    one  1.463203 -0.112034\n",
              "2  foo    two -1.096286 -2.066998\n",
              "3  bar  three  0.717795  0.022521\n",
              "4  foo    two  0.577328 -0.458582\n",
              "5  bar    two -0.666696  0.875146\n",
              "6  foo    one  0.784724  0.727839\n",
              "7  foo  three -1.315582  0.033259"
            ]
          },
          "metadata": {
            "tags": []
          },
          "execution_count": 97
        }
      ]
    },
    {
      "cell_type": "code",
      "metadata": {
        "id": "-vO5TfojS76w",
        "outputId": "a31e082c-afc2-403d-9de1-38dae91e5e8f",
        "colab": {
          "base_uri": "https://localhost:8080/",
          "height": 141
        }
      },
      "source": [
        "# 생성된 데이터프레임을 그룹화한 후, 각 그룹에 sum() 함수 적용\n",
        "df.groupby('A').sum()"
      ],
      "execution_count": 99,
      "outputs": [
        {
          "output_type": "execute_result",
          "data": {
            "text/html": [
              "<div>\n",
              "<style scoped>\n",
              "    .dataframe tbody tr th:only-of-type {\n",
              "        vertical-align: middle;\n",
              "    }\n",
              "\n",
              "    .dataframe tbody tr th {\n",
              "        vertical-align: top;\n",
              "    }\n",
              "\n",
              "    .dataframe thead th {\n",
              "        text-align: right;\n",
              "    }\n",
              "</style>\n",
              "<table border=\"1\" class=\"dataframe\">\n",
              "  <thead>\n",
              "    <tr style=\"text-align: right;\">\n",
              "      <th></th>\n",
              "      <th>C</th>\n",
              "      <th>D</th>\n",
              "    </tr>\n",
              "    <tr>\n",
              "      <th>A</th>\n",
              "      <th></th>\n",
              "      <th></th>\n",
              "    </tr>\n",
              "  </thead>\n",
              "  <tbody>\n",
              "    <tr>\n",
              "      <th>bar</th>\n",
              "      <td>1.514301</td>\n",
              "      <td>0.785634</td>\n",
              "    </tr>\n",
              "    <tr>\n",
              "      <th>foo</th>\n",
              "      <td>-0.922266</td>\n",
              "      <td>-1.337669</td>\n",
              "    </tr>\n",
              "  </tbody>\n",
              "</table>\n",
              "</div>"
            ],
            "text/plain": [
              "            C         D\n",
              "A                      \n",
              "bar  1.514301  0.785634\n",
              "foo -0.922266 -1.337669"
            ]
          },
          "metadata": {
            "tags": []
          },
          "execution_count": 99
        }
      ]
    },
    {
      "cell_type": "code",
      "metadata": {
        "id": "JNauw_RfTCxR",
        "outputId": "12180025-0c5c-4da9-cbb7-bd9c531de1fe",
        "colab": {
          "base_uri": "https://localhost:8080/",
          "height": 263
        }
      },
      "source": [
        "# 여러 열을 기준으로 그룹화하면 계층적 인덱스가 형성, 여기에도 sum 함수 적용 가능\n",
        "df.groupby(['A', 'B']).sum()"
      ],
      "execution_count": 101,
      "outputs": [
        {
          "output_type": "execute_result",
          "data": {
            "text/html": [
              "<div>\n",
              "<style scoped>\n",
              "    .dataframe tbody tr th:only-of-type {\n",
              "        vertical-align: middle;\n",
              "    }\n",
              "\n",
              "    .dataframe tbody tr th {\n",
              "        vertical-align: top;\n",
              "    }\n",
              "\n",
              "    .dataframe thead th {\n",
              "        text-align: right;\n",
              "    }\n",
              "</style>\n",
              "<table border=\"1\" class=\"dataframe\">\n",
              "  <thead>\n",
              "    <tr style=\"text-align: right;\">\n",
              "      <th></th>\n",
              "      <th></th>\n",
              "      <th>C</th>\n",
              "      <th>D</th>\n",
              "    </tr>\n",
              "    <tr>\n",
              "      <th>A</th>\n",
              "      <th>B</th>\n",
              "      <th></th>\n",
              "      <th></th>\n",
              "    </tr>\n",
              "  </thead>\n",
              "  <tbody>\n",
              "    <tr>\n",
              "      <th rowspan=\"3\" valign=\"top\">bar</th>\n",
              "      <th>one</th>\n",
              "      <td>1.463203</td>\n",
              "      <td>-0.112034</td>\n",
              "    </tr>\n",
              "    <tr>\n",
              "      <th>three</th>\n",
              "      <td>0.717795</td>\n",
              "      <td>0.022521</td>\n",
              "    </tr>\n",
              "    <tr>\n",
              "      <th>two</th>\n",
              "      <td>-0.666696</td>\n",
              "      <td>0.875146</td>\n",
              "    </tr>\n",
              "    <tr>\n",
              "      <th rowspan=\"3\" valign=\"top\">foo</th>\n",
              "      <th>one</th>\n",
              "      <td>0.912275</td>\n",
              "      <td>1.154652</td>\n",
              "    </tr>\n",
              "    <tr>\n",
              "      <th>three</th>\n",
              "      <td>-1.315582</td>\n",
              "      <td>0.033259</td>\n",
              "    </tr>\n",
              "    <tr>\n",
              "      <th>two</th>\n",
              "      <td>-0.518958</td>\n",
              "      <td>-2.525580</td>\n",
              "    </tr>\n",
              "  </tbody>\n",
              "</table>\n",
              "</div>"
            ],
            "text/plain": [
              "                  C         D\n",
              "A   B                        \n",
              "bar one    1.463203 -0.112034\n",
              "    three  0.717795  0.022521\n",
              "    two   -0.666696  0.875146\n",
              "foo one    0.912275  1.154652\n",
              "    three -1.315582  0.033259\n",
              "    two   -0.518958 -2.525580"
            ]
          },
          "metadata": {
            "tags": []
          },
          "execution_count": 101
        }
      ]
    },
    {
      "cell_type": "markdown",
      "metadata": {
        "id": "JbTo8lGnTP49"
      },
      "source": [
        "## **8. Reshaping**\n",
        "[- 참고: 계층적 인덱싱](https://pandas.pydata.org/pandas-docs/stable/user_guide/advanced.html), [변형](https://pandas.pydata.org/pandas-docs/stable/user_guide/reshaping.html)  \n",
        "\n",
        "### *** Stack**"
      ]
    },
    {
      "cell_type": "code",
      "metadata": {
        "id": "RrSI8jDLTdYU",
        "outputId": "93373628-b728-491c-8cbb-6d9b5ddb5c2b",
        "colab": {
          "base_uri": "https://localhost:8080/",
          "height": 202
        }
      },
      "source": [
        "tuples = list(zip(*[['bar', 'bar', 'baz', 'baz',\n",
        "                     'foo', 'foo', 'qux', 'qux'],\n",
        "                    ['one', 'two', 'one', 'two',\n",
        "                     'one', 'two', 'one', 'two']]))\n",
        "\n",
        "index = pd.MultiIndex.from_tuples(tuples, names = ['first', 'second'])\n",
        "df = pd.DataFrame(np.random.randn(8, 2), index=index, columns=['A', 'B'])\n",
        "df2 = df[:4]\n",
        "df2"
      ],
      "execution_count": 102,
      "outputs": [
        {
          "output_type": "execute_result",
          "data": {
            "text/html": [
              "<div>\n",
              "<style scoped>\n",
              "    .dataframe tbody tr th:only-of-type {\n",
              "        vertical-align: middle;\n",
              "    }\n",
              "\n",
              "    .dataframe tbody tr th {\n",
              "        vertical-align: top;\n",
              "    }\n",
              "\n",
              "    .dataframe thead th {\n",
              "        text-align: right;\n",
              "    }\n",
              "</style>\n",
              "<table border=\"1\" class=\"dataframe\">\n",
              "  <thead>\n",
              "    <tr style=\"text-align: right;\">\n",
              "      <th></th>\n",
              "      <th></th>\n",
              "      <th>A</th>\n",
              "      <th>B</th>\n",
              "    </tr>\n",
              "    <tr>\n",
              "      <th>first</th>\n",
              "      <th>second</th>\n",
              "      <th></th>\n",
              "      <th></th>\n",
              "    </tr>\n",
              "  </thead>\n",
              "  <tbody>\n",
              "    <tr>\n",
              "      <th rowspan=\"2\" valign=\"top\">bar</th>\n",
              "      <th>one</th>\n",
              "      <td>1.462362</td>\n",
              "      <td>0.279302</td>\n",
              "    </tr>\n",
              "    <tr>\n",
              "      <th>two</th>\n",
              "      <td>0.208123</td>\n",
              "      <td>0.321943</td>\n",
              "    </tr>\n",
              "    <tr>\n",
              "      <th rowspan=\"2\" valign=\"top\">baz</th>\n",
              "      <th>one</th>\n",
              "      <td>0.603123</td>\n",
              "      <td>1.159705</td>\n",
              "    </tr>\n",
              "    <tr>\n",
              "      <th>two</th>\n",
              "      <td>-0.303194</td>\n",
              "      <td>0.449072</td>\n",
              "    </tr>\n",
              "  </tbody>\n",
              "</table>\n",
              "</div>"
            ],
            "text/plain": [
              "                     A         B\n",
              "first second                    \n",
              "bar   one     1.462362  0.279302\n",
              "      two     0.208123  0.321943\n",
              "baz   one     0.603123  1.159705\n",
              "      two    -0.303194  0.449072"
            ]
          },
          "metadata": {
            "tags": []
          },
          "execution_count": 102
        }
      ]
    },
    {
      "cell_type": "code",
      "metadata": {
        "id": "BhUj9FlRUFQ2",
        "outputId": "5c34c39b-9a12-4b9f-d8af-5f4bb7f43da3",
        "colab": {
          "base_uri": "https://localhost:8080/"
        }
      },
      "source": [
        "# stack() 메소드는 데이터프레임 열들의 계층을 압축\n",
        "stacked = df2.stack()\n",
        "stacked"
      ],
      "execution_count": 103,
      "outputs": [
        {
          "output_type": "execute_result",
          "data": {
            "text/plain": [
              "first  second   \n",
              "bar    one     A    1.462362\n",
              "               B    0.279302\n",
              "       two     A    0.208123\n",
              "               B    0.321943\n",
              "baz    one     A    0.603123\n",
              "               B    1.159705\n",
              "       two     A   -0.303194\n",
              "               B    0.449072\n",
              "dtype: float64"
            ]
          },
          "metadata": {
            "tags": []
          },
          "execution_count": 103
        }
      ]
    },
    {
      "cell_type": "code",
      "metadata": {
        "id": "Ovr1Wx5rUPg-",
        "outputId": "d3ce59e6-0465-4978-dd69-e203834e0021",
        "colab": {
          "base_uri": "https://localhost:8080/",
          "height": 202
        }
      },
      "source": [
        "# Stack된 데이터프레임 또는 MultiIndex를 인덱스로 사용하는 Series인 경우,\n",
        "# stack()의 역연산은 unstack()이며 기본적으로 마지막 계층을 unstack함\n",
        "stacked.unstack()"
      ],
      "execution_count": 104,
      "outputs": [
        {
          "output_type": "execute_result",
          "data": {
            "text/html": [
              "<div>\n",
              "<style scoped>\n",
              "    .dataframe tbody tr th:only-of-type {\n",
              "        vertical-align: middle;\n",
              "    }\n",
              "\n",
              "    .dataframe tbody tr th {\n",
              "        vertical-align: top;\n",
              "    }\n",
              "\n",
              "    .dataframe thead th {\n",
              "        text-align: right;\n",
              "    }\n",
              "</style>\n",
              "<table border=\"1\" class=\"dataframe\">\n",
              "  <thead>\n",
              "    <tr style=\"text-align: right;\">\n",
              "      <th></th>\n",
              "      <th></th>\n",
              "      <th>A</th>\n",
              "      <th>B</th>\n",
              "    </tr>\n",
              "    <tr>\n",
              "      <th>first</th>\n",
              "      <th>second</th>\n",
              "      <th></th>\n",
              "      <th></th>\n",
              "    </tr>\n",
              "  </thead>\n",
              "  <tbody>\n",
              "    <tr>\n",
              "      <th rowspan=\"2\" valign=\"top\">bar</th>\n",
              "      <th>one</th>\n",
              "      <td>1.462362</td>\n",
              "      <td>0.279302</td>\n",
              "    </tr>\n",
              "    <tr>\n",
              "      <th>two</th>\n",
              "      <td>0.208123</td>\n",
              "      <td>0.321943</td>\n",
              "    </tr>\n",
              "    <tr>\n",
              "      <th rowspan=\"2\" valign=\"top\">baz</th>\n",
              "      <th>one</th>\n",
              "      <td>0.603123</td>\n",
              "      <td>1.159705</td>\n",
              "    </tr>\n",
              "    <tr>\n",
              "      <th>two</th>\n",
              "      <td>-0.303194</td>\n",
              "      <td>0.449072</td>\n",
              "    </tr>\n",
              "  </tbody>\n",
              "</table>\n",
              "</div>"
            ],
            "text/plain": [
              "                     A         B\n",
              "first second                    \n",
              "bar   one     1.462362  0.279302\n",
              "      two     0.208123  0.321943\n",
              "baz   one     0.603123  1.159705\n",
              "      two    -0.303194  0.449072"
            ]
          },
          "metadata": {
            "tags": []
          },
          "execution_count": 104
        }
      ]
    },
    {
      "cell_type": "code",
      "metadata": {
        "id": "VVLq7bAeUcbo",
        "outputId": "507799d2-56e4-4d3d-d6ce-52abd3d2a03e",
        "colab": {
          "base_uri": "https://localhost:8080/",
          "height": 202
        }
      },
      "source": [
        "stacked.unstack(1)"
      ],
      "execution_count": 106,
      "outputs": [
        {
          "output_type": "execute_result",
          "data": {
            "text/html": [
              "<div>\n",
              "<style scoped>\n",
              "    .dataframe tbody tr th:only-of-type {\n",
              "        vertical-align: middle;\n",
              "    }\n",
              "\n",
              "    .dataframe tbody tr th {\n",
              "        vertical-align: top;\n",
              "    }\n",
              "\n",
              "    .dataframe thead th {\n",
              "        text-align: right;\n",
              "    }\n",
              "</style>\n",
              "<table border=\"1\" class=\"dataframe\">\n",
              "  <thead>\n",
              "    <tr style=\"text-align: right;\">\n",
              "      <th></th>\n",
              "      <th>second</th>\n",
              "      <th>one</th>\n",
              "      <th>two</th>\n",
              "    </tr>\n",
              "    <tr>\n",
              "      <th>first</th>\n",
              "      <th></th>\n",
              "      <th></th>\n",
              "      <th></th>\n",
              "    </tr>\n",
              "  </thead>\n",
              "  <tbody>\n",
              "    <tr>\n",
              "      <th rowspan=\"2\" valign=\"top\">bar</th>\n",
              "      <th>A</th>\n",
              "      <td>1.462362</td>\n",
              "      <td>0.208123</td>\n",
              "    </tr>\n",
              "    <tr>\n",
              "      <th>B</th>\n",
              "      <td>0.279302</td>\n",
              "      <td>0.321943</td>\n",
              "    </tr>\n",
              "    <tr>\n",
              "      <th rowspan=\"2\" valign=\"top\">baz</th>\n",
              "      <th>A</th>\n",
              "      <td>0.603123</td>\n",
              "      <td>-0.303194</td>\n",
              "    </tr>\n",
              "    <tr>\n",
              "      <th>B</th>\n",
              "      <td>1.159705</td>\n",
              "      <td>0.449072</td>\n",
              "    </tr>\n",
              "  </tbody>\n",
              "</table>\n",
              "</div>"
            ],
            "text/plain": [
              "second        one       two\n",
              "first                      \n",
              "bar   A  1.462362  0.208123\n",
              "      B  0.279302  0.321943\n",
              "baz   A  0.603123 -0.303194\n",
              "      B  1.159705  0.449072"
            ]
          },
          "metadata": {
            "tags": []
          },
          "execution_count": 106
        }
      ]
    },
    {
      "cell_type": "code",
      "metadata": {
        "id": "-rJjltcHUfPk",
        "outputId": "38829254-4086-47b8-ee93-f8d2051d2a50",
        "colab": {
          "base_uri": "https://localhost:8080/",
          "height": 202
        }
      },
      "source": [
        "stacked.unstack(0)"
      ],
      "execution_count": 107,
      "outputs": [
        {
          "output_type": "execute_result",
          "data": {
            "text/html": [
              "<div>\n",
              "<style scoped>\n",
              "    .dataframe tbody tr th:only-of-type {\n",
              "        vertical-align: middle;\n",
              "    }\n",
              "\n",
              "    .dataframe tbody tr th {\n",
              "        vertical-align: top;\n",
              "    }\n",
              "\n",
              "    .dataframe thead th {\n",
              "        text-align: right;\n",
              "    }\n",
              "</style>\n",
              "<table border=\"1\" class=\"dataframe\">\n",
              "  <thead>\n",
              "    <tr style=\"text-align: right;\">\n",
              "      <th></th>\n",
              "      <th>first</th>\n",
              "      <th>bar</th>\n",
              "      <th>baz</th>\n",
              "    </tr>\n",
              "    <tr>\n",
              "      <th>second</th>\n",
              "      <th></th>\n",
              "      <th></th>\n",
              "      <th></th>\n",
              "    </tr>\n",
              "  </thead>\n",
              "  <tbody>\n",
              "    <tr>\n",
              "      <th rowspan=\"2\" valign=\"top\">one</th>\n",
              "      <th>A</th>\n",
              "      <td>1.462362</td>\n",
              "      <td>0.603123</td>\n",
              "    </tr>\n",
              "    <tr>\n",
              "      <th>B</th>\n",
              "      <td>0.279302</td>\n",
              "      <td>1.159705</td>\n",
              "    </tr>\n",
              "    <tr>\n",
              "      <th rowspan=\"2\" valign=\"top\">two</th>\n",
              "      <th>A</th>\n",
              "      <td>0.208123</td>\n",
              "      <td>-0.303194</td>\n",
              "    </tr>\n",
              "    <tr>\n",
              "      <th>B</th>\n",
              "      <td>0.321943</td>\n",
              "      <td>0.449072</td>\n",
              "    </tr>\n",
              "  </tbody>\n",
              "</table>\n",
              "</div>"
            ],
            "text/plain": [
              "first          bar       baz\n",
              "second                      \n",
              "one    A  1.462362  0.603123\n",
              "       B  0.279302  1.159705\n",
              "two    A  0.208123 -0.303194\n",
              "       B  0.321943  0.449072"
            ]
          },
          "metadata": {
            "tags": []
          },
          "execution_count": 107
        }
      ]
    },
    {
      "cell_type": "markdown",
      "metadata": {
        "id": "EFKF8WALUiB8"
      },
      "source": [
        "### *** Pivot Tables**\n",
        "[- 참고: 피봇 테이블](https://pandas.pydata.org/pandas-docs/stable/user_guide/reshaping.html)"
      ]
    },
    {
      "cell_type": "code",
      "metadata": {
        "id": "xkmPY18OUrwm",
        "outputId": "1fbd5fbd-0d8c-48a4-d91f-81d490622b69",
        "colab": {
          "base_uri": "https://localhost:8080/",
          "height": 417
        }
      },
      "source": [
        "df = pd.DataFrame({'A': ['one', 'one', 'two', 'three'] * 3,\n",
        "                   'B': ['A', 'B', 'C'] * 4,\n",
        "                   'C': ['foo', 'foo', 'foo', 'bar', 'bar', 'bar'] * 2,\n",
        "                   'D': np.random.randn(12),\n",
        "                   'E': np.random.randn(12)})\n",
        "\n",
        "df"
      ],
      "execution_count": 109,
      "outputs": [
        {
          "output_type": "execute_result",
          "data": {
            "text/html": [
              "<div>\n",
              "<style scoped>\n",
              "    .dataframe tbody tr th:only-of-type {\n",
              "        vertical-align: middle;\n",
              "    }\n",
              "\n",
              "    .dataframe tbody tr th {\n",
              "        vertical-align: top;\n",
              "    }\n",
              "\n",
              "    .dataframe thead th {\n",
              "        text-align: right;\n",
              "    }\n",
              "</style>\n",
              "<table border=\"1\" class=\"dataframe\">\n",
              "  <thead>\n",
              "    <tr style=\"text-align: right;\">\n",
              "      <th></th>\n",
              "      <th>A</th>\n",
              "      <th>B</th>\n",
              "      <th>C</th>\n",
              "      <th>D</th>\n",
              "      <th>E</th>\n",
              "    </tr>\n",
              "  </thead>\n",
              "  <tbody>\n",
              "    <tr>\n",
              "      <th>0</th>\n",
              "      <td>one</td>\n",
              "      <td>A</td>\n",
              "      <td>foo</td>\n",
              "      <td>-0.961524</td>\n",
              "      <td>-0.951220</td>\n",
              "    </tr>\n",
              "    <tr>\n",
              "      <th>1</th>\n",
              "      <td>one</td>\n",
              "      <td>B</td>\n",
              "      <td>foo</td>\n",
              "      <td>-1.923503</td>\n",
              "      <td>-1.090603</td>\n",
              "    </tr>\n",
              "    <tr>\n",
              "      <th>2</th>\n",
              "      <td>two</td>\n",
              "      <td>C</td>\n",
              "      <td>foo</td>\n",
              "      <td>-0.020461</td>\n",
              "      <td>-1.116490</td>\n",
              "    </tr>\n",
              "    <tr>\n",
              "      <th>3</th>\n",
              "      <td>three</td>\n",
              "      <td>A</td>\n",
              "      <td>bar</td>\n",
              "      <td>-1.059653</td>\n",
              "      <td>0.760512</td>\n",
              "    </tr>\n",
              "    <tr>\n",
              "      <th>4</th>\n",
              "      <td>one</td>\n",
              "      <td>B</td>\n",
              "      <td>bar</td>\n",
              "      <td>0.314818</td>\n",
              "      <td>2.878347</td>\n",
              "    </tr>\n",
              "    <tr>\n",
              "      <th>5</th>\n",
              "      <td>one</td>\n",
              "      <td>C</td>\n",
              "      <td>bar</td>\n",
              "      <td>-0.299760</td>\n",
              "      <td>-0.699511</td>\n",
              "    </tr>\n",
              "    <tr>\n",
              "      <th>6</th>\n",
              "      <td>two</td>\n",
              "      <td>A</td>\n",
              "      <td>foo</td>\n",
              "      <td>-0.131890</td>\n",
              "      <td>0.061934</td>\n",
              "    </tr>\n",
              "    <tr>\n",
              "      <th>7</th>\n",
              "      <td>three</td>\n",
              "      <td>B</td>\n",
              "      <td>foo</td>\n",
              "      <td>0.671623</td>\n",
              "      <td>0.282510</td>\n",
              "    </tr>\n",
              "    <tr>\n",
              "      <th>8</th>\n",
              "      <td>one</td>\n",
              "      <td>C</td>\n",
              "      <td>foo</td>\n",
              "      <td>1.227755</td>\n",
              "      <td>1.016659</td>\n",
              "    </tr>\n",
              "    <tr>\n",
              "      <th>9</th>\n",
              "      <td>one</td>\n",
              "      <td>A</td>\n",
              "      <td>bar</td>\n",
              "      <td>0.187799</td>\n",
              "      <td>0.114970</td>\n",
              "    </tr>\n",
              "    <tr>\n",
              "      <th>10</th>\n",
              "      <td>two</td>\n",
              "      <td>B</td>\n",
              "      <td>bar</td>\n",
              "      <td>1.673849</td>\n",
              "      <td>1.462893</td>\n",
              "    </tr>\n",
              "    <tr>\n",
              "      <th>11</th>\n",
              "      <td>three</td>\n",
              "      <td>C</td>\n",
              "      <td>bar</td>\n",
              "      <td>1.489136</td>\n",
              "      <td>-0.770863</td>\n",
              "    </tr>\n",
              "  </tbody>\n",
              "</table>\n",
              "</div>"
            ],
            "text/plain": [
              "        A  B    C         D         E\n",
              "0     one  A  foo -0.961524 -0.951220\n",
              "1     one  B  foo -1.923503 -1.090603\n",
              "2     two  C  foo -0.020461 -1.116490\n",
              "3   three  A  bar -1.059653  0.760512\n",
              "4     one  B  bar  0.314818  2.878347\n",
              "5     one  C  bar -0.299760 -0.699511\n",
              "6     two  A  foo -0.131890  0.061934\n",
              "7   three  B  foo  0.671623  0.282510\n",
              "8     one  C  foo  1.227755  1.016659\n",
              "9     one  A  bar  0.187799  0.114970\n",
              "10    two  B  bar  1.673849  1.462893\n",
              "11  three  C  bar  1.489136 -0.770863"
            ]
          },
          "metadata": {
            "tags": []
          },
          "execution_count": 109
        }
      ]
    },
    {
      "cell_type": "code",
      "metadata": {
        "id": "OX6L958BVGEP",
        "outputId": "855cd4b0-6cdf-46af-9226-0373ab95986c",
        "colab": {
          "base_uri": "https://localhost:8080/",
          "height": 355
        }
      },
      "source": [
        "# 피봇 테이블 생성\n",
        "pd.pivot_table(df, values='D', index=['A', 'B'], columns=['C'])"
      ],
      "execution_count": 110,
      "outputs": [
        {
          "output_type": "execute_result",
          "data": {
            "text/html": [
              "<div>\n",
              "<style scoped>\n",
              "    .dataframe tbody tr th:only-of-type {\n",
              "        vertical-align: middle;\n",
              "    }\n",
              "\n",
              "    .dataframe tbody tr th {\n",
              "        vertical-align: top;\n",
              "    }\n",
              "\n",
              "    .dataframe thead th {\n",
              "        text-align: right;\n",
              "    }\n",
              "</style>\n",
              "<table border=\"1\" class=\"dataframe\">\n",
              "  <thead>\n",
              "    <tr style=\"text-align: right;\">\n",
              "      <th></th>\n",
              "      <th>C</th>\n",
              "      <th>bar</th>\n",
              "      <th>foo</th>\n",
              "    </tr>\n",
              "    <tr>\n",
              "      <th>A</th>\n",
              "      <th>B</th>\n",
              "      <th></th>\n",
              "      <th></th>\n",
              "    </tr>\n",
              "  </thead>\n",
              "  <tbody>\n",
              "    <tr>\n",
              "      <th rowspan=\"3\" valign=\"top\">one</th>\n",
              "      <th>A</th>\n",
              "      <td>0.187799</td>\n",
              "      <td>-0.961524</td>\n",
              "    </tr>\n",
              "    <tr>\n",
              "      <th>B</th>\n",
              "      <td>0.314818</td>\n",
              "      <td>-1.923503</td>\n",
              "    </tr>\n",
              "    <tr>\n",
              "      <th>C</th>\n",
              "      <td>-0.299760</td>\n",
              "      <td>1.227755</td>\n",
              "    </tr>\n",
              "    <tr>\n",
              "      <th rowspan=\"3\" valign=\"top\">three</th>\n",
              "      <th>A</th>\n",
              "      <td>-1.059653</td>\n",
              "      <td>NaN</td>\n",
              "    </tr>\n",
              "    <tr>\n",
              "      <th>B</th>\n",
              "      <td>NaN</td>\n",
              "      <td>0.671623</td>\n",
              "    </tr>\n",
              "    <tr>\n",
              "      <th>C</th>\n",
              "      <td>1.489136</td>\n",
              "      <td>NaN</td>\n",
              "    </tr>\n",
              "    <tr>\n",
              "      <th rowspan=\"3\" valign=\"top\">two</th>\n",
              "      <th>A</th>\n",
              "      <td>NaN</td>\n",
              "      <td>-0.131890</td>\n",
              "    </tr>\n",
              "    <tr>\n",
              "      <th>B</th>\n",
              "      <td>1.673849</td>\n",
              "      <td>NaN</td>\n",
              "    </tr>\n",
              "    <tr>\n",
              "      <th>C</th>\n",
              "      <td>NaN</td>\n",
              "      <td>-0.020461</td>\n",
              "    </tr>\n",
              "  </tbody>\n",
              "</table>\n",
              "</div>"
            ],
            "text/plain": [
              "C             bar       foo\n",
              "A     B                    \n",
              "one   A  0.187799 -0.961524\n",
              "      B  0.314818 -1.923503\n",
              "      C -0.299760  1.227755\n",
              "three A -1.059653       NaN\n",
              "      B       NaN  0.671623\n",
              "      C  1.489136       NaN\n",
              "two   A       NaN -0.131890\n",
              "      B  1.673849       NaN\n",
              "      C       NaN -0.020461"
            ]
          },
          "metadata": {
            "tags": []
          },
          "execution_count": 110
        }
      ]
    },
    {
      "cell_type": "markdown",
      "metadata": {
        "id": "fEonaQ6tVYAa"
      },
      "source": [
        "## **9. Time Series**\n",
        "Pandas는 자주 일어나는 변환(ex. 5분마다 일어나는 데이터의 2차 데이터 변환) 사이에 수행하는 리샘플링 연산을 위해 간단하고 강력하고 효율적인 함수를 제공한다.  \n",
        "재무(금융) 응용에서 매우 일반적이나 이에 국한되지는 않는다.  \n",
        "[- 참고: 시계열](https://pandas.pydata.org/pandas-docs/stable/user_guide/timeseries.html)"
      ]
    },
    {
      "cell_type": "code",
      "metadata": {
        "id": "TVU5S6lUYnTa"
      },
      "source": [
        ""
      ],
      "execution_count": null,
      "outputs": []
    },
    {
      "cell_type": "code",
      "metadata": {
        "id": "sme5BveBYRF0",
        "outputId": "bd2cdc10-9b24-42ad-c074-2c62249f8d85",
        "colab": {
          "base_uri": "https://localhost:8080/"
        }
      },
      "source": [
        "rng = pd.date_range('1/1/2012', periods=100, freq='S')\n",
        "ts = pd.Series(np.random.randint(0, 500, len(rng)), index=rng)\n",
        "ts.resample('5Min').sum()"
      ],
      "execution_count": 112,
      "outputs": [
        {
          "output_type": "execute_result",
          "data": {
            "text/plain": [
              "2012-01-01    23629\n",
              "Freq: 5T, dtype: int64"
            ]
          },
          "metadata": {
            "tags": []
          },
          "execution_count": 112
        }
      ]
    },
    {
      "cell_type": "code",
      "metadata": {
        "id": "hngc6xo2YfbR",
        "outputId": "f8af8dbb-691b-44a9-e2c7-c6fb37c4a1e1",
        "colab": {
          "base_uri": "https://localhost:8080/"
        }
      },
      "source": [
        "# 시간대 표현\n",
        "rng = pd.date_range('3/6/2012 00:00', periods=5, freq='D')\n",
        "ts = pd.Series(np.random.randn(len(rng)), rng)\n",
        "ts"
      ],
      "execution_count": 114,
      "outputs": [
        {
          "output_type": "execute_result",
          "data": {
            "text/plain": [
              "2012-03-06    1.241040\n",
              "2012-03-07   -1.181655\n",
              "2012-03-08   -0.007886\n",
              "2012-03-09    0.018150\n",
              "2012-03-10    0.504525\n",
              "Freq: D, dtype: float64"
            ]
          },
          "metadata": {
            "tags": []
          },
          "execution_count": 114
        }
      ]
    },
    {
      "cell_type": "code",
      "metadata": {
        "id": "3NynKQRLY80D",
        "outputId": "05b905d7-7e10-49c5-8b64-dda8732a89a1",
        "colab": {
          "base_uri": "https://localhost:8080/"
        }
      },
      "source": [
        "ts_utc = ts.tz_localize('UTC')\n",
        "ts_utc"
      ],
      "execution_count": 115,
      "outputs": [
        {
          "output_type": "execute_result",
          "data": {
            "text/plain": [
              "2012-03-06 00:00:00+00:00    1.241040\n",
              "2012-03-07 00:00:00+00:00   -1.181655\n",
              "2012-03-08 00:00:00+00:00   -0.007886\n",
              "2012-03-09 00:00:00+00:00    0.018150\n",
              "2012-03-10 00:00:00+00:00    0.504525\n",
              "Freq: D, dtype: float64"
            ]
          },
          "metadata": {
            "tags": []
          },
          "execution_count": 115
        }
      ]
    },
    {
      "cell_type": "code",
      "metadata": {
        "id": "ML6dWdmjZM97",
        "outputId": "940c0b3a-9609-4dbe-8fbf-8918bf31f270",
        "colab": {
          "base_uri": "https://localhost:8080/"
        }
      },
      "source": [
        "# 다른 시간대로 변환\n",
        "ts_utc.tz_convert('US/Eastern')"
      ],
      "execution_count": 116,
      "outputs": [
        {
          "output_type": "execute_result",
          "data": {
            "text/plain": [
              "2012-03-05 19:00:00-05:00    1.241040\n",
              "2012-03-06 19:00:00-05:00   -1.181655\n",
              "2012-03-07 19:00:00-05:00   -0.007886\n",
              "2012-03-08 19:00:00-05:00    0.018150\n",
              "2012-03-09 19:00:00-05:00    0.504525\n",
              "Freq: D, dtype: float64"
            ]
          },
          "metadata": {
            "tags": []
          },
          "execution_count": 116
        }
      ]
    },
    {
      "cell_type": "code",
      "metadata": {
        "id": "G9e0BSSAZSbg",
        "outputId": "5304f0b5-ebe3-4c26-ce44-9708acefa7c3",
        "colab": {
          "base_uri": "https://localhost:8080/"
        }
      },
      "source": [
        "# 시간 표현 ↔ 기간 표현 변환\n",
        "rng = pd.date_range('1/1/2012', periods=5, freq='M')\n",
        "ts = pd.Series(np.random.randn(len(rng)), index=rng)\n",
        "ts"
      ],
      "execution_count": 118,
      "outputs": [
        {
          "output_type": "execute_result",
          "data": {
            "text/plain": [
              "2012-01-31   -1.912311\n",
              "2012-02-29   -0.263301\n",
              "2012-03-31   -0.057735\n",
              "2012-04-30   -0.763615\n",
              "2012-05-31    0.075798\n",
              "Freq: M, dtype: float64"
            ]
          },
          "metadata": {
            "tags": []
          },
          "execution_count": 118
        }
      ]
    },
    {
      "cell_type": "code",
      "metadata": {
        "id": "KYW5eUKXZv9O",
        "outputId": "02cb6bcb-3013-4652-931a-146fac3c3c48",
        "colab": {
          "base_uri": "https://localhost:8080/"
        }
      },
      "source": [
        "ps = ts.to_period()\n",
        "ps"
      ],
      "execution_count": 119,
      "outputs": [
        {
          "output_type": "execute_result",
          "data": {
            "text/plain": [
              "2012-01   -1.912311\n",
              "2012-02   -0.263301\n",
              "2012-03   -0.057735\n",
              "2012-04   -0.763615\n",
              "2012-05    0.075798\n",
              "Freq: M, dtype: float64"
            ]
          },
          "metadata": {
            "tags": []
          },
          "execution_count": 119
        }
      ]
    },
    {
      "cell_type": "code",
      "metadata": {
        "id": "mlN4V4sSZyvl",
        "outputId": "294ec1df-7eac-4790-d029-b10d9ff3c9d1",
        "colab": {
          "base_uri": "https://localhost:8080/"
        }
      },
      "source": [
        "ps.to_timestamp()"
      ],
      "execution_count": 120,
      "outputs": [
        {
          "output_type": "execute_result",
          "data": {
            "text/plain": [
              "2012-01-01   -1.912311\n",
              "2012-02-01   -0.263301\n",
              "2012-03-01   -0.057735\n",
              "2012-04-01   -0.763615\n",
              "2012-05-01    0.075798\n",
              "Freq: MS, dtype: float64"
            ]
          },
          "metadata": {
            "tags": []
          },
          "execution_count": 120
        }
      ]
    },
    {
      "cell_type": "markdown",
      "metadata": {
        "id": "TGd6CDcgZ2Yl"
      },
      "source": [
        "기간 ↔ 시간 변환은 편리한 산술 기능을 사용할 수 있도록 만든다.  \n",
        "11월에 끝나는 연말 결산의 분기별 빈도를, 분기말 익월의 월말일 오전 9시로 변환해보자."
      ]
    },
    {
      "cell_type": "code",
      "metadata": {
        "id": "N8UgOdaIZ_tX",
        "outputId": "e6ab12a5-0306-42e9-bc4e-9b25d00c4501",
        "colab": {
          "base_uri": "https://localhost:8080/"
        }
      },
      "source": [
        "prng = pd.period_range('1990Q1', '2000Q4', freq='Q-NOV')\n",
        "ts = pd.Series(np.random.randn(len(prng)), prng)\n",
        "ts.index = (prng.asfreq('M', 'e') + 1).asfreq('H', 'S')\n",
        "ts.head()"
      ],
      "execution_count": 122,
      "outputs": [
        {
          "output_type": "execute_result",
          "data": {
            "text/plain": [
              "1990-03-01 00:00   -0.689608\n",
              "1990-06-01 00:00   -0.639076\n",
              "1990-09-01 00:00   -1.612070\n",
              "1990-12-01 00:00   -0.785382\n",
              "1991-03-01 00:00   -0.865252\n",
              "Freq: H, dtype: float64"
            ]
          },
          "metadata": {
            "tags": []
          },
          "execution_count": 122
        }
      ]
    }
  ]
}