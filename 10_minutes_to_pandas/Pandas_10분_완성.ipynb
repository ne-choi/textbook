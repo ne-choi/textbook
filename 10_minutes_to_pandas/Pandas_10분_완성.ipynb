{
  "nbformat": 4,
  "nbformat_minor": 0,
  "metadata": {
    "colab": {
      "name": "Pandas 10분 완성 필사.ipynb",
      "provenance": [],
      "collapsed_sections": [],
      "authorship_tag": "ABX9TyN4cgmVddBbG+IBaiyj3I1S",
      "include_colab_link": true
    },
    "kernelspec": {
      "name": "python3",
      "display_name": "Python 3"
    }
  },
  "cells": [
    {
      "cell_type": "markdown",
      "metadata": {
        "id": "view-in-github",
        "colab_type": "text"
      },
      "source": [
        "<a href=\"https://colab.research.google.com/github/ne-choi/textbook/blob/main/10_minutes_to_pandas/Pandas_10%EB%B6%84_%EC%99%84%EC%84%B1.ipynb\" target=\"_parent\"><img src=\"https://colab.research.google.com/assets/colab-badge.svg\" alt=\"Open In Colab\"/></a>"
      ]
    },
    {
      "cell_type": "markdown",
      "metadata": {
        "id": "xSaJdgV141dV"
      },
      "source": [
        "# **Pandas 10분 완성(10 Minutes to Pandas) 필사**\n",
        "**출처: 데잇걸즈2 번역 자료**\n",
        "\n",
        "**목차**\n",
        "1. Object Creation (객체 생성)  \n",
        "2. Viewing Data (데이터 확인하기)  \n",
        "3. Selection (선택)  \n",
        "4. Missing Data (결측치)  \n",
        "5. Operation (연산)  \n",
        "6. Merge (병합)\n",
        "7. Grouping (그룹화)\n",
        "8. Reshaping (변형)\n",
        "9. Time Series (시계열)\n",
        "10. Categoricals (범주화)\n",
        "11. Plotting (그래프)\n",
        "12. Getting Data In / Out (데이터 입 / 출력)\n",
        "13. Gotchas (잡았다!)\n"
      ]
    },
    {
      "cell_type": "code",
      "metadata": {
        "id": "bQKAKtir5U7G"
      },
      "source": [
        "# 패키지 불러오기\n",
        "\n",
        "import pandas as pd\n",
        "import numpy as np\n",
        "import matplotlib.pyplot as plt"
      ],
      "execution_count": null,
      "outputs": []
    },
    {
      "cell_type": "markdown",
      "metadata": {
        "id": "QJSa7bL35noH"
      },
      "source": [
        "## **1. Object Creation**\n",
        "[- 참고: 데이터 구조 소개 섹션](https://pandas.pydata.org/pandas-docs/stable/user_guide/dsintro.html)\n",
        "\n",
        "Pansdas는 값을 가지고 있는 리스트를 통해 [Series](https://pandas.pydata.org/pandas-docs/stable/reference/api/pandas.Series.html)를 만들고, 정수로 만들어진 인덱스를 기본값으로 불러온다."
      ]
    },
    {
      "cell_type": "code",
      "metadata": {
        "id": "HVPFOjE458jf",
        "outputId": "d05d45a4-65bc-419c-e420-bf514e81c158",
        "colab": {
          "base_uri": "https://localhost:8080/"
        }
      },
      "source": [
        "s = pd.Series([1, 3, 5, np.nan, 6, 8])\n",
        "s"
      ],
      "execution_count": null,
      "outputs": [
        {
          "output_type": "execute_result",
          "data": {
            "text/plain": [
              "0    1.0\n",
              "1    3.0\n",
              "2    5.0\n",
              "3    NaN\n",
              "4    6.0\n",
              "5    8.0\n",
              "dtype: float64"
            ]
          },
          "metadata": {
            "tags": []
          },
          "execution_count": 3
        }
      ]
    },
    {
      "cell_type": "markdown",
      "metadata": {
        "id": "5MZay3pM6EQS"
      },
      "source": [
        "datetime 인덱스와 레이블이 있는 열을 가진 numpy 배열을 전달하여 데이터프레임을 만든다."
      ]
    },
    {
      "cell_type": "code",
      "metadata": {
        "id": "YYioilEh6KVX",
        "outputId": "d2e15403-23cd-4d63-b2ac-8b7892a0aca6",
        "colab": {
          "base_uri": "https://localhost:8080/"
        }
      },
      "source": [
        "dates = pd.date_range('20130101', periods = 6)\n",
        "dates"
      ],
      "execution_count": null,
      "outputs": [
        {
          "output_type": "execute_result",
          "data": {
            "text/plain": [
              "DatetimeIndex(['2013-01-01', '2013-01-02', '2013-01-03', '2013-01-04',\n",
              "               '2013-01-05', '2013-01-06'],\n",
              "              dtype='datetime64[ns]', freq='D')"
            ]
          },
          "metadata": {
            "tags": []
          },
          "execution_count": 7
        }
      ]
    },
    {
      "cell_type": "code",
      "metadata": {
        "id": "6x4Q4TmB6c8I",
        "outputId": "304a48cf-cf90-41e0-cbd7-ed26cf094377",
        "colab": {
          "base_uri": "https://localhost:8080/",
          "height": 233
        }
      },
      "source": [
        "df = pd.DataFrame(np.random.randn(6, 4), index = dates, columns = list('ABCD'))\n",
        "df"
      ],
      "execution_count": null,
      "outputs": [
        {
          "output_type": "execute_result",
          "data": {
            "text/html": [
              "<div>\n",
              "<style scoped>\n",
              "    .dataframe tbody tr th:only-of-type {\n",
              "        vertical-align: middle;\n",
              "    }\n",
              "\n",
              "    .dataframe tbody tr th {\n",
              "        vertical-align: top;\n",
              "    }\n",
              "\n",
              "    .dataframe thead th {\n",
              "        text-align: right;\n",
              "    }\n",
              "</style>\n",
              "<table border=\"1\" class=\"dataframe\">\n",
              "  <thead>\n",
              "    <tr style=\"text-align: right;\">\n",
              "      <th></th>\n",
              "      <th>A</th>\n",
              "      <th>B</th>\n",
              "      <th>C</th>\n",
              "      <th>D</th>\n",
              "    </tr>\n",
              "  </thead>\n",
              "  <tbody>\n",
              "    <tr>\n",
              "      <th>2013-01-01</th>\n",
              "      <td>-0.131805</td>\n",
              "      <td>0.824105</td>\n",
              "      <td>0.793722</td>\n",
              "      <td>-0.464042</td>\n",
              "    </tr>\n",
              "    <tr>\n",
              "      <th>2013-01-02</th>\n",
              "      <td>0.136948</td>\n",
              "      <td>1.036089</td>\n",
              "      <td>-0.199675</td>\n",
              "      <td>0.819016</td>\n",
              "    </tr>\n",
              "    <tr>\n",
              "      <th>2013-01-03</th>\n",
              "      <td>1.633209</td>\n",
              "      <td>-0.473571</td>\n",
              "      <td>0.466677</td>\n",
              "      <td>0.478959</td>\n",
              "    </tr>\n",
              "    <tr>\n",
              "      <th>2013-01-04</th>\n",
              "      <td>-0.861636</td>\n",
              "      <td>-0.049129</td>\n",
              "      <td>0.350207</td>\n",
              "      <td>-1.452074</td>\n",
              "    </tr>\n",
              "    <tr>\n",
              "      <th>2013-01-05</th>\n",
              "      <td>2.248059</td>\n",
              "      <td>-0.758196</td>\n",
              "      <td>0.842324</td>\n",
              "      <td>0.338938</td>\n",
              "    </tr>\n",
              "    <tr>\n",
              "      <th>2013-01-06</th>\n",
              "      <td>-0.743977</td>\n",
              "      <td>-0.786985</td>\n",
              "      <td>-1.142624</td>\n",
              "      <td>-0.451164</td>\n",
              "    </tr>\n",
              "  </tbody>\n",
              "</table>\n",
              "</div>"
            ],
            "text/plain": [
              "                   A         B         C         D\n",
              "2013-01-01 -0.131805  0.824105  0.793722 -0.464042\n",
              "2013-01-02  0.136948  1.036089 -0.199675  0.819016\n",
              "2013-01-03  1.633209 -0.473571  0.466677  0.478959\n",
              "2013-01-04 -0.861636 -0.049129  0.350207 -1.452074\n",
              "2013-01-05  2.248059 -0.758196  0.842324  0.338938\n",
              "2013-01-06 -0.743977 -0.786985 -1.142624 -0.451164"
            ]
          },
          "metadata": {
            "tags": []
          },
          "execution_count": 10
        }
      ]
    },
    {
      "cell_type": "markdown",
      "metadata": {
        "id": "Z2Pvjp-36d1z"
      },
      "source": [
        "Series와 같은 것으로 변환될 수 있는 객체들의 dict로 구성된 데이터프레임을 만든다."
      ]
    },
    {
      "cell_type": "code",
      "metadata": {
        "id": "HrdpgYyP6ibg",
        "outputId": "525a8ccc-42ce-4545-fb37-e43060b3dfc4",
        "colab": {
          "base_uri": "https://localhost:8080/"
        }
      },
      "source": [
        "df2 = pd.DataFrame({'A': 1.,\n",
        "                    'B': pd.Timestamp('20130102'),\n",
        "                    'C': pd.Series(1, index = list(range(4)), dtype = 'float32'),\n",
        "                    'D': np.array([3] * 4, dtype = 'int32'),\n",
        "                    'E': pd.Categorical([\"test\", \"train\", \"test\", \"train\"]),\n",
        "                    'F': 'foo'})\n",
        "df2"
      ],
      "execution_count": null,
      "outputs": [
        {
          "output_type": "execute_result",
          "data": {
            "text/plain": [
              "A           float64\n",
              "B    datetime64[ns]\n",
              "C           float32\n",
              "D             int32\n",
              "E          category\n",
              "F            object\n",
              "dtype: object"
            ]
          },
          "metadata": {
            "tags": []
          },
          "execution_count": 13
        }
      ]
    },
    {
      "cell_type": "code",
      "metadata": {
        "id": "avrhZSha75yU"
      },
      "source": [
        "df2.dtypes"
      ],
      "execution_count": null,
      "outputs": []
    },
    {
      "cell_type": "markdown",
      "metadata": {
        "id": "PbyMCk--7686"
      },
      "source": [
        "## **2. Viewing Data**\n",
        "[- 참고: Basic Section](https://pandas.pydata.org/pandas-docs/stable/user_guide/basics.html)  \n",
        "\n",
        "데이터프레임의 가장 윗줄과 마지막 줄을 확인하고 싶을 때 사용하는 방법 알아보기."
      ]
    },
    {
      "cell_type": "code",
      "metadata": {
        "id": "JdX7WpmA8VeJ",
        "outputId": "ac1f4b4f-0230-4212-cad1-a2a8e5b0ffe9",
        "colab": {
          "base_uri": "https://localhost:8080/",
          "height": 202
        }
      },
      "source": [
        "# 괄호() 안에 숫자를 넣으면 (숫자)줄을 불러오고 넣지 않으면 기본값인 5개를 불러옴\n",
        "\n",
        "df.tail(3)"
      ],
      "execution_count": null,
      "outputs": [
        {
          "output_type": "execute_result",
          "data": {
            "text/html": [
              "<div>\n",
              "<style scoped>\n",
              "    .dataframe tbody tr th:only-of-type {\n",
              "        vertical-align: middle;\n",
              "    }\n",
              "\n",
              "    .dataframe tbody tr th {\n",
              "        vertical-align: top;\n",
              "    }\n",
              "\n",
              "    .dataframe thead th {\n",
              "        text-align: right;\n",
              "    }\n",
              "</style>\n",
              "<table border=\"1\" class=\"dataframe\">\n",
              "  <thead>\n",
              "    <tr style=\"text-align: right;\">\n",
              "      <th></th>\n",
              "      <th>A</th>\n",
              "      <th>B</th>\n",
              "      <th>C</th>\n",
              "      <th>D</th>\n",
              "    </tr>\n",
              "  </thead>\n",
              "  <tbody>\n",
              "    <tr>\n",
              "      <th>2013-01-01</th>\n",
              "      <td>-0.131805</td>\n",
              "      <td>0.824105</td>\n",
              "      <td>0.793722</td>\n",
              "      <td>-0.464042</td>\n",
              "    </tr>\n",
              "    <tr>\n",
              "      <th>2013-01-02</th>\n",
              "      <td>0.136948</td>\n",
              "      <td>1.036089</td>\n",
              "      <td>-0.199675</td>\n",
              "      <td>0.819016</td>\n",
              "    </tr>\n",
              "    <tr>\n",
              "      <th>2013-01-03</th>\n",
              "      <td>1.633209</td>\n",
              "      <td>-0.473571</td>\n",
              "      <td>0.466677</td>\n",
              "      <td>0.478959</td>\n",
              "    </tr>\n",
              "    <tr>\n",
              "      <th>2013-01-04</th>\n",
              "      <td>-0.861636</td>\n",
              "      <td>-0.049129</td>\n",
              "      <td>0.350207</td>\n",
              "      <td>-1.452074</td>\n",
              "    </tr>\n",
              "    <tr>\n",
              "      <th>2013-01-05</th>\n",
              "      <td>2.248059</td>\n",
              "      <td>-0.758196</td>\n",
              "      <td>0.842324</td>\n",
              "      <td>0.338938</td>\n",
              "    </tr>\n",
              "  </tbody>\n",
              "</table>\n",
              "</div>"
            ],
            "text/plain": [
              "                   A         B         C         D\n",
              "2013-01-01 -0.131805  0.824105  0.793722 -0.464042\n",
              "2013-01-02  0.136948  1.036089 -0.199675  0.819016\n",
              "2013-01-03  1.633209 -0.473571  0.466677  0.478959\n",
              "2013-01-04 -0.861636 -0.049129  0.350207 -1.452074\n",
              "2013-01-05  2.248059 -0.758196  0.842324  0.338938"
            ]
          },
          "metadata": {
            "tags": []
          },
          "execution_count": 14
        }
      ]
    },
    {
      "cell_type": "code",
      "metadata": {
        "id": "nAzYPXXp8ipF",
        "outputId": "83f9227f-d281-4d09-ea2e-18e38c00db99",
        "colab": {
          "base_uri": "https://localhost:8080/",
          "height": 202
        }
      },
      "source": [
        "df.head()"
      ],
      "execution_count": null,
      "outputs": [
        {
          "output_type": "execute_result",
          "data": {
            "text/html": [
              "<div>\n",
              "<style scoped>\n",
              "    .dataframe tbody tr th:only-of-type {\n",
              "        vertical-align: middle;\n",
              "    }\n",
              "\n",
              "    .dataframe tbody tr th {\n",
              "        vertical-align: top;\n",
              "    }\n",
              "\n",
              "    .dataframe thead th {\n",
              "        text-align: right;\n",
              "    }\n",
              "</style>\n",
              "<table border=\"1\" class=\"dataframe\">\n",
              "  <thead>\n",
              "    <tr style=\"text-align: right;\">\n",
              "      <th></th>\n",
              "      <th>A</th>\n",
              "      <th>B</th>\n",
              "      <th>C</th>\n",
              "      <th>D</th>\n",
              "    </tr>\n",
              "  </thead>\n",
              "  <tbody>\n",
              "    <tr>\n",
              "      <th>2013-01-01</th>\n",
              "      <td>-0.131805</td>\n",
              "      <td>0.824105</td>\n",
              "      <td>0.793722</td>\n",
              "      <td>-0.464042</td>\n",
              "    </tr>\n",
              "    <tr>\n",
              "      <th>2013-01-02</th>\n",
              "      <td>0.136948</td>\n",
              "      <td>1.036089</td>\n",
              "      <td>-0.199675</td>\n",
              "      <td>0.819016</td>\n",
              "    </tr>\n",
              "    <tr>\n",
              "      <th>2013-01-03</th>\n",
              "      <td>1.633209</td>\n",
              "      <td>-0.473571</td>\n",
              "      <td>0.466677</td>\n",
              "      <td>0.478959</td>\n",
              "    </tr>\n",
              "    <tr>\n",
              "      <th>2013-01-04</th>\n",
              "      <td>-0.861636</td>\n",
              "      <td>-0.049129</td>\n",
              "      <td>0.350207</td>\n",
              "      <td>-1.452074</td>\n",
              "    </tr>\n",
              "    <tr>\n",
              "      <th>2013-01-05</th>\n",
              "      <td>2.248059</td>\n",
              "      <td>-0.758196</td>\n",
              "      <td>0.842324</td>\n",
              "      <td>0.338938</td>\n",
              "    </tr>\n",
              "  </tbody>\n",
              "</table>\n",
              "</div>"
            ],
            "text/plain": [
              "                   A         B         C         D\n",
              "2013-01-01 -0.131805  0.824105  0.793722 -0.464042\n",
              "2013-01-02  0.136948  1.036089 -0.199675  0.819016\n",
              "2013-01-03  1.633209 -0.473571  0.466677  0.478959\n",
              "2013-01-04 -0.861636 -0.049129  0.350207 -1.452074\n",
              "2013-01-05  2.248059 -0.758196  0.842324  0.338938"
            ]
          },
          "metadata": {
            "tags": []
          },
          "execution_count": 15
        }
      ]
    },
    {
      "cell_type": "markdown",
      "metadata": {
        "id": "a6uEU1dP8lZ9"
      },
      "source": [
        "index, column, numpy 데이터 세부 정보를 알아보자."
      ]
    },
    {
      "cell_type": "code",
      "metadata": {
        "id": "a9_61NCz8sch",
        "outputId": "f6a6877e-4d7c-4745-83e7-39572d060c48",
        "colab": {
          "base_uri": "https://localhost:8080/"
        }
      },
      "source": [
        "df.index"
      ],
      "execution_count": null,
      "outputs": [
        {
          "output_type": "execute_result",
          "data": {
            "text/plain": [
              "DatetimeIndex(['2013-01-01', '2013-01-02', '2013-01-03', '2013-01-04',\n",
              "               '2013-01-05', '2013-01-06'],\n",
              "              dtype='datetime64[ns]', freq='D')"
            ]
          },
          "metadata": {
            "tags": []
          },
          "execution_count": 16
        }
      ]
    },
    {
      "cell_type": "code",
      "metadata": {
        "id": "0A2Goupc8tzF",
        "outputId": "00b3b7a1-07ff-4318-9cda-7f0857b29a2d",
        "colab": {
          "base_uri": "https://localhost:8080/"
        }
      },
      "source": [
        "df.columns"
      ],
      "execution_count": null,
      "outputs": [
        {
          "output_type": "execute_result",
          "data": {
            "text/plain": [
              "Index(['A', 'B', 'C', 'D'], dtype='object')"
            ]
          },
          "metadata": {
            "tags": []
          },
          "execution_count": 17
        }
      ]
    },
    {
      "cell_type": "code",
      "metadata": {
        "id": "DZ5JSr7c8urA",
        "outputId": "6fa0658f-2ae7-4b50-833f-d4b8079c3501",
        "colab": {
          "base_uri": "https://localhost:8080/"
        }
      },
      "source": [
        "df.values"
      ],
      "execution_count": null,
      "outputs": [
        {
          "output_type": "execute_result",
          "data": {
            "text/plain": [
              "array([[-0.13180529,  0.82410509,  0.79372215, -0.4640425 ],\n",
              "       [ 0.1369476 ,  1.03608902, -0.19967461,  0.81901566],\n",
              "       [ 1.6332091 , -0.47357082,  0.46667687,  0.47895853],\n",
              "       [-0.86163576, -0.04912882,  0.35020662, -1.45207412],\n",
              "       [ 2.24805935, -0.75819576,  0.84232426,  0.33893801],\n",
              "       [-0.74397667, -0.786985  , -1.14262442, -0.45116445]])"
            ]
          },
          "metadata": {
            "tags": []
          },
          "execution_count": 18
        }
      ]
    },
    {
      "cell_type": "code",
      "metadata": {
        "id": "3KXgT79N8x3A",
        "outputId": "0e1a575f-7811-411f-8bae-aa7fc57a2dbb",
        "colab": {
          "base_uri": "https://localhost:8080/",
          "height": 294
        }
      },
      "source": [
        "df.describe() # 데이터의 대략적인 통계적 정보 요약을 보여줌"
      ],
      "execution_count": null,
      "outputs": [
        {
          "output_type": "execute_result",
          "data": {
            "text/html": [
              "<div>\n",
              "<style scoped>\n",
              "    .dataframe tbody tr th:only-of-type {\n",
              "        vertical-align: middle;\n",
              "    }\n",
              "\n",
              "    .dataframe tbody tr th {\n",
              "        vertical-align: top;\n",
              "    }\n",
              "\n",
              "    .dataframe thead th {\n",
              "        text-align: right;\n",
              "    }\n",
              "</style>\n",
              "<table border=\"1\" class=\"dataframe\">\n",
              "  <thead>\n",
              "    <tr style=\"text-align: right;\">\n",
              "      <th></th>\n",
              "      <th>A</th>\n",
              "      <th>B</th>\n",
              "      <th>C</th>\n",
              "      <th>D</th>\n",
              "    </tr>\n",
              "  </thead>\n",
              "  <tbody>\n",
              "    <tr>\n",
              "      <th>count</th>\n",
              "      <td>6.000000</td>\n",
              "      <td>6.000000</td>\n",
              "      <td>6.000000</td>\n",
              "      <td>6.000000</td>\n",
              "    </tr>\n",
              "    <tr>\n",
              "      <th>mean</th>\n",
              "      <td>0.380133</td>\n",
              "      <td>-0.034614</td>\n",
              "      <td>0.185105</td>\n",
              "      <td>-0.121728</td>\n",
              "    </tr>\n",
              "    <tr>\n",
              "      <th>std</th>\n",
              "      <td>1.279545</td>\n",
              "      <td>0.795780</td>\n",
              "      <td>0.750975</td>\n",
              "      <td>0.831091</td>\n",
              "    </tr>\n",
              "    <tr>\n",
              "      <th>min</th>\n",
              "      <td>-0.861636</td>\n",
              "      <td>-0.786985</td>\n",
              "      <td>-1.142624</td>\n",
              "      <td>-1.452074</td>\n",
              "    </tr>\n",
              "    <tr>\n",
              "      <th>25%</th>\n",
              "      <td>-0.590934</td>\n",
              "      <td>-0.687040</td>\n",
              "      <td>-0.062204</td>\n",
              "      <td>-0.460823</td>\n",
              "    </tr>\n",
              "    <tr>\n",
              "      <th>50%</th>\n",
              "      <td>0.002571</td>\n",
              "      <td>-0.261350</td>\n",
              "      <td>0.408442</td>\n",
              "      <td>-0.056113</td>\n",
              "    </tr>\n",
              "    <tr>\n",
              "      <th>75%</th>\n",
              "      <td>1.259144</td>\n",
              "      <td>0.605797</td>\n",
              "      <td>0.711961</td>\n",
              "      <td>0.443953</td>\n",
              "    </tr>\n",
              "    <tr>\n",
              "      <th>max</th>\n",
              "      <td>2.248059</td>\n",
              "      <td>1.036089</td>\n",
              "      <td>0.842324</td>\n",
              "      <td>0.819016</td>\n",
              "    </tr>\n",
              "  </tbody>\n",
              "</table>\n",
              "</div>"
            ],
            "text/plain": [
              "              A         B         C         D\n",
              "count  6.000000  6.000000  6.000000  6.000000\n",
              "mean   0.380133 -0.034614  0.185105 -0.121728\n",
              "std    1.279545  0.795780  0.750975  0.831091\n",
              "min   -0.861636 -0.786985 -1.142624 -1.452074\n",
              "25%   -0.590934 -0.687040 -0.062204 -0.460823\n",
              "50%    0.002571 -0.261350  0.408442 -0.056113\n",
              "75%    1.259144  0.605797  0.711961  0.443953\n",
              "max    2.248059  1.036089  0.842324  0.819016"
            ]
          },
          "metadata": {
            "tags": []
          },
          "execution_count": 19
        }
      ]
    },
    {
      "cell_type": "code",
      "metadata": {
        "id": "MJTKlY2A82ct",
        "outputId": "386c7946-2d65-43eb-fafa-62fd63b70843",
        "colab": {
          "base_uri": "https://localhost:8080/",
          "height": 171
        }
      },
      "source": [
        "df.T # 데이터 전치"
      ],
      "execution_count": null,
      "outputs": [
        {
          "output_type": "execute_result",
          "data": {
            "text/html": [
              "<div>\n",
              "<style scoped>\n",
              "    .dataframe tbody tr th:only-of-type {\n",
              "        vertical-align: middle;\n",
              "    }\n",
              "\n",
              "    .dataframe tbody tr th {\n",
              "        vertical-align: top;\n",
              "    }\n",
              "\n",
              "    .dataframe thead th {\n",
              "        text-align: right;\n",
              "    }\n",
              "</style>\n",
              "<table border=\"1\" class=\"dataframe\">\n",
              "  <thead>\n",
              "    <tr style=\"text-align: right;\">\n",
              "      <th></th>\n",
              "      <th>2013-01-01</th>\n",
              "      <th>2013-01-02</th>\n",
              "      <th>2013-01-03</th>\n",
              "      <th>2013-01-04</th>\n",
              "      <th>2013-01-05</th>\n",
              "      <th>2013-01-06</th>\n",
              "    </tr>\n",
              "  </thead>\n",
              "  <tbody>\n",
              "    <tr>\n",
              "      <th>A</th>\n",
              "      <td>-0.131805</td>\n",
              "      <td>0.136948</td>\n",
              "      <td>1.633209</td>\n",
              "      <td>-0.861636</td>\n",
              "      <td>2.248059</td>\n",
              "      <td>-0.743977</td>\n",
              "    </tr>\n",
              "    <tr>\n",
              "      <th>B</th>\n",
              "      <td>0.824105</td>\n",
              "      <td>1.036089</td>\n",
              "      <td>-0.473571</td>\n",
              "      <td>-0.049129</td>\n",
              "      <td>-0.758196</td>\n",
              "      <td>-0.786985</td>\n",
              "    </tr>\n",
              "    <tr>\n",
              "      <th>C</th>\n",
              "      <td>0.793722</td>\n",
              "      <td>-0.199675</td>\n",
              "      <td>0.466677</td>\n",
              "      <td>0.350207</td>\n",
              "      <td>0.842324</td>\n",
              "      <td>-1.142624</td>\n",
              "    </tr>\n",
              "    <tr>\n",
              "      <th>D</th>\n",
              "      <td>-0.464042</td>\n",
              "      <td>0.819016</td>\n",
              "      <td>0.478959</td>\n",
              "      <td>-1.452074</td>\n",
              "      <td>0.338938</td>\n",
              "      <td>-0.451164</td>\n",
              "    </tr>\n",
              "  </tbody>\n",
              "</table>\n",
              "</div>"
            ],
            "text/plain": [
              "   2013-01-01  2013-01-02  2013-01-03  2013-01-04  2013-01-05  2013-01-06\n",
              "A   -0.131805    0.136948    1.633209   -0.861636    2.248059   -0.743977\n",
              "B    0.824105    1.036089   -0.473571   -0.049129   -0.758196   -0.786985\n",
              "C    0.793722   -0.199675    0.466677    0.350207    0.842324   -1.142624\n",
              "D   -0.464042    0.819016    0.478959   -1.452074    0.338938   -0.451164"
            ]
          },
          "metadata": {
            "tags": []
          },
          "execution_count": 20
        }
      ]
    },
    {
      "cell_type": "code",
      "metadata": {
        "id": "Tzaypf2n84MH",
        "outputId": "f7248774-1e17-473b-a624-77fecb2667db",
        "colab": {
          "base_uri": "https://localhost:8080/",
          "height": 233
        }
      },
      "source": [
        "df.sort_index(axis = 1, ascending = False) # 축별로 정리"
      ],
      "execution_count": null,
      "outputs": [
        {
          "output_type": "execute_result",
          "data": {
            "text/html": [
              "<div>\n",
              "<style scoped>\n",
              "    .dataframe tbody tr th:only-of-type {\n",
              "        vertical-align: middle;\n",
              "    }\n",
              "\n",
              "    .dataframe tbody tr th {\n",
              "        vertical-align: top;\n",
              "    }\n",
              "\n",
              "    .dataframe thead th {\n",
              "        text-align: right;\n",
              "    }\n",
              "</style>\n",
              "<table border=\"1\" class=\"dataframe\">\n",
              "  <thead>\n",
              "    <tr style=\"text-align: right;\">\n",
              "      <th></th>\n",
              "      <th>D</th>\n",
              "      <th>C</th>\n",
              "      <th>B</th>\n",
              "      <th>A</th>\n",
              "    </tr>\n",
              "  </thead>\n",
              "  <tbody>\n",
              "    <tr>\n",
              "      <th>2013-01-01</th>\n",
              "      <td>-0.464042</td>\n",
              "      <td>0.793722</td>\n",
              "      <td>0.824105</td>\n",
              "      <td>-0.131805</td>\n",
              "    </tr>\n",
              "    <tr>\n",
              "      <th>2013-01-02</th>\n",
              "      <td>0.819016</td>\n",
              "      <td>-0.199675</td>\n",
              "      <td>1.036089</td>\n",
              "      <td>0.136948</td>\n",
              "    </tr>\n",
              "    <tr>\n",
              "      <th>2013-01-03</th>\n",
              "      <td>0.478959</td>\n",
              "      <td>0.466677</td>\n",
              "      <td>-0.473571</td>\n",
              "      <td>1.633209</td>\n",
              "    </tr>\n",
              "    <tr>\n",
              "      <th>2013-01-04</th>\n",
              "      <td>-1.452074</td>\n",
              "      <td>0.350207</td>\n",
              "      <td>-0.049129</td>\n",
              "      <td>-0.861636</td>\n",
              "    </tr>\n",
              "    <tr>\n",
              "      <th>2013-01-05</th>\n",
              "      <td>0.338938</td>\n",
              "      <td>0.842324</td>\n",
              "      <td>-0.758196</td>\n",
              "      <td>2.248059</td>\n",
              "    </tr>\n",
              "    <tr>\n",
              "      <th>2013-01-06</th>\n",
              "      <td>-0.451164</td>\n",
              "      <td>-1.142624</td>\n",
              "      <td>-0.786985</td>\n",
              "      <td>-0.743977</td>\n",
              "    </tr>\n",
              "  </tbody>\n",
              "</table>\n",
              "</div>"
            ],
            "text/plain": [
              "                   D         C         B         A\n",
              "2013-01-01 -0.464042  0.793722  0.824105 -0.131805\n",
              "2013-01-02  0.819016 -0.199675  1.036089  0.136948\n",
              "2013-01-03  0.478959  0.466677 -0.473571  1.633209\n",
              "2013-01-04 -1.452074  0.350207 -0.049129 -0.861636\n",
              "2013-01-05  0.338938  0.842324 -0.758196  2.248059\n",
              "2013-01-06 -0.451164 -1.142624 -0.786985 -0.743977"
            ]
          },
          "metadata": {
            "tags": []
          },
          "execution_count": 21
        }
      ]
    },
    {
      "cell_type": "code",
      "metadata": {
        "id": "77waGo079ACj",
        "outputId": "c80dca9a-173c-444a-c6b7-c765add79f69",
        "colab": {
          "base_uri": "https://localhost:8080/",
          "height": 233
        }
      },
      "source": [
        "df.sort_values(by = 'B') # 값별로 정렬"
      ],
      "execution_count": null,
      "outputs": [
        {
          "output_type": "execute_result",
          "data": {
            "text/html": [
              "<div>\n",
              "<style scoped>\n",
              "    .dataframe tbody tr th:only-of-type {\n",
              "        vertical-align: middle;\n",
              "    }\n",
              "\n",
              "    .dataframe tbody tr th {\n",
              "        vertical-align: top;\n",
              "    }\n",
              "\n",
              "    .dataframe thead th {\n",
              "        text-align: right;\n",
              "    }\n",
              "</style>\n",
              "<table border=\"1\" class=\"dataframe\">\n",
              "  <thead>\n",
              "    <tr style=\"text-align: right;\">\n",
              "      <th></th>\n",
              "      <th>A</th>\n",
              "      <th>B</th>\n",
              "      <th>C</th>\n",
              "      <th>D</th>\n",
              "    </tr>\n",
              "  </thead>\n",
              "  <tbody>\n",
              "    <tr>\n",
              "      <th>2013-01-06</th>\n",
              "      <td>-0.743977</td>\n",
              "      <td>-0.786985</td>\n",
              "      <td>-1.142624</td>\n",
              "      <td>-0.451164</td>\n",
              "    </tr>\n",
              "    <tr>\n",
              "      <th>2013-01-05</th>\n",
              "      <td>2.248059</td>\n",
              "      <td>-0.758196</td>\n",
              "      <td>0.842324</td>\n",
              "      <td>0.338938</td>\n",
              "    </tr>\n",
              "    <tr>\n",
              "      <th>2013-01-03</th>\n",
              "      <td>1.633209</td>\n",
              "      <td>-0.473571</td>\n",
              "      <td>0.466677</td>\n",
              "      <td>0.478959</td>\n",
              "    </tr>\n",
              "    <tr>\n",
              "      <th>2013-01-04</th>\n",
              "      <td>-0.861636</td>\n",
              "      <td>-0.049129</td>\n",
              "      <td>0.350207</td>\n",
              "      <td>-1.452074</td>\n",
              "    </tr>\n",
              "    <tr>\n",
              "      <th>2013-01-01</th>\n",
              "      <td>-0.131805</td>\n",
              "      <td>0.824105</td>\n",
              "      <td>0.793722</td>\n",
              "      <td>-0.464042</td>\n",
              "    </tr>\n",
              "    <tr>\n",
              "      <th>2013-01-02</th>\n",
              "      <td>0.136948</td>\n",
              "      <td>1.036089</td>\n",
              "      <td>-0.199675</td>\n",
              "      <td>0.819016</td>\n",
              "    </tr>\n",
              "  </tbody>\n",
              "</table>\n",
              "</div>"
            ],
            "text/plain": [
              "                   A         B         C         D\n",
              "2013-01-06 -0.743977 -0.786985 -1.142624 -0.451164\n",
              "2013-01-05  2.248059 -0.758196  0.842324  0.338938\n",
              "2013-01-03  1.633209 -0.473571  0.466677  0.478959\n",
              "2013-01-04 -0.861636 -0.049129  0.350207 -1.452074\n",
              "2013-01-01 -0.131805  0.824105  0.793722 -0.464042\n",
              "2013-01-02  0.136948  1.036089 -0.199675  0.819016"
            ]
          },
          "metadata": {
            "tags": []
          },
          "execution_count": 22
        }
      ]
    },
    {
      "cell_type": "markdown",
      "metadata": {
        "id": "ya7o63fX9Eh_"
      },
      "source": [
        "## **3. Selection**  \n",
        "* 주석: Pandas에 최적화된 데이터 접근 방법인 .at, .iat, .loc, .iloc 사용  \n",
        "\n",
        "[- 참고: 데이터 인덱싱 및 선택](https://pandas.pydata.org/pandas-docs/stable/user_guide/indexing.html), [다중 인덱싱/심화 인덱싱](https://pandas.pydata.org/pandas-docs/stable/user_guide/advanced.html)"
      ]
    },
    {
      "cell_type": "markdown",
      "metadata": {
        "id": "OlUtfCYW9hUP"
      },
      "source": [
        "### *** Getting(데이터 얻기)**  \n",
        "df.A와 동일한 Series를 생성하는 단일 열을 선택한다."
      ]
    },
    {
      "cell_type": "code",
      "metadata": {
        "id": "zrP17CWh9tPV",
        "outputId": "4c08c1f3-f555-4d6c-a09a-f786ba94c7d4",
        "colab": {
          "base_uri": "https://localhost:8080/"
        }
      },
      "source": [
        "df['A']"
      ],
      "execution_count": null,
      "outputs": [
        {
          "output_type": "execute_result",
          "data": {
            "text/plain": [
              "2013-01-01   -0.131805\n",
              "2013-01-02    0.136948\n",
              "2013-01-03    1.633209\n",
              "2013-01-04   -0.861636\n",
              "2013-01-05    2.248059\n",
              "2013-01-06   -0.743977\n",
              "Freq: D, Name: A, dtype: float64"
            ]
          },
          "metadata": {
            "tags": []
          },
          "execution_count": 23
        }
      ]
    },
    {
      "cell_type": "code",
      "metadata": {
        "id": "zmhkrleH9vyH",
        "outputId": "d53d878b-73c4-48b7-cf99-f60dba07cf15",
        "colab": {
          "base_uri": "https://localhost:8080/",
          "height": 141
        }
      },
      "source": [
        "df[0:3]"
      ],
      "execution_count": null,
      "outputs": [
        {
          "output_type": "execute_result",
          "data": {
            "text/html": [
              "<div>\n",
              "<style scoped>\n",
              "    .dataframe tbody tr th:only-of-type {\n",
              "        vertical-align: middle;\n",
              "    }\n",
              "\n",
              "    .dataframe tbody tr th {\n",
              "        vertical-align: top;\n",
              "    }\n",
              "\n",
              "    .dataframe thead th {\n",
              "        text-align: right;\n",
              "    }\n",
              "</style>\n",
              "<table border=\"1\" class=\"dataframe\">\n",
              "  <thead>\n",
              "    <tr style=\"text-align: right;\">\n",
              "      <th></th>\n",
              "      <th>A</th>\n",
              "      <th>B</th>\n",
              "      <th>C</th>\n",
              "      <th>D</th>\n",
              "    </tr>\n",
              "  </thead>\n",
              "  <tbody>\n",
              "    <tr>\n",
              "      <th>2013-01-01</th>\n",
              "      <td>-0.131805</td>\n",
              "      <td>0.824105</td>\n",
              "      <td>0.793722</td>\n",
              "      <td>-0.464042</td>\n",
              "    </tr>\n",
              "    <tr>\n",
              "      <th>2013-01-02</th>\n",
              "      <td>0.136948</td>\n",
              "      <td>1.036089</td>\n",
              "      <td>-0.199675</td>\n",
              "      <td>0.819016</td>\n",
              "    </tr>\n",
              "    <tr>\n",
              "      <th>2013-01-03</th>\n",
              "      <td>1.633209</td>\n",
              "      <td>-0.473571</td>\n",
              "      <td>0.466677</td>\n",
              "      <td>0.478959</td>\n",
              "    </tr>\n",
              "  </tbody>\n",
              "</table>\n",
              "</div>"
            ],
            "text/plain": [
              "                   A         B         C         D\n",
              "2013-01-01 -0.131805  0.824105  0.793722 -0.464042\n",
              "2013-01-02  0.136948  1.036089 -0.199675  0.819016\n",
              "2013-01-03  1.633209 -0.473571  0.466677  0.478959"
            ]
          },
          "metadata": {
            "tags": []
          },
          "execution_count": 24
        }
      ]
    },
    {
      "cell_type": "code",
      "metadata": {
        "id": "Vo98mhup9x99",
        "outputId": "30d08047-a0c2-4067-d585-a564162464cb",
        "colab": {
          "base_uri": "https://localhost:8080/",
          "height": 141
        }
      },
      "source": [
        "df['20130102':'20130104']"
      ],
      "execution_count": null,
      "outputs": [
        {
          "output_type": "execute_result",
          "data": {
            "text/html": [
              "<div>\n",
              "<style scoped>\n",
              "    .dataframe tbody tr th:only-of-type {\n",
              "        vertical-align: middle;\n",
              "    }\n",
              "\n",
              "    .dataframe tbody tr th {\n",
              "        vertical-align: top;\n",
              "    }\n",
              "\n",
              "    .dataframe thead th {\n",
              "        text-align: right;\n",
              "    }\n",
              "</style>\n",
              "<table border=\"1\" class=\"dataframe\">\n",
              "  <thead>\n",
              "    <tr style=\"text-align: right;\">\n",
              "      <th></th>\n",
              "      <th>A</th>\n",
              "      <th>B</th>\n",
              "      <th>C</th>\n",
              "      <th>D</th>\n",
              "    </tr>\n",
              "  </thead>\n",
              "  <tbody>\n",
              "    <tr>\n",
              "      <th>2013-01-02</th>\n",
              "      <td>0.136948</td>\n",
              "      <td>1.036089</td>\n",
              "      <td>-0.199675</td>\n",
              "      <td>0.819016</td>\n",
              "    </tr>\n",
              "    <tr>\n",
              "      <th>2013-01-03</th>\n",
              "      <td>1.633209</td>\n",
              "      <td>-0.473571</td>\n",
              "      <td>0.466677</td>\n",
              "      <td>0.478959</td>\n",
              "    </tr>\n",
              "    <tr>\n",
              "      <th>2013-01-04</th>\n",
              "      <td>-0.861636</td>\n",
              "      <td>-0.049129</td>\n",
              "      <td>0.350207</td>\n",
              "      <td>-1.452074</td>\n",
              "    </tr>\n",
              "  </tbody>\n",
              "</table>\n",
              "</div>"
            ],
            "text/plain": [
              "                   A         B         C         D\n",
              "2013-01-02  0.136948  1.036089 -0.199675  0.819016\n",
              "2013-01-03  1.633209 -0.473571  0.466677  0.478959\n",
              "2013-01-04 -0.861636 -0.049129  0.350207 -1.452074"
            ]
          },
          "metadata": {
            "tags": []
          },
          "execution_count": 25
        }
      ]
    },
    {
      "cell_type": "markdown",
      "metadata": {
        "id": "gL-MwzmE933D"
      },
      "source": [
        "### *** Selection by Label**  \n",
        "[- 참고: Label을 통한 선택](https://pandas.pydata.org/pandas-docs/stable/user_guide/indexing.html)"
      ]
    },
    {
      "cell_type": "code",
      "metadata": {
        "id": "V2lZZDDc-DJJ",
        "outputId": "0d12a735-2097-4328-aa03-b3f9f24abe9e",
        "colab": {
          "base_uri": "https://localhost:8080/"
        }
      },
      "source": [
        "# 라벨을 사용하여 횡단면 얻기\n",
        "df.loc[dates[0]]"
      ],
      "execution_count": null,
      "outputs": [
        {
          "output_type": "execute_result",
          "data": {
            "text/plain": [
              "A   -0.131805\n",
              "B    0.824105\n",
              "C    0.793722\n",
              "D   -0.464042\n",
              "Name: 2013-01-01 00:00:00, dtype: float64"
            ]
          },
          "metadata": {
            "tags": []
          },
          "execution_count": 27
        }
      ]
    },
    {
      "cell_type": "code",
      "metadata": {
        "id": "QWsAz6u--N6-",
        "outputId": "896dabac-8efb-4989-e88c-2e1897f0b4d2",
        "colab": {
          "base_uri": "https://localhost:8080/",
          "height": 233
        }
      },
      "source": [
        "# 라벨을 사용하여 여러 축(의 데이터) 얻기\n",
        "df.loc[:, ['A', 'B']]"
      ],
      "execution_count": null,
      "outputs": [
        {
          "output_type": "execute_result",
          "data": {
            "text/html": [
              "<div>\n",
              "<style scoped>\n",
              "    .dataframe tbody tr th:only-of-type {\n",
              "        vertical-align: middle;\n",
              "    }\n",
              "\n",
              "    .dataframe tbody tr th {\n",
              "        vertical-align: top;\n",
              "    }\n",
              "\n",
              "    .dataframe thead th {\n",
              "        text-align: right;\n",
              "    }\n",
              "</style>\n",
              "<table border=\"1\" class=\"dataframe\">\n",
              "  <thead>\n",
              "    <tr style=\"text-align: right;\">\n",
              "      <th></th>\n",
              "      <th>A</th>\n",
              "      <th>B</th>\n",
              "    </tr>\n",
              "  </thead>\n",
              "  <tbody>\n",
              "    <tr>\n",
              "      <th>2013-01-01</th>\n",
              "      <td>-0.131805</td>\n",
              "      <td>0.824105</td>\n",
              "    </tr>\n",
              "    <tr>\n",
              "      <th>2013-01-02</th>\n",
              "      <td>0.136948</td>\n",
              "      <td>1.036089</td>\n",
              "    </tr>\n",
              "    <tr>\n",
              "      <th>2013-01-03</th>\n",
              "      <td>1.633209</td>\n",
              "      <td>-0.473571</td>\n",
              "    </tr>\n",
              "    <tr>\n",
              "      <th>2013-01-04</th>\n",
              "      <td>-0.861636</td>\n",
              "      <td>-0.049129</td>\n",
              "    </tr>\n",
              "    <tr>\n",
              "      <th>2013-01-05</th>\n",
              "      <td>2.248059</td>\n",
              "      <td>-0.758196</td>\n",
              "    </tr>\n",
              "    <tr>\n",
              "      <th>2013-01-06</th>\n",
              "      <td>-0.743977</td>\n",
              "      <td>-0.786985</td>\n",
              "    </tr>\n",
              "  </tbody>\n",
              "</table>\n",
              "</div>"
            ],
            "text/plain": [
              "                   A         B\n",
              "2013-01-01 -0.131805  0.824105\n",
              "2013-01-02  0.136948  1.036089\n",
              "2013-01-03  1.633209 -0.473571\n",
              "2013-01-04 -0.861636 -0.049129\n",
              "2013-01-05  2.248059 -0.758196\n",
              "2013-01-06 -0.743977 -0.786985"
            ]
          },
          "metadata": {
            "tags": []
          },
          "execution_count": 30
        }
      ]
    },
    {
      "cell_type": "code",
      "metadata": {
        "id": "a9TUoZtK-W7N",
        "outputId": "935c98f3-5252-4d08-bcd2-96e0862e8f67",
        "colab": {
          "base_uri": "https://localhost:8080/",
          "height": 141
        }
      },
      "source": [
        "# 양쪽 종단점을 포함한 라벨 슬라이싱 보기\n",
        "df.loc['20130102':'20130104', ['A', 'B']]"
      ],
      "execution_count": null,
      "outputs": [
        {
          "output_type": "execute_result",
          "data": {
            "text/html": [
              "<div>\n",
              "<style scoped>\n",
              "    .dataframe tbody tr th:only-of-type {\n",
              "        vertical-align: middle;\n",
              "    }\n",
              "\n",
              "    .dataframe tbody tr th {\n",
              "        vertical-align: top;\n",
              "    }\n",
              "\n",
              "    .dataframe thead th {\n",
              "        text-align: right;\n",
              "    }\n",
              "</style>\n",
              "<table border=\"1\" class=\"dataframe\">\n",
              "  <thead>\n",
              "    <tr style=\"text-align: right;\">\n",
              "      <th></th>\n",
              "      <th>A</th>\n",
              "      <th>B</th>\n",
              "    </tr>\n",
              "  </thead>\n",
              "  <tbody>\n",
              "    <tr>\n",
              "      <th>2013-01-02</th>\n",
              "      <td>0.136948</td>\n",
              "      <td>1.036089</td>\n",
              "    </tr>\n",
              "    <tr>\n",
              "      <th>2013-01-03</th>\n",
              "      <td>1.633209</td>\n",
              "      <td>-0.473571</td>\n",
              "    </tr>\n",
              "    <tr>\n",
              "      <th>2013-01-04</th>\n",
              "      <td>-0.861636</td>\n",
              "      <td>-0.049129</td>\n",
              "    </tr>\n",
              "  </tbody>\n",
              "</table>\n",
              "</div>"
            ],
            "text/plain": [
              "                   A         B\n",
              "2013-01-02  0.136948  1.036089\n",
              "2013-01-03  1.633209 -0.473571\n",
              "2013-01-04 -0.861636 -0.049129"
            ]
          },
          "metadata": {
            "tags": []
          },
          "execution_count": 31
        }
      ]
    },
    {
      "cell_type": "code",
      "metadata": {
        "id": "z0sKMNSY-hJx",
        "outputId": "dd162ae5-584f-4cc6-fbb1-30ccf67a3af5",
        "colab": {
          "base_uri": "https://localhost:8080/"
        }
      },
      "source": [
        "# 반환되는 객체의 차원 줄이기\n",
        "df.loc['20130102', ['A', 'B']]"
      ],
      "execution_count": null,
      "outputs": [
        {
          "output_type": "execute_result",
          "data": {
            "text/plain": [
              "A    0.136948\n",
              "B    1.036089\n",
              "Name: 2013-01-02 00:00:00, dtype: float64"
            ]
          },
          "metadata": {
            "tags": []
          },
          "execution_count": 32
        }
      ]
    },
    {
      "cell_type": "code",
      "metadata": {
        "id": "EgP3R1zp-l4D",
        "outputId": "cabea0b9-5303-4713-aa79-49d5cc79cb7c",
        "colab": {
          "base_uri": "https://localhost:8080/"
        }
      },
      "source": [
        "# 스킬라 값 얻기\n",
        "df.loc[dates[0], 'A']"
      ],
      "execution_count": null,
      "outputs": [
        {
          "output_type": "execute_result",
          "data": {
            "text/plain": [
              "-0.13180529275016625"
            ]
          },
          "metadata": {
            "tags": []
          },
          "execution_count": 33
        }
      ]
    },
    {
      "cell_type": "code",
      "metadata": {
        "id": "krORqPkY-p8B"
      },
      "source": [
        "# cf. 스킬라 값 더 빠르게 구하는 법\n",
        "df.at[dates[0], 'A']"
      ],
      "execution_count": null,
      "outputs": []
    },
    {
      "cell_type": "markdown",
      "metadata": {
        "id": "OpnCbJdl-vn4"
      },
      "source": [
        "### *** Selection by Position**  \n",
        "[- 참고: 위치로 선택하기](https://pandas.pydata.org/pandas-docs/stable/user_guide/indexing.html)"
      ]
    },
    {
      "cell_type": "code",
      "metadata": {
        "id": "xiZeAwfPAA6n"
      },
      "source": [
        "# 넘겨 받은 정수 위치를 기준으로 선택\n",
        "df.iloc[3]"
      ],
      "execution_count": null,
      "outputs": []
    },
    {
      "cell_type": "code",
      "metadata": {
        "id": "dCvmcf93E0rt"
      },
      "source": [
        "# 정수로 표기된 슬라이스를 통해, numpy / python과 유사하게 작동\n",
        "df.iloc[3:5, 0:2]"
      ],
      "execution_count": null,
      "outputs": []
    },
    {
      "cell_type": "code",
      "metadata": {
        "id": "g2CyqC3UE7jn"
      },
      "source": [
        "# 정수로 표기된 위치값 리스트를 통해, numpy / python 스타일과 유사해짐\n",
        "df.iloc[[1, 2, 4], [0, 2]]"
      ],
      "execution_count": null,
      "outputs": []
    },
    {
      "cell_type": "code",
      "metadata": {
        "id": "LJEIn2jGFJbl"
      },
      "source": [
        "# 명시적으로 행을 나누고자 하는 경우\n",
        "df.iloc[1:3, :]"
      ],
      "execution_count": null,
      "outputs": []
    }
  ]
}