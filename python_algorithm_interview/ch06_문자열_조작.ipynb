{
 "cells": [
  {
   "cell_type": "markdown",
   "metadata": {},
   "source": [
    "# 6장. 문자열 조작\n",
    "\n",
    "## 00. 문자열 조작\n",
    "\n",
    "**String Manipulation**  \n",
    "- 문자열을 변경하거나 분리하는 등 여러 과정  \n",
    "- 로우 레벨에서 조작하거나, C처럼 문자형이 따로 없는 언어에서는 조작이 까다로움\n",
    "- 단, 대부분 언어는 별도의 문자열 자료형과 문자열 조작을 위한 다양한 기능을 제공\n",
    "\n",
    "**문자열 처리와 관련된 알고리즘이 쓰이는 분야**\n",
    "- 정보처리 분야: 여러 키워드로 웹 페이지를 탐색할 때 문자열 처리 애플리케이션을 이용\n",
    "- 통신 시스템 분야: 문자 메시지나 이메일을 보낼 때, 문자열을 어느 한 곳에서 다른 곳으로 보냄\n",
    "- 프로그래밍 시스템 분야: 프로그램 자체가 문자열로 구성, 컴파일러나 인터프리터 등은 문자열을 해석하고 처리하여 기계어로 변환하는 역할을 하는데 여기에 매우 정교한 문자열 처리 알고리즘이 쓰임\n",
    "\n",
    "\n",
    "## 01. 유효한 팰린드롬\n",
    "\n",
    "Q. 주어진 문자열이 팰린드롬인지 확인하라. 대소문자를 구분하지 않으며, 영문자와 숫자만을 대상으로 한다.  \n",
    "- 팰린드롬(Palindrome): 앞뒤가 똑같은 단어나 문장으로, 뒤집어도 같은 말이 되는 단어 또는 문장\n",
    "\n",
    "\n",
    "**- 입력**  \n",
    "예제 1: \"A man, a plan, a canal: Panama\"  \n",
    "예제 2: \"race a car\"  \n",
    "\n",
    "\n",
    "### 풀이 1. 리스트로 변환\n",
    "문자열을 직접 입력받아 펠린드롬 여부 판별하기"
   ]
  },
  {
   "cell_type": "code",
   "execution_count": 10,
   "metadata": {},
   "outputs": [
    {
     "name": "stdout",
     "output_type": "stream",
     "text": [
      "True\n",
      "False\n"
     ]
    }
   ],
   "source": [
    "class Solution:\n",
    "    def isPalindrome(self, s: str) -> bool:\n",
    "        strs = []\n",
    "        for char in s:\n",
    "            if char.isalnum():\n",
    "                strs.append(char.lower())\n",
    "        # 팰린드롬 여부 판별\n",
    "        while len(strs) > 1:\n",
    "            if strs.pop(0) != strs.pop():\n",
    "                return False\n",
    "        return True\n",
    "    \n",
    "if __name__ == '__main__':\n",
    "  s = Solution()\n",
    "  print(s.isPalindrome(\"A man, a plan, a canal: Panama\"))\n",
    "  print(s.isPalindrome(\"race a car\"))"
   ]
  },
  {
   "cell_type": "markdown",
   "metadata": {},
   "source": [
    "### 풀이 2. 데크 자료형을 이용한 최적화\n",
    "데크(deque)를 명시적으로 선언하여 풀이 속도 개선하기"
   ]
  },
  {
   "cell_type": "code",
   "execution_count": 11,
   "metadata": {},
   "outputs": [
    {
     "name": "stdout",
     "output_type": "stream",
     "text": [
      "True\n",
      "False\n"
     ]
    }
   ],
   "source": [
    "import collections\n",
    "from typing import Deque\n",
    "\n",
    "class Solution:\n",
    "    def isPalindrome(self, s: str) -> bool:\n",
    "        # 자료형 데크로 선언\n",
    "        strs: Deque = collections.deque()\n",
    "\n",
    "        for char in s:\n",
    "            if char.isalnum():\n",
    "                strs.append(char.lower())\n",
    "\n",
    "        while len(strs) > 1:\n",
    "            if strs.popleft() != strs.pop():\n",
    "                return False\n",
    "\n",
    "        return True\n",
    "    \n",
    "if __name__ == '__main__':\n",
    "  s = Solution()\n",
    "  print(s.isPalindrome(\"A man, a plan, a canal: Panama\"))\n",
    "  print(s.isPalindrome(\"race a car\"))"
   ]
  },
  {
   "cell_type": "markdown",
   "metadata": {},
   "source": [
    "### 풀이 3. 슬라이싱 사용\n",
    "정규식으로 불필요한 문자를 필터링하고 문자열 조작을 위해 슬라이싱 사용  \n",
    "re.sub('정규표현식', 대상 문자열, 치환 문자)  \n",
    "- 정규표현식: 검색 패턴 지정\n",
    "- 대상 문자열: 검색 대상이 되는 문자열\n",
    "- 치환 문자: 변경하고 싶은 문자"
   ]
  },
  {
   "cell_type": "code",
   "execution_count": 12,
   "metadata": {},
   "outputs": [
    {
     "name": "stdout",
     "output_type": "stream",
     "text": [
      "True\n",
      "False\n"
     ]
    }
   ],
   "source": [
    "import re #정규표현식 불러오기\n",
    "\n",
    "class Solution:\n",
    "    def isPalindrome(self, s: str) -> bool:\n",
    "        s = s.lower()\n",
    "        # 정규식으로 불필요한 문자 필터링: re.sub(''정규표현식', 대상 문자열, 치환 문자)\n",
    "        s = re.sub('[^a-z0-9]', '', s)\n",
    "\n",
    "        return s == s[::-1]  # 슬라이싱\n",
    "\n",
    "if __name__ == '__main__':\n",
    "  s = Solution()\n",
    "  print(s.isPalindrome(\"A man, a plan, a canal: Panama\"))\n",
    "  print(s.isPalindrome(\"race a car\"))"
   ]
  },
  {
   "cell_type": "markdown",
   "metadata": {},
   "source": [
    "## 02. 문자열 뒤집기\n",
    "Q. 문자열을 뒤집는 함수를 작성하라. 입력값은 문자 배열이며, 리턴 없이 리스트 내부를 직접 조작하라.  \n",
    "\n",
    "**-입력**  \n",
    "예제 1: [\"h\", \"e\", \"l\", \"l\", \"o\"]  \n",
    "예제 2: [\"H\", \"a\", \"n\", \"n\", \"a\", \"H\"]\n",
    "\n",
    "### 풀이 1. 투 포인터를 이용한 스왑\n",
    "- 투 포인터(Two Pointer): 2개의 포인터를 이용해 범위를 조정해가며 풀이하는 방식  \n",
    "\n",
    "문제에 '리턴 없이 리스트 내부를 직접 조작하라'는 제약이 있으므로 s 내부를 스왑하는 형태로 풀이할 수 있음"
   ]
  },
  {
   "cell_type": "code",
   "execution_count": 31,
   "metadata": {},
   "outputs": [
    {
     "name": "stdout",
     "output_type": "stream",
     "text": [
      "['o', 'l', 'l', 'e', 'h']\n",
      "['H', 'a', 'n', 'n', 'a', 'H']\n"
     ]
    }
   ],
   "source": [
    "from typing import List\n",
    "\n",
    "class Solution:\n",
    "    def reverseString(self, s: List[str]) -> None:\n",
    "        left, right = 0, len(s) - 1\n",
    "        while left < right:\n",
    "            s[left], s[right] = s[right], s[left]\n",
    "            left += 1\n",
    "            right -= 1\n",
    "        return s\n",
    "    \n",
    "if __name__ == '__main__':\n",
    "  s = Solution()\n",
    "  print(s.reverseString([\"h\", \"e\", \"l\", \"l\", \"o\"]))\n",
    "  print(s.reverseString([\"H\", \"a\", \"n\", \"n\", \"a\", \"H\"]))"
   ]
  },
  {
   "cell_type": "markdown",
   "metadata": {},
   "source": [
    "### 풀이 2. 파이썬다운 방식\n",
    "파이썬의 기본 기능을 이용하면 한 줄 코드로 불 수 있음\n",
    "\n",
    "- reverse() 함수: 리스트에만 제공되어, 문자열의 경우에는 문자열 슬라이싱으로 풀이"
   ]
  },
  {
   "cell_type": "code",
   "execution_count": 29,
   "metadata": {},
   "outputs": [
    {
     "name": "stdout",
     "output_type": "stream",
     "text": [
      "['o', 'l', 'l', 'e', 'h']\n",
      "['H', 'a', 'n', 'n', 'a', 'H']\n"
     ]
    }
   ],
   "source": [
    "from typing import List\n",
    "\n",
    "class Solution:\n",
    "    def reverseString(self, s: List[str]) -> None:\n",
    "        s.reverse()\n",
    "        return s\n",
    "    \n",
    "if __name__ == '__main__':\n",
    "  s = Solution()\n",
    "  print(s.reverseString([\"h\", \"e\", \"l\", \"l\", \"o\"]))\n",
    "  print(s.reverseString([\"H\", \"a\", \"n\", \"n\", \"a\", \"H\"]))"
   ]
  },
  {
   "cell_type": "markdown",
   "metadata": {},
   "source": [
    "## 03. 로그 파일 재정렬\n",
    "Q. 로그를 재정렬하라. 기준은 아래와 같다.  \n",
    "  1. 로그의 가장 앞 부분은 식별자다.\n",
    "  2. 문자로 구성된 로그가 숫자 로그보다 앞에 온다.\n",
    "  3. 식별자는 순서에 영향을 끼치지 않지만, 문자가 동일한 경우 식별자 순으로 한다.\n",
    "  4. 숫자 로그는 입력 순서대로 한다.\n",
    "\n",
    " \n",
    "**- 입력**  \n",
    "logs = [\"dig1 8 1 5 1\",\"let1 art can\",\"dig2 3 6\",\"let2 own kit dig\",\"let3 art zero\"]\n",
    "\n",
    "\n",
    "### 풀이 1. 람다와 + 연산자 이용\n",
    "요구 조건을 얼마나 깔끔하게 처리할 수 있는지를 묻는 문제로, 실무에서도 자주 쓰이는 로직  \n",
    "\n",
    "- 조건 2, 문자로 구성된 로그가 숫자 로그 전에 오며, 숫자 로그는 입력 순서대로 둠\n",
    "  - 문자와 숫자 구분, 숫자는 그대로 이어 붙임\n",
    "  - isdigit()을 이용하여 숫자 여부를 판별해 구분해야 함"
   ]
  },
  {
   "cell_type": "code",
   "execution_count": 44,
   "metadata": {
    "scrolled": true
   },
   "outputs": [
    {
     "name": "stdout",
     "output_type": "stream",
     "text": [
      "['let1 art can', 'let3 art zero', 'let2 own kit dig', 'dig1 8 1 5 1', 'dig2 3 6']\n"
     ]
    }
   ],
   "source": [
    "from typing import List\n",
    "\n",
    "class Solution:\n",
    "    def reorderLogFiles(self, logs: List[str]) -> List[str]:\n",
    "        letters, digits = [], []\n",
    "        for log in logs:\n",
    "            if log.split()[1].isdigit():\n",
    "                digits.append(log)\n",
    "            else:\n",
    "                letters.append(log)\n",
    "\n",
    "        # 두 개의 키를 람다 표현식으로 정렬\n",
    "        # 식별자를 제외한 문자열 [1:]을 키로 정렬하며 동일한 경우 후순위로 식별자 [0]을 지정해 정렬되도록 람자 표현식으로 정렬\n",
    "        letters.sort(key=lambda x: (x.split()[1:], x.split()[0]))\n",
    "        \n",
    "        # 문자 + 숫자 순서로 이어 붙이고 return\n",
    "        return letters + digits\n",
    "\n",
    "if __name__ == '__main__':\n",
    "  s = Solution()\n",
    "  print(s.reorderLogFiles([\"dig1 8 1 5 1\",\"let1 art can\",\"dig2 3 6\",\"let2 own kit dig\",\"let3 art zero\"]))"
   ]
  },
  {
   "cell_type": "markdown",
   "metadata": {},
   "source": [
    "## 04. 가장 흔한 단어\n",
    "Q. 금지된 단어를 제외한 가장 흔하게 등장하는 단어를 출력하라. 대소문자 구분을 하지 않으며, 구두점(마침표, 쉼표 등) 또한 무시한다.  \n",
    "\n",
    "**- 입력**  \n",
    "paragraph = \"Bob hit a ball, the hit BALL flew far after it was hit.\"  \n",
    "banned = [\"hit\"]\n",
    "\n",
    "\n",
    "### 풀이 1. 리스트 컴프리헨션, Counter 객체 사용\n",
    "입력값에 대소문자가 섞여 있고 쉼표 등의 구두점이 존재하므로 전처리 작업이 필요(Data Cleansing)  \n",
    "\n",
    "- 정규식 사용 코드\n",
    "  - \\w: 단어 문자(Word Character)\n",
    "  = ^: not"
   ]
  },
  {
   "cell_type": "code",
   "execution_count": 48,
   "metadata": {},
   "outputs": [
    {
     "name": "stdout",
     "output_type": "stream",
     "text": [
      "ball\n"
     ]
    }
   ],
   "source": [
    "import collections\n",
    "import re\n",
    "from typing import List\n",
    "\n",
    "class Solution:\n",
    "    def mostCommonWord(self, paragraph: str, banned: List[str]) -> str:\n",
    "        words = [word for word in re.sub(r'[^\\w]', ' ', paragraph)\n",
    "            .lower().split()\n",
    "                 if word not in banned]\n",
    "\n",
    "        counts = collections.Counter(words)\n",
    "        # 가장 흔하게 등장하는 단어의 첫 번째 인덱스 리턴\n",
    "        return counts.most_common(1)[0][0]\n",
    "\n",
    "if __name__ == '__main__':\n",
    "  s = Solution()\n",
    "  print(s.mostCommonWord(paragraph = \"Bob hit a ball, the hit BALL flew far after it was hit.\",\n",
    "                         banned = [\"hit\"]))"
   ]
  },
  {
   "cell_type": "markdown",
   "metadata": {},
   "source": [
    "## 05. 그룹 애너그램\n",
    "Q. 문자열 배열을 받아 애너그램 단위로 그룹핑하라.\n",
    "\n",
    "**-입력**  \n",
    "[\"eat\", \"tea\", \"tan\", \"ate\", \"nat\", \"bat\"]\n",
    "\n",
    "\n",
    "### 풀이 1. 정렬하여 딕셔너리에 추가\n",
    "애너그램 관계인 단어들을 정렬하면 서로 같은 값을 갖기 때문에 정렬하여 비교하는 것이 애너그램을 판단하는 가장 간단한 방법  \n",
    "파이썬의 딕셔너리는 키/값 해시 테이블 자료형  \n",
    "\n",
    "- 사용 함수\n",
    "  - sorted(): 문자열도 정리하며 결과를 리스트 형태로 리턴\n",
    "  - join(): sorted된 결과를 키로 사용하기 위해 합쳐서 값을 키로 하는 딕셔너리로 구성  \n",
    "  - append(): 리스트에 요소 추가"
   ]
  },
  {
   "cell_type": "code",
   "execution_count": 49,
   "metadata": {},
   "outputs": [
    {
     "name": "stdout",
     "output_type": "stream",
     "text": [
      "[['eat', 'tea', 'ate'], ['tan', 'nat'], ['bat']]\n"
     ]
    }
   ],
   "source": [
    "import collections\n",
    "from typing import List\n",
    "\n",
    "\n",
    "class Solution:\n",
    "    def groupAnagrams(self, strs: List[str]) -> List[List[str]]:\n",
    "        anagrams = collections.defaultdict(list)\n",
    "\n",
    "        for word in strs:\n",
    "            # 정렬하여 딕셔너리에 추가\n",
    "            anagrams[''.join(sorted(word))].append(word)\n",
    "        return list(anagrams.values())\n",
    "\n",
    "if __name__ == '__main__':\n",
    "  s = Solution()\n",
    "  print(s.groupAnagrams([\"eat\", \"tea\", \"tan\", \"ate\", \"nat\", \"bat\"]))"
   ]
  },
  {
   "cell_type": "markdown",
   "metadata": {},
   "source": [
    "### 추가. 여러 가지 정렬 방법\n",
    "파이썬에서 시작된 고성능 정렬 알고리즘, 팀소트(Timsort) 살펴보기  \n",
    "\n",
    "#### 1. sorted() 함수를 이용한 파이썬 리스트 정렬"
   ]
  },
  {
   "cell_type": "code",
   "execution_count": 57,
   "metadata": {},
   "outputs": [
    {
     "name": "stdout",
     "output_type": "stream",
     "text": [
      "[1, 2, 5, 7, 9]\n"
     ]
    }
   ],
   "source": [
    "# 숫자 정렬\n",
    "a = [2,5,1,9,7]\n",
    "a1 = sorted(a)\n",
    "print(a1)"
   ]
  },
  {
   "cell_type": "code",
   "execution_count": 56,
   "metadata": {},
   "outputs": [
    {
     "name": "stdout",
     "output_type": "stream",
     "text": [
      "['a', 'b', 'd', 'f', 'z']\n"
     ]
    }
   ],
   "source": [
    "# 문자 정렬\n",
    "b = 'zbdaf'\n",
    "b1 = sorted(b)\n",
    "print(b1)"
   ]
  },
  {
   "cell_type": "markdown",
   "metadata": {},
   "source": [
    "#### 2. join() 함수로 리스트를 문자열로 결합"
   ]
  },
  {
   "cell_type": "code",
   "execution_count": 55,
   "metadata": {},
   "outputs": [
    {
     "name": "stdout",
     "output_type": "stream",
     "text": [
      "abdfz\n"
     ]
    }
   ],
   "source": [
    "b = 'zbdaf'\n",
    "b1 = \"\".join(sorted(b))\n",
    "print(b1)"
   ]
  },
  {
   "cell_type": "markdown",
   "metadata": {},
   "source": [
    "#### 3. sort() 함수로 리스트 자체를 정렬\n",
    "- 제자리 정렬(In-place Sort): 입력을 출력으로 덮어 쓰기 때문에 별도의 추가 공간이 필요하지 않고 리턴값이 없음"
   ]
  },
  {
   "cell_type": "code",
   "execution_count": 71,
   "metadata": {},
   "outputs": [
    {
     "name": "stdout",
     "output_type": "stream",
     "text": [
      "['aaaa', 'bb', 'ccc', 'd']\n"
     ]
    }
   ],
   "source": [
    "# 알파벳 순서대로 정렬하기\n",
    "c = ['ccc', 'aaaa', 'd', 'bb']\n",
    "c1 = sorted(c)\n",
    "print(c1)"
   ]
  },
  {
   "cell_type": "code",
   "execution_count": 70,
   "metadata": {},
   "outputs": [
    {
     "name": "stdout",
     "output_type": "stream",
     "text": [
      "['d', 'bb', 'ccc', 'aaaa']\n"
     ]
    }
   ],
   "source": [
    "# 정렬을 위한 함수로 길이를 구하는 len을 지정\n",
    "# → 알파벳 순서가 아닌 길이 순서로 정렬됨\n",
    "c = ['ccc', 'aaaa', 'd', 'bb']\n",
    "c1 = sorted(c, key=len)\n",
    "print(c1)"
   ]
  },
  {
   "cell_type": "code",
   "execution_count": 72,
   "metadata": {},
   "outputs": [],
   "source": [
    "# 함수로 첫 문자열과 마지막 문자열 순으로 정렬\n",
    "# 첫 문자열: (s[0]), 마지막 문자열: (s[-1])"
   ]
  },
  {
   "cell_type": "code",
   "execution_count": 74,
   "metadata": {},
   "outputs": [
    {
     "name": "stdout",
     "output_type": "stream",
     "text": [
      "['abc', 'cfc', 'cde']\n"
     ]
    }
   ],
   "source": [
    "a = ['cde', 'cfc', 'abc']\n",
    "\n",
    "def fn(s):\n",
    "    return s[0], s[-1]\n",
    "\n",
    "print(sorted(a, key=fn))"
   ]
  },
  {
   "cell_type": "markdown",
   "metadata": {},
   "source": [
    "#### 4. 람다를 이용하여 정렬 처리"
   ]
  },
  {
   "cell_type": "code",
   "execution_count": 75,
   "metadata": {},
   "outputs": [
    {
     "data": {
      "text/plain": [
       "['abc', 'cfc', 'cde']"
      ]
     },
     "execution_count": 75,
     "metadata": {},
     "output_type": "execute_result"
    }
   ],
   "source": [
    "a = ['cde', 'cfc', 'abc']\n",
    "sorted(a, key=lambda s: (s[0], s[-1]))"
   ]
  },
  {
   "cell_type": "markdown",
   "metadata": {},
   "source": [
    "## 06. 가장 긴 팰린드롬 부분 문자열\n",
    "Q. 가장 긴 팰린드롬 부분 문자열을 출력하라.  \n",
    "\n",
    "**- 입력**  \n",
    "예제 1: \"babad\"  \n",
    "예제 2: \"cbbd\""
   ]
  },
  {
   "cell_type": "markdown",
   "metadata": {},
   "source": [
    "### 풀이 1. 중앙을 중심으로 확장하는 풀이\n",
    "- 최장 공통 부분 문자열(Longest Common Substring)\n",
    "  - 여러 개의 입력 문자열이 있을 때, 서로 공통된 가장 긴 부분 문자열을 찾는 문제"
   ]
  },
  {
   "cell_type": "code",
   "execution_count": 85,
   "metadata": {},
   "outputs": [
    {
     "name": "stdout",
     "output_type": "stream",
     "text": [
      "bab\n",
      "bb\n"
     ]
    }
   ],
   "source": [
    "class Solution:\n",
    "    def longestPalindrome(self, s: str) -> str:\n",
    "        # 팰린드롬 판별 및 투 포인터 확장\n",
    "        def expand(left: int, right: int) -> str:\n",
    "            while left >= 0 and right < len(s) and s[left] == s[right]:\n",
    "                left -= 1\n",
    "                right += 1\n",
    "            return s[left + 1:right]\n",
    "\n",
    "        # 해당 사항이 없을때 빠르게 리턴\n",
    "        if len(s) < 2 or s == s[::-1]:\n",
    "            return s\n",
    "\n",
    "        result = ''\n",
    "        # 슬라이딩 윈도우 우측으로 이동\n",
    "        for i in range(len(s) - 1):\n",
    "            result = max(result,\n",
    "                         expand(i, i + 1),\n",
    "                         expand(i, i + 2),\n",
    "                         key=len)\n",
    "        return result\n",
    "\n",
    "if __name__ == '__main__':\n",
    "  s = Solution()\n",
    "  print(s.longestPalindrome(\"babad\"))\n",
    "  print(s.longestPalindrome(\"cbbd\"))    "
   ]
  }
 ],
 "metadata": {
  "kernelspec": {
   "display_name": "Python 3",
   "language": "python",
   "name": "python3"
  },
  "language_info": {
   "codemirror_mode": {
    "name": "ipython",
    "version": 3
   },
   "file_extension": ".py",
   "mimetype": "text/x-python",
   "name": "python",
   "nbconvert_exporter": "python",
   "pygments_lexer": "ipython3",
   "version": "3.8.3"
  }
 },
 "nbformat": 4,
 "nbformat_minor": 4
}
