{
 "cells": [
  {
   "cell_type": "code",
   "execution_count": 14,
   "metadata": {},
   "outputs": [],
   "source": [
    "# CHAPTER 01. 파이썬 기반의 머신러닝과 생태계 이해\n",
    "# 03. 넘파이\n",
    "\n",
    "# Numerical Python을 의미하는 Numpy는 파이썬에서 선형대수 기반 프로그램을 쉽게 만들도록 지원하는 패키지\n",
    "# 루프를 사용하지 않고 대량 데이터이 배열 연산이 가능 -> 빠른 배열 연산 속도 보장\n",
    "# 넘파이는 C/C++과 같은 저수준 언어 기반의 호환 API를 제공\n",
    "# 본 교재에서는 넘파이의 기본 지식과 넘파이 API만 설명"
   ]
  },
  {
   "cell_type": "code",
   "execution_count": null,
   "metadata": {},
   "outputs": [],
   "source": [
    "import numpy as np # 넘파이: ndarray를 이용하면 넘파이에서 다차원(Multi-dimension) 배열 생성 & 연산 수행 가능"
   ]
  },
  {
   "cell_type": "code",
   "execution_count": 9,
   "metadata": {},
   "outputs": [
    {
     "name": "stdout",
     "output_type": "stream",
     "text": [
      "array1 tpe: <class 'numpy.ndarray'>\n",
      "array1 array 형태: (3,)\n",
      "array2 type: <class 'numpy.ndarray'>\n",
      "array2 array 형태: (2, 3)\n",
      "array3 type: <class 'numpy.ndarray'>\n",
      "array array 형태: (1, 3)\n"
     ]
    }
   ],
   "source": [
    "# 1. 넘파이 ndarray 개요\n",
    "\n",
    "# np.array 사용법: ndarray로 변환 원하는 객체를 인자로 입력하면 ndarray를 반환\n",
    "# ndarray.shape는 ndarray의 차원과 크기를 튜플(tuple) 형태로 출력\n",
    "\n",
    "# array 3개 만들어보기\n",
    "array1 = np.array([1, 2, 3])\n",
    "print('array1 tpe:', type(array1))\n",
    "print('array1 array 형태:', array1.shape)\n",
    "\n",
    "array2 = np.array([[1, 2, 3],\n",
    "                    [2, 3, 4]])\n",
    "print('array2 type:', type(array2))\n",
    "print('array2 array 형태:', array2.shape)\n",
    "\n",
    "array3 = np.array([[1, 2, 3]])\n",
    "print('array3 type:', type(array3))\n",
    "print('array array 형태:', array3.shape)\n",
    "\n",
    "# [1. 2. 3]인 array1의 shape은 (3,): 1차원 array로 3개의 데이터를 가지고 있음\n",
    "# [[1, 2, 3], [2, 3, 4]]인 array2의 shape은 (2, 3): 2차원 array로 row 2개, column 3개로 구성되어 2 * 3 = 6개의 데이터를 가지고 있음\n",
    "# [[1, 2, 3]]인 array3의 shape은 (1, 3): row 1개, column 3개로 구성된 2차원 데이터를 의미\n",
    "# array1과 array3은 동일한 데이터 건수를 가지고 있지만, array1은 명확히 1차원이고 array3은 2차원임"
   ]
  },
  {
   "cell_type": "code",
   "execution_count": 12,
   "metadata": {},
   "outputs": [
    {
     "name": "stdout",
     "output_type": "stream",
     "text": [
      "array1: 1차원, array2: 2차원, array3:  2차원\n"
     ]
    }
   ],
   "source": [
    "# 각 array 차원 확인하기: ndarray.ndim 이용\n",
    "print('array1: {:0}차원, array2: {:1}차원, array3: {:2}차원'.format(array1.ndim, array2.ndim, array3.ndim))"
   ]
  },
  {
   "cell_type": "code",
   "execution_count": 16,
   "metadata": {},
   "outputs": [
    {
     "name": "stdout",
     "output_type": "stream",
     "text": [
      "<class 'list'>\n",
      "<class 'numpy.ndarray'>\n",
      "[1 2 3] int32\n"
     ]
    }
   ],
   "source": [
    "# 2. ndarray의 데이터 타입\n",
    "\n",
    "# ndarray 내 데이터값은 숫자 값, 문자열 값, 불 값 등 모두 가능\n",
    "# 숫자형: int형(8bit, 16bit, 32bit), unsigned int형(8bit, 16bit, 32bit), float형(8bit, 16bit, 32bit) + complex 타입도 제공\n",
    "\n",
    "# ndarray 내 데이터 타입은 연산의 특성상 같은 데이터 타입만 가능\n",
    "# -> 한 개의 ndarray 객체에 int와 float가 있을 수 없음\n",
    "# ndarray 내 데이터 타입 확인 방법: dtype 속상으로 확인\n",
    "\n",
    "list1 = [1, 2, 3]\n",
    "print(type(list1))\n",
    "array1 = np.array(list1)\n",
    "print(type(array1))\n",
    "print(array1, array1.dtype)\n",
    "\n",
    "# 리스트 자료형인 list1은 integer 숫자인 1, 2, 3을 값으로 가지고 있고 이를 ndarray로 쉽게 변형할 수 있음\n",
    "# 변경된 ndarray 내 데이터값은 모두 int32형으로 확인"
   ]
  },
  {
   "cell_type": "code",
   "execution_count": 19,
   "metadata": {},
   "outputs": [
    {
     "name": "stdout",
     "output_type": "stream",
     "text": [
      "['1' '2' 'test'] <U11\n",
      "[1. 2. 3.] float64\n"
     ]
    }
   ],
   "source": [
    "# 리스트는 서로 다른 데이터 타입을 가지고 있지만, ndarray 내 데이터 타입은 같은 데이터 타입만 가능\n",
    "# 다른 데이터 유형이 섞인 리스트를 ndarray로 변경하면 데이터 크기가 큰 데이터 타입으로 일괄 형 변형이 진행됨\n",
    "\n",
    "list2 = [1, 2, 'test']\n",
    "array2 = np.array(list2)\n",
    "print(array2, array2.dtype)\n",
    "# -> int형 값과 문자열이 섞인 list2는 숫자형 값 1, 2가 모두 문자열 값으로 변환됨\n",
    "\n",
    "list3 = [1, 2, 3.0]\n",
    "array3 = np.array(list3)\n",
    "print(array3, array3.dtype)\n",
    "# -> int형과 float 형이 섞인 list3은 int 1, 2가 모두 1. 2.인 float64형으로 변환됨"
   ]
  },
  {
   "cell_type": "code",
   "execution_count": 23,
   "metadata": {},
   "outputs": [
    {
     "name": "stdout",
     "output_type": "stream",
     "text": [
      "[1. 2. 3.] float64\n",
      "[1 2 3] int32\n",
      "[1 2 3] int32\n"
     ]
    }
   ],
   "source": [
    "# ndarray 내 데이터값의 타입 변경: astype() 메서드 이용\n",
    "# astype()에 인자로 원하는 타입을 문자열로 지정하는 방법\n",
    "# 데이터 타입을 변경하는 이유? 대용량 데이터의 ndarray 만들 때 많은 메모리가 사용되는데, 이를 절약해야 할 경우 이용\n",
    "# ex) int형으로 충분한 경우인데, 데이터 타입이 float인 경우 int로 바꾸어 메모리를 절약할 수 있음\n",
    "\n",
    "# int32형 데이터를 float64로 변환\n",
    "array_int = np.array([1, 2, 3])\n",
    "array_float = array_int.astype('float64')\n",
    "print(array_float, array_float.dtype)\n",
    "\n",
    "# float64를 다시 int32로 변경 (float를 int로 변경할 경우, 당연히 소수점 이하는 없어짐)\n",
    "array_int1 = array_float.astype('int32')\n",
    "print(array_int1, array_int1.dtype)\n",
    "\n",
    "# float64를 int32로 변경할 때 소수점 이하 사라지는 것 확인\n",
    "array_float1 = np.array([1.1, 2.1, 3.1])\n",
    "array_int2 = array_float1.astype('int32')\n",
    "print(array_int2, array_int2.dtype)"
   ]
  },
  {
   "cell_type": "code",
   "execution_count": 25,
   "metadata": {},
   "outputs": [
    {
     "name": "stdout",
     "output_type": "stream",
     "text": [
      "[0 1 2 3 4 5 6 7 8 9]\n",
      "int32 (10,)\n"
     ]
    }
   ],
   "source": [
    "# 3. ndarray를 편리하게 생성하기 - arange, zeros, ones\n",
    "\n",
    "# 특정 크기와 차원을 가진 ndarray를 연속값이나 0 또는 1로 초기화하여 쉽게 생성해야 할 필요가 있는 경우 사용\n",
    "# 주로 테스트용 데이터를 만들거나 대규모 데이터를 일괄적으로 초기화해야 할 경우에 사용\n",
    "\n",
    "# arrange(): 파이썬 표준 함수인 range()와 유사한 기능, 0부터 함수 인자 값 -1까지의 값을 순차적으로 ndarry의 데이터값으로 변환\n",
    "\n",
    "sequence_array = np.arange(10)\n",
    "print(sequence_array)\n",
    "print(sequence_array.dtype, sequence_array.shape)\n",
    "\n",
    "# default 함수 인자는 stop 값이며, 0부터 stop 값인 10에서 -1을 더한 9까지의 연속 숫자 값으로 구성된 1차원 ndarray를 만듦\n",
    "# 여기서는 stop 값만 부여했으나, range와 유사하게 start 값도 부여해 0이 아닌 다른 값부터 시작한 연속 값을 부여할 수도 있음"
   ]
  },
  {
   "cell_type": "code",
   "execution_count": 27,
   "metadata": {},
   "outputs": [
    {
     "name": "stdout",
     "output_type": "stream",
     "text": [
      "[[0 0]\n",
      " [0 0]\n",
      " [0 0]]\n",
      "int32 (3, 2)\n",
      "[[1. 1.]\n",
      " [1. 1.]\n",
      " [1. 1.]]\n",
      "float64 (3, 2)\n"
     ]
    }
   ],
   "source": [
    "# zeros(): 함수 인자로 튜플 형태의 shape 값을 입력하면 모든 값을 0으로 채운 해당 shape를 가진 ndarray를 반환\n",
    "\n",
    "zero_array = np.zeros((3, 2), dtype = 'int32')\n",
    "print(zero_array)\n",
    "print(zero_array.dtype, zero_array.shape)\n",
    "\n",
    "# ones(): 함수 인자로 튜플 형태의 shape 값을 입력하면 모든 값을 1로 채운 해당 shape를 가진 ndarray를 반환\n",
    "# 함수 인자로 dtype을 정하지 않으면 default로 float64형의 데이터로 ndarray를 채움\n",
    "\n",
    "one_array = np.ones((3, 2))\n",
    "print(one_array)\n",
    "print(one_array.dtype, one_array.shape)"
   ]
  },
  {
   "cell_type": "code",
   "execution_count": 34,
   "metadata": {},
   "outputs": [
    {
     "name": "stdout",
     "output_type": "stream",
     "text": [
      "array1:\n",
      " [0 1 2 3 4 5 6 7 8 9]\n",
      "array2\"\n",
      " [[0 1 2 3 4]\n",
      " [5 6 7 8 9]]\n",
      "array3:\n",
      " [[0 1]\n",
      " [2 3]\n",
      " [4 5]\n",
      " [6 7]\n",
      " [8 9]]\n"
     ]
    },
    {
     "ename": "ValueError",
     "evalue": "cannot reshape array of size 10 into shape (4,3)",
     "output_type": "error",
     "traceback": [
      "\u001b[1;31m---------------------------------------------------------------------------\u001b[0m",
      "\u001b[1;31mValueError\u001b[0m                                Traceback (most recent call last)",
      "\u001b[1;32m<ipython-input-34-fe53cc3a8680>\u001b[0m in \u001b[0;36m<module>\u001b[1;34m\u001b[0m\n\u001b[0;32m     15\u001b[0m \u001b[1;31m# reshape()는 지정된 사이즈로 변경이 불가능하면 오류 발생\u001b[0m\u001b[1;33m\u001b[0m\u001b[1;33m\u001b[0m\u001b[1;33m\u001b[0m\u001b[0m\n\u001b[0;32m     16\u001b[0m \u001b[1;31m# -> (10, ) 데이터를 (4, 3) shape 형태로 바꿀 수 없음\u001b[0m\u001b[1;33m\u001b[0m\u001b[1;33m\u001b[0m\u001b[1;33m\u001b[0m\u001b[0m\n\u001b[1;32m---> 17\u001b[1;33m \u001b[0marray1\u001b[0m\u001b[1;33m.\u001b[0m\u001b[0mreshape\u001b[0m\u001b[1;33m(\u001b[0m\u001b[1;36m4\u001b[0m\u001b[1;33m,\u001b[0m \u001b[1;36m3\u001b[0m\u001b[1;33m)\u001b[0m\u001b[1;33m\u001b[0m\u001b[1;33m\u001b[0m\u001b[0m\n\u001b[0m",
      "\u001b[1;31mValueError\u001b[0m: cannot reshape array of size 10 into shape (4,3)"
     ]
    }
   ],
   "source": [
    "# 4. ndarray의 차원과 크기를 변경하는 reshape()\n",
    "\n",
    "# reshape(): ndarray를 특정 차원 및 크기로 변환, 변환을 원하는 크기를 함수 인자로 부여하면 됨\n",
    "\n",
    "# 0 - 9까지의 1차원 ndarray를 2 row x 5 column과 5 row * 2 column 형태로 2차원 ndarray로 변환하기\n",
    "array1 = np.arange(10)\n",
    "print('array1:\\n', array1)\n",
    "\n",
    "array2 = array1.reshape(2, 5)\n",
    "print('array2\"\\n', array2)\n",
    "\n",
    "array3 = array1.reshape(5, 2)\n",
    "print('array3:\\n', array3)\n",
    "\n",
    "# reshape()는 지정된 사이즈로 변경이 불가능하면 오류 발생\n",
    "# -> (10, ) 데이터를 (4, 3) shape 형태로 바꿀 수 없음\n",
    "array1.reshape(4, 3) # 오류 예제"
   ]
  },
  {
   "cell_type": "code",
   "execution_count": 38,
   "metadata": {},
   "outputs": [
    {
     "name": "stdout",
     "output_type": "stream",
     "text": [
      "[0 1 2 3 4 5 6 7 8 9]\n",
      "array2 shape: (2, 5)\n",
      "array3 shape: (5, 2)\n"
     ]
    },
    {
     "ename": "NameError",
     "evalue": "name 'mp' is not defined",
     "output_type": "error",
     "traceback": [
      "\u001b[1;31m---------------------------------------------------------------------------\u001b[0m",
      "\u001b[1;31mNameError\u001b[0m                                 Traceback (most recent call last)",
      "\u001b[1;32m<ipython-input-38-63a80cb75af0>\u001b[0m in \u001b[0;36m<module>\u001b[1;34m\u001b[0m\n\u001b[0;32m     18\u001b[0m \u001b[1;31m# 물론, -1을 사용하더라도 호환될 수 없는 형태는 변환 불가\u001b[0m\u001b[1;33m\u001b[0m\u001b[1;33m\u001b[0m\u001b[1;33m\u001b[0m\u001b[0m\n\u001b[0;32m     19\u001b[0m \u001b[1;31m# 10개의 1차원 데이터를 고정된 4개의 column을 가진 row로는 변환 불가\u001b[0m\u001b[1;33m\u001b[0m\u001b[1;33m\u001b[0m\u001b[1;33m\u001b[0m\u001b[0m\n\u001b[1;32m---> 20\u001b[1;33m \u001b[0marray1\u001b[0m \u001b[1;33m=\u001b[0m \u001b[0mmp\u001b[0m\u001b[1;33m.\u001b[0m\u001b[0marange\u001b[0m\u001b[1;33m(\u001b[0m\u001b[1;36m10\u001b[0m\u001b[1;33m)\u001b[0m \u001b[1;31m# 오류 예제\u001b[0m\u001b[1;33m\u001b[0m\u001b[1;33m\u001b[0m\u001b[0m\n\u001b[0m\u001b[0;32m     21\u001b[0m \u001b[0marray4\u001b[0m \u001b[1;33m=\u001b[0m \u001b[0marray1\u001b[0m\u001b[1;33m.\u001b[0m\u001b[0mreshape\u001b[0m\u001b[1;33m(\u001b[0m\u001b[1;33m-\u001b[0m\u001b[1;36m1\u001b[0m\u001b[1;33m,\u001b[0m \u001b[1;36m4\u001b[0m\u001b[1;33m)\u001b[0m\u001b[1;33m\u001b[0m\u001b[1;33m\u001b[0m\u001b[0m\n",
      "\u001b[1;31mNameError\u001b[0m: name 'mp' is not defined"
     ]
    }
   ],
   "source": [
    "# reshape()를 더 효율적으로 사용하기: 인자로 -1을 적용하는 경우\n",
    "# -1을 인자로 사용하면 원래 ndarray와 호환되는 새로운 shape로 변환\n",
    "\n",
    "array1 = np.arange(10)\n",
    "print(array1)\n",
    "# 1차원 ndarray로 0 - 9까지의 데이터를 가짐\n",
    "\n",
    "array2 = array1.reshape(-1, 5)\n",
    "print('array2 shape:', array2.shape)\n",
    "# array1.reshape(-1, 5)로 row 인자가 -1, column 인자가 5\n",
    "# -> array1과 호환될 수 있는 2차원 ndarray로 변환하되, 고정된 5개의 cloumn에 맞는 row를 자동으로 새롭게 생성해 변환하라는 의미\n",
    "# -> 10개의 1차원 데이터와 호환될 수 있는 고정된 5개 column에 맞는 row 개수는 2이므로 2 x 5의 2차원 ndarray로 변환\n",
    "\n",
    "array3 = array1.reshape(5, -1)\n",
    "print('array3 shape:', array3.shape)\n",
    "# 10개의 1차원 데이터와 호환될 수 있는 고정된 5개의 row에 맞는 column은 2이므로 5 x 2의 2차원 ndarray로 변환하는 것\n",
    "\n",
    "# 물론, -1을 사용하더라도 호환될 수 없는 형태는 변환 불가\n",
    "# 10개의 1차원 데이터를 고정된 4개의 column을 가진 row로는 변환 불가\n",
    "array1 = mp.arange(10) # 오류 예제\n",
    "array4 = array1.reshape(-1, 4)"
   ]
  },
  {
   "cell_type": "code",
   "execution_count": 41,
   "metadata": {},
   "outputs": [
    {
     "name": "stdout",
     "output_type": "stream",
     "text": [
      "array3d:\n",
      " [[[0, 1], [2, 3]], [[4, 5], [6, 7]]]\n",
      "array5:\n",
      " [[0], [1], [2], [3], [4], [5], [6], [7]]\n",
      "array5 shape: (8, 1)\n",
      "array6:\n",
      " [[0], [1], [2], [3], [4], [5], [6], [7]]\n",
      "array6 shape: (8, 1)\n"
     ]
    }
   ],
   "source": [
    "# -1 인자는 reshape(-1, 1)와 같은 형태로 자주 사용\n",
    "# reshape(-1, 1): 원본 ndarray가 어떤 형태라도 2차원이고, 여러 개의 row를 가지되 반드시 1개의 column을 가진 ndarray로 변환됨을 보장\n",
    "\n",
    "# reshape(-1, 1)을 이용해 3차원으로 2차원으로, 1차원을 2차원으로 변경\n",
    "array1 = np.arange(8)\n",
    "array3d = array1.reshape((2, 2, 2))\n",
    "print('array3d:\\n', array3d.tolist())\n",
    "\n",
    "# 3차원 ndarray를 2차원 ndarray로 변환\n",
    "array5 = array3d.reshape(-1, 1)\n",
    "print('array5:\\n', array5.tolist())\n",
    "print('array5 shape:', array5.shape)\n",
    "\n",
    "# 1차원 ndarray를 2차원 ndarray로 변환\n",
    "array6 = array1.reshape(-1, 1)\n",
    "print('array6:\\n', array6.tolist())\n",
    "print('array6 shape:', array6.shape)"
   ]
  },
  {
   "cell_type": "code",
   "execution_count": 47,
   "metadata": {},
   "outputs": [
    {
     "name": "stdout",
     "output_type": "stream",
     "text": [
      "array1: [1 2 3 4 5 6 7 8 9]\n",
      "value: 3\n",
      "<class 'numpy.int32'>\n",
      "맨 뒤의 값: 9 맨 뒤에서 두 번째 값: 8\n",
      "array1: [9 2 3 4 5 6 7 8 0]\n",
      "[[1 2 3]\n",
      " [4 5 6]\n",
      " [7 8 9]]\n",
      "(row = 0, col = 0) index 가리키는 값: 1\n",
      "(row = 0, col = 1) index 가리키는 값: 2\n",
      "(row = 1, col = 0) index 가리키는 값: 4\n",
      "(row = 2, col = 2) index 가리키는 값: 9\n"
     ]
    }
   ],
   "source": [
    "# 5. 넘파이의 ndarray의 데이터 세트 선택하기 - 인덱싱(Indexing)\n",
    "\n",
    "# 인덱싱: 넘파이에서 ndarray 내 일부 데이터 세트나 특정 데이터만을 선택할 수 있도록 함\n",
    "# (1) 특정 데이터만 추출: 원하는 위치의 인덱스 값을 지정하면 해당 위치의 데이터가 반환\n",
    "# (2) 슬라이싱(Slicing): 슬라이싱은 연속된 인덱스상의 ndarray를 추출하는 방식\n",
    "# ':' 기호 사이에 시작 인덱스와 종료 인덱스를 표시하면 시작 인덱스에서 종료 인덱스 -1 위치에 있는 데이터의 ndarray를 반환\n",
    "# ex) 1:5라고 하면 시작 인덱스 1과 종료 인덱스 4까지에 해당하는 ndarray를 반환\n",
    "# (3) 팬시 인덱싱(Fancy Indexing): 일정한 인덱싱 집합을 리스트 또는 ndarray 형태로 지정해 해당 위치 데이터의 ndarray를 반환\n",
    "# (4) 불린 인덱싱(Boolean Indexing): 조건 해당 여부인 True/False 값 인덱싱 집합 기반, True에 해당하는 인덱스 위치 데이터의 ndarray를 반환\n",
    "\n",
    "# 단일 값 추출\n",
    "# 1개의 데이터값을 선택하려면 ndarray 객체에 해당하는 위치 인덱스 값을 [] 안에 입력해야 함\n",
    "\n",
    "# 1부터 9까지의 1차원 ndarray 생성\n",
    "array1 = np.arange(start = 1, stop = 10)\n",
    "print('array1:', array1)\n",
    "\n",
    "# index는 0부터 시작하므로 array1[2]는 3번째 index 위치의 데이터값을 의미\n",
    "value = array1[2]\n",
    "print('value:', value)\n",
    "print(type(value))\n",
    "\n",
    "# index에 마이너스 기호를 이용하면 맨 뒤에서부터 데이터 추출 가능\n",
    "# 인덱스 -1은 맨 뒤의 데이터값을 의미\n",
    "print('맨 뒤의 값:', array1[-1], '맨 뒤에서 두 번째 값:', array1[-2])\n",
    "\n",
    "# 단일 인덱스를 이용해 ndarray 내 데이터값도 간단히 수정 가능\n",
    "array1[0] = 9\n",
    "array1[8] = 0\n",
    "print('array1:', array1)\n",
    "\n",
    "# 다차원 ndarray에서 단일 값 추출하기\n",
    "array1d = np.arange(start = 1, stop = 10)\n",
    "array2d = array1d.reshape(3, 3)\n",
    "print(array2d)\n",
    "\n",
    "print('(row = 0, col = 0) index 가리키는 값:', array2d[0, 0])\n",
    "print('(row = 0, col = 1) index 가리키는 값:', array2d[0, 1])\n",
    "print('(row = 1, col = 0) index 가리키는 값:', array2d[1, 0])\n",
    "print('(row = 2, col = 2) index 가리키는 값:', array2d[2, 2])"
   ]
  }
 ],
 "metadata": {
  "kernelspec": {
   "display_name": "Python 3",
   "language": "python",
   "name": "python3"
  },
  "language_info": {
   "codemirror_mode": {
    "name": "ipython",
    "version": 3
   },
   "file_extension": ".py",
   "mimetype": "text/x-python",
   "name": "python",
   "nbconvert_exporter": "python",
   "pygments_lexer": "ipython3",
   "version": "3.8.3"
  }
 },
 "nbformat": 4,
 "nbformat_minor": 4
}
