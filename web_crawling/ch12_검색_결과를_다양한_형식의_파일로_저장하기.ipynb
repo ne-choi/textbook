{
 "cells": [
  {
   "cell_type": "markdown",
   "metadata": {},
   "source": [
    "- 『데이터 수집으로 상처입은 초보를 위한 책, 완전 친절한 파이썬- 웹크롤러 대마왕편』 공부를 위해 요약한 정리 자료입니다. 저작권은 [가치랩스 기술연구소](https://cafe.naver.com/gachilabs?iframe_url=/MyCafeIntro.nhn%3Fclubid=29535688)에 있습니다.\n",
    "\n",
    "# 12. 검색 결과를 다양한 형식의 파일로 저장하기\n",
    "## 1. 이번 장에서 배울 내용\n",
    "### 1) 학습 목표\n",
    "1. 검색된 결과에서 항목별로 데이터를 추출할 수 있다.\n",
    "2. 항목별로 추출된 데이터를 표 형태로 만들어 다양한 형식의 파일로 저장할 수 있다.\n",
    "3. 기존에 저장된 xls 형식 파일을 열어서 추가 및 수정 후 저장할 수 있다.\n",
    "\n"
   ]
  },
  {
   "cell_type": "code",
   "execution_count": null,
   "metadata": {},
   "outputs": [],
   "source": []
  }
 ],
 "metadata": {
  "kernelspec": {
   "display_name": "Python 3",
   "language": "python",
   "name": "python3"
  },
  "language_info": {
   "codemirror_mode": {
    "name": "ipython",
    "version": 3
   },
   "file_extension": ".py",
   "mimetype": "text/x-python",
   "name": "python",
   "nbconvert_exporter": "python",
   "pygments_lexer": "ipython3",
   "version": "3.8.3"
  }
 },
 "nbformat": 4,
 "nbformat_minor": 4
}
