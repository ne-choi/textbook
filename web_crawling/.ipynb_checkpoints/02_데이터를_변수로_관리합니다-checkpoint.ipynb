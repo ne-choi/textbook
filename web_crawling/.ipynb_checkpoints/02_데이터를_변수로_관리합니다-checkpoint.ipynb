{
 "cells": [
  {
   "cell_type": "markdown",
   "metadata": {},
   "source": [
    "- 『데이터 수집으로 상처입은 초보를 위한 책, 완전 친절한 파이썬- 웹크롤러 대마왕편』 공부를 위해 요약한 정리 자료입니다. \n",
    "\n",
    "\n",
    "# 02. 데이터를 변수로 관리합니다\n",
    "## 1. 변수란 무엇인가요?\n",
    "- 변수: 자료를 관리하기 위해 붙이는 이름\n",
    "\n",
    "## 2. 변수는 어떻게 만들고 사용할까요?\n",
    "- 파이썬에서 변수를 만드는 방법\n",
    "  - 변수명 = 변수에 담을 값\n",
    "\n",
    "- 변수를 만드는 규칙\n",
    "  - 변수이름(그릇이름)은 반드시 영문자나 언더 스코어(_)로 시작해야 하고 숫자나 특수문자로 시작할 수 없음\n",
    "    - 숫자나 특수문자를 변수이름으로 사용하는 것은 가능\n",
    "  - 대문자와 소문자는 다른 글자로 인식\n",
    "  - 파이썬에서 이미 사용되는 단어(예약어)는 변수 이름으로 사용할 수 없음\n",
    "\n",
    "## 3. 다양한 변수 만들어 활용하기\n",
    "### 1) 다양한 연산자 살펴보기\n",
    "\n",
    "기호|설명|사용 예\n",
    ":---:|:---:|:---:\n",
    "+|두 수를 더한 값|a + b\n",
    "-|두 수를 뺄셈한 값|a - b\n",
    "*|두 수를 곱한 값|a * b\n",
    "/|두 수를 나눈 값|a / b\n",
    "%|두 수를 나눈 나머지 값|a % b\n",
    "\n",
    "### 2) 변수값을 화면에 출력하기\n",
    "\n",
    "함수 이름|설명|사용 예\n",
    ":---:|:---:|:---:\n",
    "print( )|변수나 데이터를 화면에 출력합니다|print(\"출력할 문장\"), print(출력할 변수)"
   ]
  },
  {
   "cell_type": "code",
   "execution_count": 1,
   "metadata": {},
   "outputs": [
    {
     "name": "stdout",
     "output_type": "stream",
     "text": [
      "오늘도 행복하세요!\n",
      "내일도 행복하세요!\n"
     ]
    }
   ],
   "source": [
    "# 출력 문장 직접 쓰기\n",
    "print(\"오늘도 행복하세요!\")\n",
    "\n",
    "# 출력할 문장을 변수에 넣고 변수값 출력하기\n",
    "str = \"내일도 행복하세요!\"\n",
    "print(str)"
   ]
  },
  {
   "cell_type": "markdown",
   "metadata": {},
   "source": [
    "- 리터럴 문자와 함께 사용하기\n",
    "\n",
    "포맷|의미\n",
    ":---:|:---:\n",
    "%d|정수 등\n",
    "%f|실수 등\n",
    "%s|문자열(숫자 포함)\n",
    "%c|문자 하나\n",
    "\n",
    "참고: 특수문자 %를 쓰고 싶을 때는 %%라고 쓰기"
   ]
  },
  {
   "cell_type": "code",
   "execution_count": 10,
   "metadata": {},
   "outputs": [
    {
     "name": "stdout",
     "output_type": "stream",
     "text": [
      "배가 너무 고파서 밥을 5그릇도 먹겠어!\n"
     ]
    }
   ],
   "source": [
    "hungry = 5\n",
    "print('배가 너무 고파서 밥을 %s그릇도 먹겠어!' %hungry)"
   ]
  },
  {
   "cell_type": "code",
   "execution_count": null,
   "metadata": {},
   "outputs": [],
   "source": []
  }
 ],
 "metadata": {
  "kernelspec": {
   "display_name": "Python 3",
   "language": "python",
   "name": "python3"
  },
  "language_info": {
   "codemirror_mode": {
    "name": "ipython",
    "version": 3
   },
   "file_extension": ".py",
   "mimetype": "text/x-python",
   "name": "python",
   "nbconvert_exporter": "python",
   "pygments_lexer": "ipython3",
   "version": "3.8.3"
  }
 },
 "nbformat": 4,
 "nbformat_minor": 4
}
