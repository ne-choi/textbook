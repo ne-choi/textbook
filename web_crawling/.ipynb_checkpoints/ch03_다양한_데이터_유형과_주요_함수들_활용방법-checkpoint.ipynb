{
 "cells": [
  {
   "cell_type": "markdown",
   "metadata": {},
   "source": [
    "- 『데이터 수집으로 상처입은 초보를 위한 책, 완전 친절한 파이썬- 웹크롤러 대마왕편』 공부를 위해 요약한 정리 자료입니다. 저작권은 [가치랩스 기술연구소](https://cafe.naver.com/gachilabs?iframe_url=/MyCafeIntro.nhn%3Fclubid=29535688)에 있습니다.\n",
    "\n",
    "\n",
    "# 03. 다양한 데이터 유형과 주요 함수 활용 방법\n",
    "## 1. 숫자형 데이터\n",
    "### 1) 정수형 타입과 주요 연산자 사용 방법\n",
    "- 산술 연산: 숫자를 사용해 연산하는 것\n",
    "\n",
    "연산자|의미|예\n",
    ":---:|:---:|:---:\n",
    "+|더하기|1 + 2\n",
    "-|빼기|2 - 1\n",
    "*|곱하기|2 * 1\n",
    "/|나누기|2 / 1\n",
    "%|나머지 구하기|3 % 2\n",
    "**|승수 구하기|3**4 (3의 4승 구하기)"
   ]
  },
  {
   "cell_type": "code",
   "execution_count": null,
   "metadata": {},
   "outputs": [],
   "source": []
  }
 ],
 "metadata": {
  "kernelspec": {
   "display_name": "Python 3",
   "language": "python",
   "name": "python3"
  },
  "language_info": {
   "codemirror_mode": {
    "name": "ipython",
    "version": 3
   },
   "file_extension": ".py",
   "mimetype": "text/x-python",
   "name": "python",
   "nbconvert_exporter": "python",
   "pygments_lexer": "ipython3",
   "version": "3.8.3"
  }
 },
 "nbformat": 4,
 "nbformat_minor": 4
}
