{
 "cells": [
  {
   "cell_type": "markdown",
   "metadata": {},
   "source": [
    "- 『데이터 수집으로 상처입은 초보를 위한 책, 완전 친절한 파이썬- 웹크롤러 대마왕편』 공부를 위해 요약한 정리 자료입니다. \n",
    "\n",
    "\n",
    "# 02. 데이터를 변수로 관리합니다\n",
    "## 1. 변수란 무엇인가요?\n",
    "- 변수: 자료를 관리하기 위해 붙이는 이름\n",
    "\n",
    "## 2. 변수는 어떻게 만들고 사용할까요?\n",
    "- 파이썬에서 변수를 만드는 방법\n",
    "  - 변수명 = 변수에 담을 값\n",
    "\n",
    "- 변수를 만드는 규칙\n",
    "  - 변수이름(그릇이름)은 반드시 영문자나 언더 스코어(_)로 시작해야 하고 숫자나 특수문자로 시작할 수 없음\n",
    "    - 숫자나 특수문자를 변수이름으로 사용하는 것은 가능\n",
    "  - 대문자와 소문자는 다른 글자로 인식\n",
    "  - 파이썬에서 이미 사용되는 단어(예약어)는 변수 이름으로 사용할 수 없음\n",
    "\n",
    "## 3. 다양한 변수 만들어 활용하기\n",
    "### 1) 다양한 연산자 살펴보기\n",
    "\n",
    "기호|설명|사용 예\n",
    ":---:|:---:|:---:\n",
    "+|두 수를 더한 값|a + b\n",
    "-|두 수를 뺄셈한 값|a - b\n",
    "*|두 수를 곱한 값|a * b\n",
    "/|두 수를 나눈 값|a / b\n",
    "%|두 수를 나눈 나머지 값|a % b\n",
    "\n",
    "### 2) 변수값을 화면에 출력하기\n",
    "\n",
    "함수 이름|설명|사용 예\n",
    ":---:|:---:|:---:\n",
    "print( )|변수나 데이터를 화면에 출력합니다|print(\"출력할 문장\"), print(출력할 변수)"
   ]
  },
  {
   "cell_type": "code",
   "execution_count": 1,
   "metadata": {},
   "outputs": [
    {
     "name": "stdout",
     "output_type": "stream",
     "text": [
      "오늘도 행복하세요!\n",
      "내일도 행복하세요!\n"
     ]
    }
   ],
   "source": [
    "# 출력 문장 직접 쓰기\n",
    "print(\"오늘도 행복하세요!\")\n",
    "\n",
    "# 출력할 문장을 변수에 넣고 변수값 출력하기\n",
    "str = \"내일도 행복하세요!\"\n",
    "print(str)"
   ]
  },
  {
   "cell_type": "markdown",
   "metadata": {},
   "source": [
    "- 리터럴 문자와 함께 사용하기\n",
    "\n",
    "포맷|의미\n",
    ":---:|:---:\n",
    "%d|정수 등\n",
    "%f|실수 등\n",
    "%s|문자열(숫자 포함)\n",
    "%c|문자 하나\n",
    "\n",
    "참고: 특수문자 %를 쓰고 싶을 때는 %%라고 쓰기"
   ]
  },
  {
   "cell_type": "code",
   "execution_count": 10,
   "metadata": {},
   "outputs": [
    {
     "name": "stdout",
     "output_type": "stream",
     "text": [
      "배가 너무 고파서 밥을 5그릇도 먹겠어!\n"
     ]
    }
   ],
   "source": [
    "hungry = 5\n",
    "print('배가 너무 고파서 밥을 %s그릇도 먹겠어!' %hungry)"
   ]
  },
  {
   "cell_type": "markdown",
   "metadata": {},
   "source": [
    "### 3) 사용자에게 값을 입력받아 변수에 저장하기\n",
    "\n",
    "함수 이름|설명|사용 예\n",
    ":---:|:---:|:---:\n",
    "input()|사용자에게 값을 입력받습니다|input()"
   ]
  },
  {
   "cell_type": "code",
   "execution_count": 11,
   "metadata": {},
   "outputs": [
    {
     "name": "stdout",
     "output_type": "stream",
     "text": [
      "자장면\n"
     ]
    }
   ],
   "source": [
    "# input() 함수로 정보 입력받기\n",
    "txt1 = input()"
   ]
  },
  {
   "cell_type": "code",
   "execution_count": 14,
   "metadata": {},
   "outputs": [
    {
     "name": "stdout",
     "output_type": "stream",
     "text": [
      "점심 뭐 드셨어요? \n"
     ]
    }
   ],
   "source": [
    "# input() 함수에서 안내 멘트 보이기\n",
    "txt2 = input('점심 뭐 드셨어요? ')"
   ]
  },
  {
   "cell_type": "code",
   "execution_count": null,
   "metadata": {},
   "outputs": [],
   "source": [
    "# 출력되는 양식을 지정해 정보 입력받기\n",
    "actor_no = input('''\n",
    "1. 강동원 배우님   2. 김선호 배우님   3. 박보검 배우님\n",
    "\n",
    "위 배우 중 나은이가 좋아하는 배우님을 모두 입력하세요: ''')"
   ]
  },
  {
   "cell_type": "markdown",
   "metadata": {},
   "source": [
    "### 4) 연습문제 풀이\n",
    "1. 아래 그림을 참고하여 사용자에게 첫 번째 주물할 메뉴 이름과 두 번째 주문할 메뉴 이름을 입력받은 후 주문 내역을 보여주는 코드를 작성하세요.\n",
    "\n",
    "- 실행 결과\n",
    "첫 번째 주문할 음식은 무엇인가요?: 자장면  \n",
    "두 번째 주문할 음식은 무엇인가요?: 짬뽕  \n",
    "첫 번째 주문한 음식은 자장면이고 두 번째 주문한 음식은 짬뽕입니다."
   ]
  },
  {
   "cell_type": "code",
   "execution_count": 20,
   "metadata": {},
   "outputs": [
    {
     "name": "stdout",
     "output_type": "stream",
     "text": [
      "첫 번째 주문할 음식은 무엇인가요?: 자장면\n",
      "두 번째 주문할 음식은 무엇인가요?: 짬뽕\n"
     ]
    }
   ],
   "source": [
    "menu1 = input('첫 번째 주문할 음식은 무엇인가요?: ')\n",
    "menu2 = input('두 번째 주문할 음식은 무엇인가요?: ')"
   ]
  },
  {
   "cell_type": "code",
   "execution_count": 21,
   "metadata": {},
   "outputs": [
    {
     "ename": "SyntaxError",
     "evalue": "invalid syntax (<ipython-input-21-3bd3bbf40729>, line 1)",
     "output_type": "error",
     "traceback": [
      "\u001b[1;36m  File \u001b[1;32m\"<ipython-input-21-3bd3bbf40729>\"\u001b[1;36m, line \u001b[1;32m1\u001b[0m\n\u001b[1;33m    print('첫 번째 주문한 음식은 ' %menu1'이고 두 번째 주문한 음식은 ' %menu2'입니다.')\u001b[0m\n\u001b[1;37m                                ^\u001b[0m\n\u001b[1;31mSyntaxError\u001b[0m\u001b[1;31m:\u001b[0m invalid syntax\n"
     ]
    }
   ],
   "source": [
    "print('첫 번째 주문한 음식은 ' %menu1'이고 두 번째 주문한 음식은 ' %menu2'입니다.')"
   ]
  },
  {
   "cell_type": "code",
   "execution_count": null,
   "metadata": {},
   "outputs": [],
   "source": []
  }
 ],
 "metadata": {
  "kernelspec": {
   "display_name": "Python 3",
   "language": "python",
   "name": "python3"
  },
  "language_info": {
   "codemirror_mode": {
    "name": "ipython",
    "version": 3
   },
   "file_extension": ".py",
   "mimetype": "text/x-python",
   "name": "python",
   "nbconvert_exporter": "python",
   "pygments_lexer": "ipython3",
   "version": "3.8.3"
  }
 },
 "nbformat": 4,
 "nbformat_minor": 4
}
